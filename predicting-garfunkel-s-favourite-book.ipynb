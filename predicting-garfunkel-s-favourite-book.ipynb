{
 "cells": [
  {
   "cell_type": "code",
   "execution_count": 1,
   "id": "7b1982df",
   "metadata": {
    "_cell_guid": "b1076dfc-b9ad-4769-8c92-a6c4dae69d19",
    "_uuid": "8f2839f25d086af736a60e9eeb907d3b93b6e0e5",
    "execution": {
     "iopub.execute_input": "2022-05-21T21:09:25.972039Z",
     "iopub.status.busy": "2022-05-21T21:09:25.971219Z",
     "iopub.status.idle": "2022-05-21T21:09:27.174848Z",
     "shell.execute_reply": "2022-05-21T21:09:27.174211Z"
    },
    "papermill": {
     "duration": 1.255536,
     "end_time": "2022-05-21T21:09:27.177091",
     "exception": false,
     "start_time": "2022-05-21T21:09:25.921555",
     "status": "completed"
    },
    "tags": []
   },
   "outputs": [
    {
     "name": "stdout",
     "output_type": "stream",
     "text": [
      "/kaggle/input/art-garfunkels-library/Art Garfunkel Library.csv\n"
     ]
    }
   ],
   "source": [
    "# libraries for data handling\n",
    "import numpy as np # linear algebra\n",
    "import pandas as pd # data processing, CSV file I/O (e.g. pd.read_csv)\n",
    "\n",
    "# libraries specific for Kaggle\n",
    "import os\n",
    "for dirname, _, filenames in os.walk('/kaggle/input'):\n",
    "    for filename in filenames:\n",
    "        print(os.path.join(dirname, filename))\n",
    "\n",
    "# libraries for visualisation\n",
    "import matplotlib.pyplot as plt\n",
    "import seaborn as sns\n",
    "%matplotlib inline\n"
   ]
  },
  {
   "cell_type": "code",
   "execution_count": 2,
   "id": "fa341cb5",
   "metadata": {
    "execution": {
     "iopub.execute_input": "2022-05-21T21:09:27.274972Z",
     "iopub.status.busy": "2022-05-21T21:09:27.274447Z",
     "iopub.status.idle": "2022-05-21T21:09:27.290119Z",
     "shell.execute_reply": "2022-05-21T21:09:27.289428Z"
    },
    "papermill": {
     "duration": 0.06605,
     "end_time": "2022-05-21T21:09:27.292269",
     "exception": false,
     "start_time": "2022-05-21T21:09:27.226219",
     "status": "completed"
    },
    "tags": []
   },
   "outputs": [],
   "source": [
    "df = pd.read_csv(\"/kaggle/input/art-garfunkels-library/Art Garfunkel Library.csv\")"
   ]
  },
  {
   "cell_type": "code",
   "execution_count": 3,
   "id": "110f8609",
   "metadata": {
    "execution": {
     "iopub.execute_input": "2022-05-21T21:09:27.389630Z",
     "iopub.status.busy": "2022-05-21T21:09:27.388865Z",
     "iopub.status.idle": "2022-05-21T21:09:27.409385Z",
     "shell.execute_reply": "2022-05-21T21:09:27.408703Z"
    },
    "papermill": {
     "duration": 0.071474,
     "end_time": "2022-05-21T21:09:27.411111",
     "exception": false,
     "start_time": "2022-05-21T21:09:27.339637",
     "status": "completed"
    },
    "tags": []
   },
   "outputs": [
    {
     "data": {
      "text/html": [
       "<div>\n",
       "<style scoped>\n",
       "    .dataframe tbody tr th:only-of-type {\n",
       "        vertical-align: middle;\n",
       "    }\n",
       "\n",
       "    .dataframe tbody tr th {\n",
       "        vertical-align: top;\n",
       "    }\n",
       "\n",
       "    .dataframe thead th {\n",
       "        text-align: right;\n",
       "    }\n",
       "</style>\n",
       "<table border=\"1\" class=\"dataframe\">\n",
       "  <thead>\n",
       "    <tr style=\"text-align: right;\">\n",
       "      <th></th>\n",
       "      <th>Date Read</th>\n",
       "      <th>Author</th>\n",
       "      <th>Books</th>\n",
       "      <th>Year Published</th>\n",
       "      <th>Pages</th>\n",
       "      <th>Favorite</th>\n",
       "    </tr>\n",
       "  </thead>\n",
       "  <tbody>\n",
       "    <tr>\n",
       "      <th>0</th>\n",
       "      <td>Jun-68</td>\n",
       "      <td>Jean-Jacques Rousseau</td>\n",
       "      <td>The Confessions</td>\n",
       "      <td>1781</td>\n",
       "      <td>606</td>\n",
       "      <td>1</td>\n",
       "    </tr>\n",
       "    <tr>\n",
       "      <th>1</th>\n",
       "      <td>Jun-68</td>\n",
       "      <td>Erich Fromm</td>\n",
       "      <td>The Art of Loving</td>\n",
       "      <td>1956</td>\n",
       "      <td>146</td>\n",
       "      <td>1</td>\n",
       "    </tr>\n",
       "    <tr>\n",
       "      <th>2</th>\n",
       "      <td>Jun-68</td>\n",
       "      <td>Mark Twain</td>\n",
       "      <td>The Adventures of Huckleberry Finn</td>\n",
       "      <td>1884</td>\n",
       "      <td>288</td>\n",
       "      <td>0</td>\n",
       "    </tr>\n",
       "    <tr>\n",
       "      <th>3</th>\n",
       "      <td>Jul-68</td>\n",
       "      <td>James Thurber</td>\n",
       "      <td>My Life and Hard Times</td>\n",
       "      <td>1933</td>\n",
       "      <td>115</td>\n",
       "      <td>0</td>\n",
       "    </tr>\n",
       "    <tr>\n",
       "      <th>4</th>\n",
       "      <td>Jul-68</td>\n",
       "      <td>William Shakespeare</td>\n",
       "      <td>Romeo and Juliet</td>\n",
       "      <td>1596</td>\n",
       "      <td>146</td>\n",
       "      <td>0</td>\n",
       "    </tr>\n",
       "  </tbody>\n",
       "</table>\n",
       "</div>"
      ],
      "text/plain": [
       "  Date Read                 Author                               Books  \\\n",
       "0    Jun-68  Jean-Jacques Rousseau                     The Confessions   \n",
       "1    Jun-68            Erich Fromm                   The Art of Loving   \n",
       "2    Jun-68             Mark Twain  The Adventures of Huckleberry Finn   \n",
       "3    Jul-68          James Thurber              My Life and Hard Times   \n",
       "4    Jul-68    William Shakespeare                    Romeo and Juliet   \n",
       "\n",
       "  Year Published  Pages  Favorite  \n",
       "0           1781    606         1  \n",
       "1           1956    146         1  \n",
       "2           1884    288         0  \n",
       "3           1933    115         0  \n",
       "4           1596    146         0  "
      ]
     },
     "execution_count": 3,
     "metadata": {},
     "output_type": "execute_result"
    }
   ],
   "source": [
    "df.head()"
   ]
  },
  {
   "cell_type": "code",
   "execution_count": 4,
   "id": "4b645b5d",
   "metadata": {
    "execution": {
     "iopub.execute_input": "2022-05-21T21:09:27.508906Z",
     "iopub.status.busy": "2022-05-21T21:09:27.508355Z",
     "iopub.status.idle": "2022-05-21T21:09:27.532814Z",
     "shell.execute_reply": "2022-05-21T21:09:27.531817Z"
    },
    "papermill": {
     "duration": 0.076557,
     "end_time": "2022-05-21T21:09:27.536070",
     "exception": false,
     "start_time": "2022-05-21T21:09:27.459513",
     "status": "completed"
    },
    "tags": []
   },
   "outputs": [
    {
     "name": "stdout",
     "output_type": "stream",
     "text": [
      "<class 'pandas.core.frame.DataFrame'>\n",
      "RangeIndex: 1321 entries, 0 to 1320\n",
      "Data columns (total 6 columns):\n",
      " #   Column          Non-Null Count  Dtype \n",
      "---  ------          --------------  ----- \n",
      " 0   Date Read       1321 non-null   object\n",
      " 1   Author          1321 non-null   object\n",
      " 2   Books           1321 non-null   object\n",
      " 3   Year Published  1321 non-null   object\n",
      " 4   Pages           1321 non-null   int64 \n",
      " 5   Favorite        1321 non-null   int64 \n",
      "dtypes: int64(2), object(4)\n",
      "memory usage: 62.0+ KB\n"
     ]
    }
   ],
   "source": [
    "df.info()"
   ]
  },
  {
   "cell_type": "markdown",
   "id": "dd108133",
   "metadata": {
    "papermill": {
     "duration": 0.047497,
     "end_time": "2022-05-21T21:09:27.632397",
     "exception": false,
     "start_time": "2022-05-21T21:09:27.584900",
     "status": "completed"
    },
    "tags": []
   },
   "source": [
    "## Books"
   ]
  },
  {
   "cell_type": "code",
   "execution_count": 5,
   "id": "87c160ac",
   "metadata": {
    "execution": {
     "iopub.execute_input": "2022-05-21T21:09:27.732341Z",
     "iopub.status.busy": "2022-05-21T21:09:27.731723Z",
     "iopub.status.idle": "2022-05-21T21:09:27.737081Z",
     "shell.execute_reply": "2022-05-21T21:09:27.736475Z"
    },
    "papermill": {
     "duration": 0.058364,
     "end_time": "2022-05-21T21:09:27.738879",
     "exception": false,
     "start_time": "2022-05-21T21:09:27.680515",
     "status": "completed"
    },
    "tags": []
   },
   "outputs": [
    {
     "data": {
      "text/plain": [
       "1305"
      ]
     },
     "execution_count": 5,
     "metadata": {},
     "output_type": "execute_result"
    }
   ],
   "source": [
    "df[\"Books\"].nunique()"
   ]
  },
  {
   "cell_type": "code",
   "execution_count": 6,
   "id": "dcbf3e17",
   "metadata": {
    "execution": {
     "iopub.execute_input": "2022-05-21T21:09:27.838039Z",
     "iopub.status.busy": "2022-05-21T21:09:27.837515Z",
     "iopub.status.idle": "2022-05-21T21:09:27.845289Z",
     "shell.execute_reply": "2022-05-21T21:09:27.844462Z"
    },
    "papermill": {
     "duration": 0.060147,
     "end_time": "2022-05-21T21:09:27.847183",
     "exception": false,
     "start_time": "2022-05-21T21:09:27.787036",
     "status": "completed"
    },
    "tags": []
   },
   "outputs": [
    {
     "data": {
      "text/plain": [
       "The Confessions                               3\n",
       "Autobiography                                 3\n",
       "The Last Interview                            2\n",
       "Othello                                       2\n",
       "The Europeans                                 2\n",
       "                                             ..\n",
       "The Solace of Open Spaces                     1\n",
       "Notes from the Underground                    1\n",
       "Tom Sawyer Abroad and Tom Sawyer Detective    1\n",
       "Singers and the Song                          1\n",
       "Saving Freedom                                1\n",
       "Name: Books, Length: 1305, dtype: int64"
      ]
     },
     "execution_count": 6,
     "metadata": {},
     "output_type": "execute_result"
    }
   ],
   "source": [
    "df[\"Books\"].value_counts()"
   ]
  },
  {
   "cell_type": "code",
   "execution_count": 7,
   "id": "50294dd1",
   "metadata": {
    "execution": {
     "iopub.execute_input": "2022-05-21T21:09:27.945809Z",
     "iopub.status.busy": "2022-05-21T21:09:27.945299Z",
     "iopub.status.idle": "2022-05-21T21:09:27.956857Z",
     "shell.execute_reply": "2022-05-21T21:09:27.956288Z"
    },
    "papermill": {
     "duration": 0.062127,
     "end_time": "2022-05-21T21:09:27.958675",
     "exception": false,
     "start_time": "2022-05-21T21:09:27.896548",
     "status": "completed"
    },
    "tags": []
   },
   "outputs": [
    {
     "data": {
      "text/html": [
       "<div>\n",
       "<style scoped>\n",
       "    .dataframe tbody tr th:only-of-type {\n",
       "        vertical-align: middle;\n",
       "    }\n",
       "\n",
       "    .dataframe tbody tr th {\n",
       "        vertical-align: top;\n",
       "    }\n",
       "\n",
       "    .dataframe thead th {\n",
       "        text-align: right;\n",
       "    }\n",
       "</style>\n",
       "<table border=\"1\" class=\"dataframe\">\n",
       "  <thead>\n",
       "    <tr style=\"text-align: right;\">\n",
       "      <th></th>\n",
       "      <th>Date Read</th>\n",
       "      <th>Author</th>\n",
       "      <th>Books</th>\n",
       "      <th>Year Published</th>\n",
       "      <th>Pages</th>\n",
       "      <th>Favorite</th>\n",
       "    </tr>\n",
       "  </thead>\n",
       "  <tbody>\n",
       "    <tr>\n",
       "      <th>167</th>\n",
       "      <td>Dec-79</td>\n",
       "      <td>W.B. Yeats</td>\n",
       "      <td>Autobiography</td>\n",
       "      <td>1922</td>\n",
       "      <td>387</td>\n",
       "      <td>0</td>\n",
       "    </tr>\n",
       "    <tr>\n",
       "      <th>192</th>\n",
       "      <td>Jul-81</td>\n",
       "      <td>Benvenuto Cellini</td>\n",
       "      <td>Autobiography</td>\n",
       "      <td>1562</td>\n",
       "      <td>397</td>\n",
       "      <td>0</td>\n",
       "    </tr>\n",
       "    <tr>\n",
       "      <th>262</th>\n",
       "      <td>Sep-83</td>\n",
       "      <td>Aaron Copland</td>\n",
       "      <td>Copland on Music</td>\n",
       "      <td>1959</td>\n",
       "      <td>280</td>\n",
       "      <td>0</td>\n",
       "    </tr>\n",
       "    <tr>\n",
       "      <th>1192</th>\n",
       "      <td>Oct-13</td>\n",
       "      <td>Witold Gombrowicz</td>\n",
       "      <td>Cosmos</td>\n",
       "      <td>1967</td>\n",
       "      <td>208</td>\n",
       "      <td>0</td>\n",
       "    </tr>\n",
       "    <tr>\n",
       "      <th>836</th>\n",
       "      <td>Dec-00</td>\n",
       "      <td>Sir Harold Nicolson</td>\n",
       "      <td>Diplomacy</td>\n",
       "      <td>1939</td>\n",
       "      <td>151</td>\n",
       "      <td>0</td>\n",
       "    </tr>\n",
       "  </tbody>\n",
       "</table>\n",
       "</div>"
      ],
      "text/plain": [
       "     Date Read               Author             Books Year Published  Pages  \\\n",
       "167     Dec-79           W.B. Yeats     Autobiography           1922    387   \n",
       "192     Jul-81    Benvenuto Cellini     Autobiography           1562    397   \n",
       "262     Sep-83        Aaron Copland  Copland on Music           1959    280   \n",
       "1192    Oct-13    Witold Gombrowicz            Cosmos           1967    208   \n",
       "836     Dec-00  Sir Harold Nicolson         Diplomacy           1939    151   \n",
       "\n",
       "      Favorite  \n",
       "167          0  \n",
       "192          0  \n",
       "262          0  \n",
       "1192         0  \n",
       "836          0  "
      ]
     },
     "execution_count": 7,
     "metadata": {},
     "output_type": "execute_result"
    }
   ],
   "source": [
    "df[df[\"Books\"].duplicated()].sort_values(by = \"Books\").head()"
   ]
  },
  {
   "cell_type": "code",
   "execution_count": 8,
   "id": "445e2a2b",
   "metadata": {
    "execution": {
     "iopub.execute_input": "2022-05-21T21:09:28.056832Z",
     "iopub.status.busy": "2022-05-21T21:09:28.056318Z",
     "iopub.status.idle": "2022-05-21T21:09:28.067021Z",
     "shell.execute_reply": "2022-05-21T21:09:28.066126Z"
    },
    "papermill": {
     "duration": 0.061969,
     "end_time": "2022-05-21T21:09:28.069097",
     "exception": false,
     "start_time": "2022-05-21T21:09:28.007128",
     "status": "completed"
    },
    "tags": []
   },
   "outputs": [
    {
     "data": {
      "text/html": [
       "<div>\n",
       "<style scoped>\n",
       "    .dataframe tbody tr th:only-of-type {\n",
       "        vertical-align: middle;\n",
       "    }\n",
       "\n",
       "    .dataframe tbody tr th {\n",
       "        vertical-align: top;\n",
       "    }\n",
       "\n",
       "    .dataframe thead th {\n",
       "        text-align: right;\n",
       "    }\n",
       "</style>\n",
       "<table border=\"1\" class=\"dataframe\">\n",
       "  <thead>\n",
       "    <tr style=\"text-align: right;\">\n",
       "      <th></th>\n",
       "      <th>Date Read</th>\n",
       "      <th>Author</th>\n",
       "      <th>Books</th>\n",
       "      <th>Year Published</th>\n",
       "      <th>Pages</th>\n",
       "      <th>Favorite</th>\n",
       "    </tr>\n",
       "  </thead>\n",
       "  <tbody>\n",
       "    <tr>\n",
       "      <th>49</th>\n",
       "      <td>Jan-71</td>\n",
       "      <td>William Shakespeare</td>\n",
       "      <td>Othello</td>\n",
       "      <td>1602</td>\n",
       "      <td>128</td>\n",
       "      <td>0</td>\n",
       "    </tr>\n",
       "    <tr>\n",
       "      <th>317</th>\n",
       "      <td>Oct-84</td>\n",
       "      <td>William Shakespeare</td>\n",
       "      <td>Othello</td>\n",
       "      <td>1604</td>\n",
       "      <td>154</td>\n",
       "      <td>0</td>\n",
       "    </tr>\n",
       "  </tbody>\n",
       "</table>\n",
       "</div>"
      ],
      "text/plain": [
       "    Date Read               Author    Books Year Published  Pages  Favorite\n",
       "49     Jan-71  William Shakespeare  Othello           1602    128         0\n",
       "317    Oct-84  William Shakespeare  Othello           1604    154         0"
      ]
     },
     "execution_count": 8,
     "metadata": {},
     "output_type": "execute_result"
    }
   ],
   "source": [
    "# different books?\n",
    "df[df[\"Books\"]==\"Othello\"]"
   ]
  },
  {
   "cell_type": "code",
   "execution_count": 9,
   "id": "82b46230",
   "metadata": {
    "execution": {
     "iopub.execute_input": "2022-05-21T21:09:28.167390Z",
     "iopub.status.busy": "2022-05-21T21:09:28.167104Z",
     "iopub.status.idle": "2022-05-21T21:09:28.174092Z",
     "shell.execute_reply": "2022-05-21T21:09:28.173274Z"
    },
    "papermill": {
     "duration": 0.0587,
     "end_time": "2022-05-21T21:09:28.176209",
     "exception": false,
     "start_time": "2022-05-21T21:09:28.117509",
     "status": "completed"
    },
    "tags": []
   },
   "outputs": [
    {
     "data": {
      "text/plain": [
       "0"
      ]
     },
     "execution_count": 9,
     "metadata": {},
     "output_type": "execute_result"
    }
   ],
   "source": [
    "# no fav books in duplicates and therefore favorits dont change between rereads \n",
    "df[df[\"Books\"].duplicated()][\"Favorite\"].sum()"
   ]
  },
  {
   "cell_type": "markdown",
   "id": "4a0112a7",
   "metadata": {
    "papermill": {
     "duration": 0.048861,
     "end_time": "2022-05-21T21:09:28.274052",
     "exception": false,
     "start_time": "2022-05-21T21:09:28.225191",
     "status": "completed"
    },
    "tags": []
   },
   "source": [
    "## Favorite"
   ]
  },
  {
   "cell_type": "code",
   "execution_count": 10,
   "id": "409e391c",
   "metadata": {
    "execution": {
     "iopub.execute_input": "2022-05-21T21:09:28.375636Z",
     "iopub.status.busy": "2022-05-21T21:09:28.375079Z",
     "iopub.status.idle": "2022-05-21T21:09:28.545753Z",
     "shell.execute_reply": "2022-05-21T21:09:28.544932Z"
    },
    "papermill": {
     "duration": 0.224698,
     "end_time": "2022-05-21T21:09:28.548132",
     "exception": false,
     "start_time": "2022-05-21T21:09:28.323434",
     "status": "completed"
    },
    "tags": []
   },
   "outputs": [
    {
     "data": {
      "image/png": "[encoded data removed]",
      "text/plain": [
       "<Figure size 720x576 with 1 Axes>"
      ]
     },
     "metadata": {
      "needs_background": "light"
     },
     "output_type": "display_data"
    }
   ],
   "source": [
    "plt.figure(figsize = (10,8))\n",
    "sns.countplot(x = \"Favorite\", data = df)\n",
    "plt.suptitle(\"Distrubution of Favorite books\")\n",
    "plt.show()"
   ]
  },
  {
   "cell_type": "code",
   "execution_count": 11,
   "id": "efeead5c",
   "metadata": {
    "execution": {
     "iopub.execute_input": "2022-05-21T21:09:28.650579Z",
     "iopub.status.busy": "2022-05-21T21:09:28.649995Z",
     "iopub.status.idle": "2022-05-21T21:09:28.657100Z",
     "shell.execute_reply": "2022-05-21T21:09:28.655899Z"
    },
    "papermill": {
     "duration": 0.061661,
     "end_time": "2022-05-21T21:09:28.659955",
     "exception": false,
     "start_time": "2022-05-21T21:09:28.598294",
     "status": "completed"
    },
    "tags": []
   },
   "outputs": [
    {
     "name": "stdout",
     "output_type": "stream",
     "text": [
      "10.295 % of the books were favorites\n"
     ]
    }
   ],
   "source": [
    "print(round(((df[df[\"Favorite\"] ==1].shape[0]/df.shape[0])*100),3), \"% of the books were favorites\")"
   ]
  },
  {
   "cell_type": "markdown",
   "id": "1ca60cf7",
   "metadata": {
    "papermill": {
     "duration": 0.050588,
     "end_time": "2022-05-21T21:09:28.762352",
     "exception": false,
     "start_time": "2022-05-21T21:09:28.711764",
     "status": "completed"
    },
    "tags": []
   },
   "source": [
    "## Author"
   ]
  },
  {
   "cell_type": "code",
   "execution_count": 12,
   "id": "18e5a27e",
   "metadata": {
    "execution": {
     "iopub.execute_input": "2022-05-21T21:09:28.863406Z",
     "iopub.status.busy": "2022-05-21T21:09:28.863141Z",
     "iopub.status.idle": "2022-05-21T21:09:28.871605Z",
     "shell.execute_reply": "2022-05-21T21:09:28.870554Z"
    },
    "papermill": {
     "duration": 0.061969,
     "end_time": "2022-05-21T21:09:28.873541",
     "exception": false,
     "start_time": "2022-05-21T21:09:28.811572",
     "status": "completed"
    },
    "tags": []
   },
   "outputs": [
    {
     "data": {
      "text/plain": [
       "William Shakespeare      15\n",
       "Charles Dickens          10\n",
       "Jean-Jacques Rousseau     9\n",
       "Marcel Proust             8\n",
       "Various                   7\n",
       "                         ..\n",
       "J.P. Kenyon               1\n",
       "Michel Foucault           1\n",
       "Ian Frazier               1\n",
       "Anne Rice                 1\n",
       "Joe Scarborough           1\n",
       "Name: Author, Length: 966, dtype: int64"
      ]
     },
     "execution_count": 12,
     "metadata": {},
     "output_type": "execute_result"
    }
   ],
   "source": [
    "df[\"Author\"].value_counts()"
   ]
  },
  {
   "cell_type": "code",
   "execution_count": 13,
   "id": "e61a4176",
   "metadata": {
    "execution": {
     "iopub.execute_input": "2022-05-21T21:09:28.976427Z",
     "iopub.status.busy": "2022-05-21T21:09:28.975427Z",
     "iopub.status.idle": "2022-05-21T21:09:28.984899Z",
     "shell.execute_reply": "2022-05-21T21:09:28.984305Z"
    },
    "papermill": {
     "duration": 0.063104,
     "end_time": "2022-05-21T21:09:28.986890",
     "exception": false,
     "start_time": "2022-05-21T21:09:28.923786",
     "status": "completed"
    },
    "tags": []
   },
   "outputs": [
    {
     "data": {
      "text/plain": [
       "Author\n",
       "Marcel Proust                    5\n",
       "L.N. Tolstoy                     4\n",
       "Jean Rhys                        3\n",
       "Vladimir Nabokov                 2\n",
       "Mark Twain                       2\n",
       "                                ..\n",
       "Giambattista Vico                0\n",
       "Giorgio Vasari                   0\n",
       "Giovanni Boccaccio               0\n",
       "Giovanni Pico della Mirandola    0\n",
       "editor, Eric L. McKitrick        0\n",
       "Name: Favorite, Length: 966, dtype: int64"
      ]
     },
     "execution_count": 13,
     "metadata": {},
     "output_type": "execute_result"
    }
   ],
   "source": [
    "# favorite authors exist\n",
    "df.groupby(\"Author\")[\"Favorite\"].sum().sort_values(ascending=False)"
   ]
  },
  {
   "cell_type": "code",
   "execution_count": 14,
   "id": "c917cc4a",
   "metadata": {
    "execution": {
     "iopub.execute_input": "2022-05-21T21:09:29.092298Z",
     "iopub.status.busy": "2022-05-21T21:09:29.091407Z",
     "iopub.status.idle": "2022-05-21T21:09:29.109491Z",
     "shell.execute_reply": "2022-05-21T21:09:29.108658Z"
    },
    "papermill": {
     "duration": 0.07283,
     "end_time": "2022-05-21T21:09:29.111601",
     "exception": false,
     "start_time": "2022-05-21T21:09:29.038771",
     "status": "completed"
    },
    "tags": []
   },
   "outputs": [
    {
     "data": {
      "text/html": [
       "<div>\n",
       "<style scoped>\n",
       "    .dataframe tbody tr th:only-of-type {\n",
       "        vertical-align: middle;\n",
       "    }\n",
       "\n",
       "    .dataframe tbody tr th {\n",
       "        vertical-align: top;\n",
       "    }\n",
       "\n",
       "    .dataframe thead th {\n",
       "        text-align: right;\n",
       "    }\n",
       "</style>\n",
       "<table border=\"1\" class=\"dataframe\">\n",
       "  <thead>\n",
       "    <tr style=\"text-align: right;\">\n",
       "      <th></th>\n",
       "      <th>0</th>\n",
       "      <th>1</th>\n",
       "      <th>2</th>\n",
       "      <th>3</th>\n",
       "    </tr>\n",
       "  </thead>\n",
       "  <tbody>\n",
       "    <tr>\n",
       "      <th>17</th>\n",
       "      <td>Jule Eisenbud</td>\n",
       "      <td>M.D.</td>\n",
       "      <td>None</td>\n",
       "      <td>None</td>\n",
       "    </tr>\n",
       "    <tr>\n",
       "      <th>107</th>\n",
       "      <td>Kurt Vonnegut</td>\n",
       "      <td>Jr.</td>\n",
       "      <td>None</td>\n",
       "      <td>None</td>\n",
       "    </tr>\n",
       "    <tr>\n",
       "      <th>211</th>\n",
       "      <td>David C. Gompert</td>\n",
       "      <td>Michael Mandelbaum</td>\n",
       "      <td>Richard L. Garwin</td>\n",
       "      <td>John H. Barton</td>\n",
       "    </tr>\n",
       "    <tr>\n",
       "      <th>213</th>\n",
       "      <td>Willard Gaylin</td>\n",
       "      <td>Ira Glasser</td>\n",
       "      <td>Steven Marcus</td>\n",
       "      <td>David Rochman</td>\n",
       "    </tr>\n",
       "    <tr>\n",
       "      <th>275</th>\n",
       "      <td>Sappho</td>\n",
       "      <td>Pindar</td>\n",
       "      <td>Solon</td>\n",
       "      <td>and 23 others</td>\n",
       "    </tr>\n",
       "    <tr>\n",
       "      <th>288</th>\n",
       "      <td>William Strunk</td>\n",
       "      <td>Jr. and E.B. White</td>\n",
       "      <td>None</td>\n",
       "      <td>None</td>\n",
       "    </tr>\n",
       "    <tr>\n",
       "      <th>434</th>\n",
       "      <td>Roger Fisher</td>\n",
       "      <td>William Ury</td>\n",
       "      <td>None</td>\n",
       "      <td>None</td>\n",
       "    </tr>\n",
       "    <tr>\n",
       "      <th>453</th>\n",
       "      <td>Michael J. Malbin</td>\n",
       "      <td>ed.</td>\n",
       "      <td>None</td>\n",
       "      <td>None</td>\n",
       "    </tr>\n",
       "    <tr>\n",
       "      <th>506</th>\n",
       "      <td>Noam Chomsky</td>\n",
       "      <td>Edward S. Herman</td>\n",
       "      <td>None</td>\n",
       "      <td>None</td>\n",
       "    </tr>\n",
       "    <tr>\n",
       "      <th>522</th>\n",
       "      <td>Paul Magriel</td>\n",
       "      <td>John T. Spike</td>\n",
       "      <td>None</td>\n",
       "      <td>None</td>\n",
       "    </tr>\n",
       "    <tr>\n",
       "      <th>530</th>\n",
       "      <td>Daniel Bates</td>\n",
       "      <td>Amal Rassam</td>\n",
       "      <td>None</td>\n",
       "      <td>None</td>\n",
       "    </tr>\n",
       "    <tr>\n",
       "      <th>566</th>\n",
       "      <td>Paul Hohenberg</td>\n",
       "      <td>Lynn Hollen Lees</td>\n",
       "      <td>None</td>\n",
       "      <td>None</td>\n",
       "    </tr>\n",
       "    <tr>\n",
       "      <th>568</th>\n",
       "      <td>Joseph Morella</td>\n",
       "      <td>Patricia Barey</td>\n",
       "      <td>None</td>\n",
       "      <td>None</td>\n",
       "    </tr>\n",
       "    <tr>\n",
       "      <th>585</th>\n",
       "      <td>Donald L. Barlett</td>\n",
       "      <td>James B. Steele</td>\n",
       "      <td>None</td>\n",
       "      <td>None</td>\n",
       "    </tr>\n",
       "    <tr>\n",
       "      <th>593</th>\n",
       "      <td>Ben Weider</td>\n",
       "      <td>David Hapgood</td>\n",
       "      <td>None</td>\n",
       "      <td>None</td>\n",
       "    </tr>\n",
       "    <tr>\n",
       "      <th>683</th>\n",
       "      <td>editor</td>\n",
       "      <td>Eric L. McKitrick</td>\n",
       "      <td>None</td>\n",
       "      <td>None</td>\n",
       "    </tr>\n",
       "    <tr>\n",
       "      <th>684</th>\n",
       "      <td>Don</td>\n",
       "      <td>Jeanne Elium</td>\n",
       "      <td>None</td>\n",
       "      <td>None</td>\n",
       "    </tr>\n",
       "    <tr>\n",
       "      <th>708</th>\n",
       "      <td>Robin</td>\n",
       "      <td>Liza</td>\n",
       "      <td>Linda</td>\n",
       "      <td>Tiffany</td>\n",
       "    </tr>\n",
       "    <tr>\n",
       "      <th>727</th>\n",
       "      <td>Henry Fielding</td>\n",
       "      <td>Daniel Defoe</td>\n",
       "      <td>None</td>\n",
       "      <td>None</td>\n",
       "    </tr>\n",
       "    <tr>\n",
       "      <th>743</th>\n",
       "      <td>Aristotle</td>\n",
       "      <td>Horace</td>\n",
       "      <td>None</td>\n",
       "      <td>None</td>\n",
       "    </tr>\n",
       "    <tr>\n",
       "      <th>807</th>\n",
       "      <td>Dan Kindlon</td>\n",
       "      <td>Michael Thompson</td>\n",
       "      <td>None</td>\n",
       "      <td>None</td>\n",
       "    </tr>\n",
       "    <tr>\n",
       "      <th>844</th>\n",
       "      <td>Horatio Alger</td>\n",
       "      <td>Jr.</td>\n",
       "      <td>None</td>\n",
       "      <td>None</td>\n",
       "    </tr>\n",
       "    <tr>\n",
       "      <th>852</th>\n",
       "      <td>Michael E. Porter</td>\n",
       "      <td>Hirotaka Takeuchi</td>\n",
       "      <td>Mariko Sakakibara</td>\n",
       "      <td>None</td>\n",
       "    </tr>\n",
       "    <tr>\n",
       "      <th>866</th>\n",
       "      <td>Eugene F. Rice</td>\n",
       "      <td>Jr.</td>\n",
       "      <td>None</td>\n",
       "      <td>None</td>\n",
       "    </tr>\n",
       "    <tr>\n",
       "      <th>876</th>\n",
       "      <td>David Krieger</td>\n",
       "      <td>Daisaku Ikeda</td>\n",
       "      <td>None</td>\n",
       "      <td>None</td>\n",
       "    </tr>\n",
       "    <tr>\n",
       "      <th>881</th>\n",
       "      <td>Lucien Febvr</td>\n",
       "      <td>Henri-Jean Martin</td>\n",
       "      <td>None</td>\n",
       "      <td>None</td>\n",
       "    </tr>\n",
       "    <tr>\n",
       "      <th>899</th>\n",
       "      <td>Daisaku Ikeda</td>\n",
       "      <td>Majid Tehranian</td>\n",
       "      <td>None</td>\n",
       "      <td>None</td>\n",
       "    </tr>\n",
       "    <tr>\n",
       "      <th>934</th>\n",
       "      <td>Tim LaHaye</td>\n",
       "      <td>Jerry B. Jenkins</td>\n",
       "      <td>None</td>\n",
       "      <td>None</td>\n",
       "    </tr>\n",
       "    <tr>\n",
       "      <th>944</th>\n",
       "      <td>Robert F. Kennedy</td>\n",
       "      <td>Jr.</td>\n",
       "      <td>None</td>\n",
       "      <td>None</td>\n",
       "    </tr>\n",
       "    <tr>\n",
       "      <th>1012</th>\n",
       "      <td>John J. Jackson</td>\n",
       "      <td>Jr.</td>\n",
       "      <td>None</td>\n",
       "      <td>None</td>\n",
       "    </tr>\n",
       "    <tr>\n",
       "      <th>1100</th>\n",
       "      <td>John Heileman</td>\n",
       "      <td>Mark Halperin</td>\n",
       "      <td>None</td>\n",
       "      <td>None</td>\n",
       "    </tr>\n",
       "    <tr>\n",
       "      <th>1117</th>\n",
       "      <td>Norman Doidge</td>\n",
       "      <td>M.D.</td>\n",
       "      <td>None</td>\n",
       "      <td>None</td>\n",
       "    </tr>\n",
       "    <tr>\n",
       "      <th>1155</th>\n",
       "      <td>Albert Goldman</td>\n",
       "      <td>Lawrence Schiller</td>\n",
       "      <td>None</td>\n",
       "      <td>None</td>\n",
       "    </tr>\n",
       "    <tr>\n",
       "      <th>1164</th>\n",
       "      <td>Benjamin Grahanm</td>\n",
       "      <td>Jason Zweig</td>\n",
       "      <td>None</td>\n",
       "      <td>None</td>\n",
       "    </tr>\n",
       "    <tr>\n",
       "      <th>1166</th>\n",
       "      <td>Julie Rugg</td>\n",
       "      <td>Linda Murphy</td>\n",
       "      <td>None</td>\n",
       "      <td>None</td>\n",
       "    </tr>\n",
       "    <tr>\n",
       "      <th>1203</th>\n",
       "      <td>Ernst Fischer</td>\n",
       "      <td>Carol Lipson</td>\n",
       "      <td>None</td>\n",
       "      <td>None</td>\n",
       "    </tr>\n",
       "    <tr>\n",
       "      <th>1249</th>\n",
       "      <td>Charles Nordhoff</td>\n",
       "      <td>James Norman Hall</td>\n",
       "      <td>None</td>\n",
       "      <td>None</td>\n",
       "    </tr>\n",
       "    <tr>\n",
       "      <th>1295</th>\n",
       "      <td>Jim Mattis</td>\n",
       "      <td>Bing West</td>\n",
       "      <td>None</td>\n",
       "      <td>None</td>\n",
       "    </tr>\n",
       "    <tr>\n",
       "      <th>1315</th>\n",
       "      <td>Bob Woodward</td>\n",
       "      <td>Robert Costa</td>\n",
       "      <td>None</td>\n",
       "      <td>None</td>\n",
       "    </tr>\n",
       "  </tbody>\n",
       "</table>\n",
       "</div>"
      ],
      "text/plain": [
       "                      0                    1                   2  \\\n",
       "17        Jule Eisenbud                 M.D.                None   \n",
       "107       Kurt Vonnegut                  Jr.                None   \n",
       "211    David C. Gompert   Michael Mandelbaum   Richard L. Garwin   \n",
       "213      Willard Gaylin          Ira Glasser       Steven Marcus   \n",
       "275              Sappho               Pindar               Solon   \n",
       "288      William Strunk   Jr. and E.B. White                None   \n",
       "434        Roger Fisher          William Ury                None   \n",
       "453   Michael J. Malbin                  ed.                None   \n",
       "506        Noam Chomsky     Edward S. Herman                None   \n",
       "522        Paul Magriel        John T. Spike                None   \n",
       "530        Daniel Bates          Amal Rassam                None   \n",
       "566      Paul Hohenberg     Lynn Hollen Lees                None   \n",
       "568      Joseph Morella       Patricia Barey                None   \n",
       "585   Donald L. Barlett      James B. Steele                None   \n",
       "593          Ben Weider        David Hapgood                None   \n",
       "683              editor    Eric L. McKitrick                None   \n",
       "684                 Don         Jeanne Elium                None   \n",
       "708               Robin                 Liza               Linda   \n",
       "727      Henry Fielding         Daniel Defoe                None   \n",
       "743           Aristotle               Horace                None   \n",
       "807         Dan Kindlon     Michael Thompson                None   \n",
       "844       Horatio Alger                  Jr.                None   \n",
       "852   Michael E. Porter    Hirotaka Takeuchi   Mariko Sakakibara   \n",
       "866      Eugene F. Rice                  Jr.                None   \n",
       "876       David Krieger        Daisaku Ikeda                None   \n",
       "881        Lucien Febvr    Henri-Jean Martin                None   \n",
       "899       Daisaku Ikeda      Majid Tehranian                None   \n",
       "934          Tim LaHaye     Jerry B. Jenkins                None   \n",
       "944   Robert F. Kennedy                  Jr.                None   \n",
       "1012    John J. Jackson                  Jr.                None   \n",
       "1100      John Heileman        Mark Halperin                None   \n",
       "1117      Norman Doidge                 M.D.                None   \n",
       "1155     Albert Goldman    Lawrence Schiller                None   \n",
       "1164   Benjamin Grahanm          Jason Zweig                None   \n",
       "1166         Julie Rugg         Linda Murphy                None   \n",
       "1203      Ernst Fischer         Carol Lipson                None   \n",
       "1249   Charles Nordhoff    James Norman Hall                None   \n",
       "1295         Jim Mattis            Bing West                None   \n",
       "1315       Bob Woodward         Robert Costa                None   \n",
       "\n",
       "                    3  \n",
       "17               None  \n",
       "107              None  \n",
       "211    John H. Barton  \n",
       "213     David Rochman  \n",
       "275     and 23 others  \n",
       "288              None  \n",
       "434              None  \n",
       "453              None  \n",
       "506              None  \n",
       "522              None  \n",
       "530              None  \n",
       "566              None  \n",
       "568              None  \n",
       "585              None  \n",
       "593              None  \n",
       "683              None  \n",
       "684              None  \n",
       "708           Tiffany  \n",
       "727              None  \n",
       "743              None  \n",
       "807              None  \n",
       "844              None  \n",
       "852              None  \n",
       "866              None  \n",
       "876              None  \n",
       "881              None  \n",
       "899              None  \n",
       "934              None  \n",
       "944              None  \n",
       "1012             None  \n",
       "1100             None  \n",
       "1117             None  \n",
       "1155             None  \n",
       "1164             None  \n",
       "1166             None  \n",
       "1203             None  \n",
       "1249             None  \n",
       "1295             None  \n",
       "1315             None  "
      ]
     },
     "execution_count": 14,
     "metadata": {},
     "output_type": "execute_result"
    }
   ],
   "source": [
    "# multiple author books\n",
    "#df[\"Author\"].unique()\n",
    "\n",
    "df[\"Author\"].str.split(',', expand=True).dropna(thresh=2)"
   ]
  },
  {
   "cell_type": "markdown",
   "id": "85f41cf5",
   "metadata": {
    "papermill": {
     "duration": 0.05347,
     "end_time": "2022-05-21T21:09:29.217278",
     "exception": false,
     "start_time": "2022-05-21T21:09:29.163808",
     "status": "completed"
    },
    "tags": []
   },
   "source": [
    "## pages"
   ]
  },
  {
   "cell_type": "code",
   "execution_count": 15,
   "id": "a0b7c1dd",
   "metadata": {
    "execution": {
     "iopub.execute_input": "2022-05-21T21:09:29.323715Z",
     "iopub.status.busy": "2022-05-21T21:09:29.323413Z",
     "iopub.status.idle": "2022-05-21T21:09:29.911248Z",
     "shell.execute_reply": "2022-05-21T21:09:29.910306Z"
    },
    "papermill": {
     "duration": 0.642179,
     "end_time": "2022-05-21T21:09:29.913452",
     "exception": false,
     "start_time": "2022-05-21T21:09:29.271273",
     "status": "completed"
    },
    "tags": []
   },
   "outputs": [
    {
     "data": {
      "text/plain": [
       "<seaborn.axisgrid.FacetGrid at 0x7f93eb1a0cd0>"
      ]
     },
     "execution_count": 15,
     "metadata": {},
     "output_type": "execute_result"
    },
    {
     "data": {
      "image/png": "[encoded data removed]",
      "text/plain": [
       "<Figure size 407.875x360 with 1 Axes>"
      ]
     },
     "metadata": {
      "needs_background": "light"
     },
     "output_type": "display_data"
    }
   ],
   "source": [
    "sns.displot(x= \"Pages\", data = df, hue = \"Favorite\")"
   ]
  },
  {
   "cell_type": "code",
   "execution_count": 16,
   "id": "bd693d29",
   "metadata": {
    "execution": {
     "iopub.execute_input": "2022-05-21T21:09:30.020231Z",
     "iopub.status.busy": "2022-05-21T21:09:30.019582Z",
     "iopub.status.idle": "2022-05-21T21:09:30.168813Z",
     "shell.execute_reply": "2022-05-21T21:09:30.168130Z"
    },
    "papermill": {
     "duration": 0.205102,
     "end_time": "2022-05-21T21:09:30.170712",
     "exception": false,
     "start_time": "2022-05-21T21:09:29.965610",
     "status": "completed"
    },
    "tags": []
   },
   "outputs": [
    {
     "data": {
      "text/plain": [
       "<AxesSubplot:xlabel='Pages'>"
      ]
     },
     "execution_count": 16,
     "metadata": {},
     "output_type": "execute_result"
    },
    {
     "data": {
      "image/png": "[encoded data removed]",
      "text/plain": [
       "<Figure size 432x288 with 1 Axes>"
      ]
     },
     "metadata": {
      "needs_background": "light"
     },
     "output_type": "display_data"
    }
   ],
   "source": [
    "sns.boxplot(x= \"Pages\", data = df, )"
   ]
  },
  {
   "cell_type": "markdown",
   "id": "ebef9453",
   "metadata": {
    "papermill": {
     "duration": 0.052437,
     "end_time": "2022-05-21T21:09:30.275845",
     "exception": false,
     "start_time": "2022-05-21T21:09:30.223408",
     "status": "completed"
    },
    "tags": []
   },
   "source": [
    "# Year published \n",
    "\n",
    "typos and BC/AC dates need to be fixed or python will handle these as objects/string"
   ]
  },
  {
   "cell_type": "code",
   "execution_count": 17,
   "id": "cf3a46ad",
   "metadata": {
    "execution": {
     "iopub.execute_input": "2022-05-21T21:09:30.384023Z",
     "iopub.status.busy": "2022-05-21T21:09:30.383543Z",
     "iopub.status.idle": "2022-05-21T21:09:30.394151Z",
     "shell.execute_reply": "2022-05-21T21:09:30.393264Z"
    },
    "papermill": {
     "duration": 0.067138,
     "end_time": "2022-05-21T21:09:30.396045",
     "exception": false,
     "start_time": "2022-05-21T21:09:30.328907",
     "status": "completed"
    },
    "tags": []
   },
   "outputs": [
    {
     "data": {
      "text/html": [
       "<div>\n",
       "<style scoped>\n",
       "    .dataframe tbody tr th:only-of-type {\n",
       "        vertical-align: middle;\n",
       "    }\n",
       "\n",
       "    .dataframe tbody tr th {\n",
       "        vertical-align: top;\n",
       "    }\n",
       "\n",
       "    .dataframe thead th {\n",
       "        text-align: right;\n",
       "    }\n",
       "</style>\n",
       "<table border=\"1\" class=\"dataframe\">\n",
       "  <thead>\n",
       "    <tr style=\"text-align: right;\">\n",
       "      <th></th>\n",
       "      <th>Date Read</th>\n",
       "      <th>Author</th>\n",
       "      <th>Books</th>\n",
       "      <th>Year Published</th>\n",
       "      <th>Pages</th>\n",
       "      <th>Favorite</th>\n",
       "    </tr>\n",
       "  </thead>\n",
       "  <tbody>\n",
       "    <tr>\n",
       "      <th>139</th>\n",
       "      <td>Jun-78</td>\n",
       "      <td>Homer</td>\n",
       "      <td>The Iliad</td>\n",
       "      <td>730bc</td>\n",
       "      <td>459</td>\n",
       "      <td>0</td>\n",
       "    </tr>\n",
       "  </tbody>\n",
       "</table>\n",
       "</div>"
      ],
      "text/plain": [
       "    Date Read Author      Books Year Published  Pages  Favorite\n",
       "139    Jun-78  Homer  The Iliad          730bc    459         0"
      ]
     },
     "execution_count": 17,
     "metadata": {},
     "output_type": "execute_result"
    }
   ],
   "source": [
    "df[df[\"Year Published\"]==\"730bc\"]"
   ]
  },
  {
   "cell_type": "code",
   "execution_count": 18,
   "id": "6fae8667",
   "metadata": {
    "execution": {
     "iopub.execute_input": "2022-05-21T21:09:30.505833Z",
     "iopub.status.busy": "2022-05-21T21:09:30.505275Z",
     "iopub.status.idle": "2022-05-21T21:09:30.513776Z",
     "shell.execute_reply": "2022-05-21T21:09:30.513137Z"
    },
    "papermill": {
     "duration": 0.065552,
     "end_time": "2022-05-21T21:09:30.515827",
     "exception": false,
     "start_time": "2022-05-21T21:09:30.450275",
     "status": "completed"
    },
    "tags": []
   },
   "outputs": [],
   "source": [
    "# rectify the two typos\n",
    "df[\"Year Published\"].replace([\"1,981\",\"398ad\"], [\"1981\",\"398\"],  inplace = True)\n",
    "\n",
    "# convert BC dates to negative numbers\n",
    "df[\"Year_Published_numerical\"] = df[\"Year Published\"].apply(lambda x: \"-\"+x[:-2] if x[-2:]==\"bc\" else x)\n",
    "\n",
    "# revise the data to numerical values\n",
    "df[\"Year_Published_numerical\"] = df[\"Year_Published_numerical\"].astype(int)"
   ]
  },
  {
   "cell_type": "code",
   "execution_count": 19,
   "id": "815959b5",
   "metadata": {
    "execution": {
     "iopub.execute_input": "2022-05-21T21:09:30.624334Z",
     "iopub.status.busy": "2022-05-21T21:09:30.623864Z",
     "iopub.status.idle": "2022-05-21T21:09:32.126792Z",
     "shell.execute_reply": "2022-05-21T21:09:32.125895Z"
    },
    "papermill": {
     "duration": 1.559466,
     "end_time": "2022-05-21T21:09:32.128733",
     "exception": false,
     "start_time": "2022-05-21T21:09:30.569267",
     "status": "completed"
    },
    "tags": []
   },
   "outputs": [
    {
     "data": {
      "image/png": "[encoded data removed]",
      "text/plain": [
       "<Figure size 695.875x648 with 1 Axes>"
      ]
     },
     "metadata": {
      "needs_background": "light"
     },
     "output_type": "display_data"
    }
   ],
   "source": [
    "sns.displot(x = \"Year_Published_numerical\", data = df, hue = \"Favorite\", height = 9)\n",
    "plt.suptitle(\"Distribution of Year Published with Favorite books indicate\")\n",
    "plt.show()"
   ]
  },
  {
   "cell_type": "code",
   "execution_count": 20,
   "id": "20a8f265",
   "metadata": {
    "execution": {
     "iopub.execute_input": "2022-05-21T21:09:32.242930Z",
     "iopub.status.busy": "2022-05-21T21:09:32.242652Z",
     "iopub.status.idle": "2022-05-21T21:09:32.406877Z",
     "shell.execute_reply": "2022-05-21T21:09:32.406101Z"
    },
    "papermill": {
     "duration": 0.223708,
     "end_time": "2022-05-21T21:09:32.408840",
     "exception": false,
     "start_time": "2022-05-21T21:09:32.185132",
     "status": "completed"
    },
    "tags": []
   },
   "outputs": [
    {
     "data": {
      "text/plain": [
       "<AxesSubplot:xlabel='Year_Published_numerical'>"
      ]
     },
     "execution_count": 20,
     "metadata": {},
     "output_type": "execute_result"
    },
    {
     "data": {
      "image/png": "[encoded data removed]",
      "text/plain": [
       "<Figure size 1440x576 with 1 Axes>"
      ]
     },
     "metadata": {
      "needs_background": "light"
     },
     "output_type": "display_data"
    }
   ],
   "source": [
    "plt.figure(figsize = (20,8))\n",
    "sns.boxplot(x= \"Year_Published_numerical\", data = df, )"
   ]
  },
  {
   "cell_type": "code",
   "execution_count": 21,
   "id": "c402f496",
   "metadata": {
    "execution": {
     "iopub.execute_input": "2022-05-21T21:09:32.519932Z",
     "iopub.status.busy": "2022-05-21T21:09:32.519524Z",
     "iopub.status.idle": "2022-05-21T21:09:32.528327Z",
     "shell.execute_reply": "2022-05-21T21:09:32.527482Z"
    },
    "papermill": {
     "duration": 0.066418,
     "end_time": "2022-05-21T21:09:32.529966",
     "exception": false,
     "start_time": "2022-05-21T21:09:32.463548",
     "status": "completed"
    },
    "tags": []
   },
   "outputs": [
    {
     "data": {
      "text/plain": [
       "count    1321.000000\n",
       "mean     1848.776684\n",
       "std       422.118396\n",
       "min      -850.000000\n",
       "25%      1900.000000\n",
       "50%      1963.000000\n",
       "75%      1987.000000\n",
       "max      2021.000000\n",
       "Name: Year_Published_numerical, dtype: float64"
      ]
     },
     "execution_count": 21,
     "metadata": {},
     "output_type": "execute_result"
    }
   ],
   "source": [
    "df[\"Year_Published_numerical\"].describe()"
   ]
  },
  {
   "cell_type": "markdown",
   "id": "ae87f1e1",
   "metadata": {
    "papermill": {
     "duration": 0.054663,
     "end_time": "2022-05-21T21:09:32.639559",
     "exception": false,
     "start_time": "2022-05-21T21:09:32.584896",
     "status": "completed"
    },
    "tags": []
   },
   "source": [
    "# Date Read"
   ]
  },
  {
   "cell_type": "code",
   "execution_count": 22,
   "id": "c7f9e759",
   "metadata": {
    "execution": {
     "iopub.execute_input": "2022-05-21T21:09:32.761026Z",
     "iopub.status.busy": "2022-05-21T21:09:32.760516Z",
     "iopub.status.idle": "2022-05-21T21:09:32.766879Z",
     "shell.execute_reply": "2022-05-21T21:09:32.766360Z"
    },
    "papermill": {
     "duration": 0.073941,
     "end_time": "2022-05-21T21:09:32.768488",
     "exception": false,
     "start_time": "2022-05-21T21:09:32.694547",
     "status": "completed"
    },
    "tags": []
   },
   "outputs": [
    {
     "data": {
      "text/plain": [
       "array(['Jun-68', 'Jul-68', 'Aug-68', 'Sep-68', 'Oct-68', 'Nov-68',\n",
       "       'Dec-68', 'Jan-69', 'Feb-69', 'May-69', 'Jun-69', 'Jul-69',\n",
       "       'Aug-69', 'Sep-69', 'Jan-70', 'Feb-70', 'Mar-70', 'Apr-70',\n",
       "       'May-70', 'Jul-70', 'Aug-70', 'Sep-70', 'Oct-70', 'Nov-70',\n",
       "       'Dec-70', 'Jan-71', 'Feb-71', 'Mar-71', 'Apr-71', 'Jun-71',\n",
       "       'Jul-71', 'Aug-71', 'Sep-71', 'Oct-71', 'Nov-71', 'Dec-71',\n",
       "       'Jan-72', 'Feb-72', 'Mar-72', 'Apr-72', 'Aug-72', 'Sep-72',\n",
       "       'Oct-72', 'Feb-73', 'Apr-73', 'Jun-73', 'Jul-73', 'Aug-73',\n",
       "       'Sep-73', 'Oct-73', 'Nov-73', 'Dec-73', 'Jan-74', 'Feb-74',\n",
       "       'Mar-74', 'Apr-74', 'May-74', 'Jul-74', 'Aug-74', 'Oct-74',\n",
       "       'Nov-74', 'Dec-74', 'Feb-75', 'Jun-75', 'Sep-75', 'Jan-76',\n",
       "       'Feb-76', 'Mar-76', 'Apr-76', 'Jul-76', 'Dec-76', 'Jan-77',\n",
       "       'Feb-77', 'May-77', 'Jun-77', 'Jul-77', 'Sep-77', 'Aug-77',\n",
       "       'Nov-77', 'Dec-77', 'Mar-78', 'Apr-78', 'May-78', 'Jun-78',\n",
       "       'Aug-78', 'Sep-78', 'Nov-78', 'Feb-79', 'Mar-79', 'May-79',\n",
       "       'Jun-79', 'Jul-79', 'Aug-79', 'Sep-79', 'Nov-79', 'Dec-79',\n",
       "       'Jan-80', 'Feb-80', 'Jul-80', 'Sep-80', 'Oct-80', 'Nov-80',\n",
       "       'Jan-81', 'Feb-81', 'Mar-81', 'Jun-81', 'Jul-81', 'Aug-81',\n",
       "       'Sep-81', 'Oct-81', 'Nov-81', 'Dec-81', 'Jan-82', 'Feb-82',\n",
       "       'Mar-82', 'Apr-82', 'May-82', 'Jun-82', 'Jul-82', 'Aug-82',\n",
       "       'Sep-82', 'Oct-82', 'Nov-82', 'Dec-82', 'Feb-83', 'Mar-83',\n",
       "       'Apr-83', 'May-83', 'Jun-83', 'Jul-83', 'Aug-83', 'Sep-83',\n",
       "       'Oct-83', 'Nov-83', 'Dec-83', 'Jan-84', 'Feb-84', 'Mar-84',\n",
       "       'Apr-84', 'May-84', 'Jun-84', 'Jul-84', 'Aug-84', 'Sep-84',\n",
       "       'Oct-84', 'Nov-84', 'Dec-84', 'Jan-85', 'Feb-85', 'Mar-85',\n",
       "       'Apr-85', 'May-85', 'Jun-85', 'Jul-85', 'Aug-85', 'Sep-85',\n",
       "       'Oct-85', 'Nov-85', 'Dec-85', 'Jan-86', 'Mar-86', 'Apr-86',\n",
       "       'May-86', 'Jun-86', 'Jul-86', 'Sep-86', 'Oct-86', 'Nov-86',\n",
       "       'Dec-86', 'Jan-87', 'Feb-87', 'Apr-87', 'May-87', 'Jun-87',\n",
       "       'Jul-87', 'Aug-87', 'Sep-87', 'Oct-87', 'Nov-87', 'Dec-87',\n",
       "       'Jan-88', 'Feb-88', 'Mar-88', 'Apr-88', 'May-88', 'Jun-88',\n",
       "       'Jul-88', 'Aug-88', 'Sep-88', 'Nov-88', 'Dec-88', 'Jan-89',\n",
       "       'Feb-89', 'Mar-89', 'Apr-89', 'May-89', 'Jul-89', 'Aug-89',\n",
       "       'Sep-89', 'Oct-89', 'Dec-89', 'Jan-90', 'Feb-90', 'Mar-90',\n",
       "       'Apr-90', 'May-90', 'Jun-90', 'Jul-90', 'Aug-90', 'Sep-90',\n",
       "       'Nov-90', 'Jan-91', 'Feb-91', 'Mar-91', 'Apr-91', 'May-91',\n",
       "       'Jun-91', 'Jul-91', 'Aug-91', 'Sep-91', 'Oct-91', 'Nov-91',\n",
       "       'Dec-91', 'Jan-92', 'Feb-92', 'Mar-92', 'Apr-92', 'Jun-92',\n",
       "       'Jul-92', 'Aug-92', 'Sep-22', 'Sep-92', 'Nov-92', 'Dec-92',\n",
       "       'Jan-93', 'Feb-93', 'Mar-93', 'Apr-93', 'May-93', 'Jun-93',\n",
       "       'Jul-93', 'Aug-93', 'Oct-93', 'Nov-93', 'Dec-93', 'Jan-94',\n",
       "       'Feb-94', 'Mar-94', 'Apr-94', 'May-94', 'Jun-94', 'Jul-94',\n",
       "       'Aug-94', 'Sep-94', 'Oct-94', 'Dec-94', 'Jan-95', 'Feb-95',\n",
       "       'Mar-95', 'Apr-95', 'Jul-95', 'Aug-95', 'Sep-95', 'Oct-95',\n",
       "       'Nov-95', 'Dec-95', 'Jan-96', 'Feb-96', 'Mar-96', 'Apr-96',\n",
       "       'Jun-96', 'Jul-96', 'Aug-96', 'Sep-96', 'Oct-96', 'Dec-96',\n",
       "       'Jan-97', 'Mar-97', 'Apr-97', 'May-97', 'Jun-97', 'Jul-97',\n",
       "       'Aug-97', 'Sep-97', 'Oct-97', 'Nov-97', 'Dec-97', 'Jan-98',\n",
       "       'Mar-98', 'Apr-98', 'May-98', 'Jun-98', 'Jul-98', 'Aug-98',\n",
       "       'Sep-98', 'Oct-98', 'Nov-98', 'Dec-98', 'Jan-99', 'Feb-99',\n",
       "       'Mar-99', 'Apr-99', 'May-99', 'Jun-99', 'Jul-99', 'Aug-99',\n",
       "       'Sep-99', 'Oct-99', 'Nov-99', 'Dec-99', 'Jan-00', 'Feb-00',\n",
       "       'Mar-00', 'Apr-00', 'May-00', 'Jun-00', 'Aug-00', 'Sep-00',\n",
       "       'Oct-00', 'Nov-00', 'Dec-00', 'Jan-01', 'Feb-01', 'Mar-01',\n",
       "       'Apr-01', 'May-01', 'Jun-01', 'Jul-01', 'Aug-01', 'Sep-01',\n",
       "       'Oct-01', 'Nov-01', 'Dec-01', 'Jan-02', 'Feb-02', 'Mar-02',\n",
       "       'Apr-02', 'Jun-02', 'Aug-02', 'Sep-02', 'Oct-02', 'Nov-02',\n",
       "       'Dec-02', 'Jan-03', 'Feb-03', 'Mar-03', 'Apr-03', 'May-03',\n",
       "       'Jun-03', 'Jul-03', 'Aug-03', 'Oct-03', 'Nov-03', 'Jan-04',\n",
       "       'Feb-04', 'Mar-04', 'Apr-04', 'May-04', 'Jun-04', 'Jul-04',\n",
       "       'Aug-04', 'Sep-04', 'Oct-04', '2005', 'Jul-05', 'Aug-05', 'Sep-05',\n",
       "       'Oct-05', 'Nov-05', 'Nov-06', 'Dec-05', 'Jan-06', '2006', 'Sep-06',\n",
       "       'Oct-06', 'Dec-06', 'Jan-07', 'Feb-07', '2007', '2008', 'Jan-09',\n",
       "       'Feb-09', 'Mar-09', 'Apr-09', 'May-09', 'Jun-09', 'Jul-09',\n",
       "       'Aug-09', 'Sep-09', 'Nov-09', 'Oct-09', 'Dec-09', 'Jan-10',\n",
       "       'Feb-10', 'Mar-10', 'Apr-10', 'May-10', 'Jun-10', 'Jul-10',\n",
       "       'Aug-10', 'Sep-10', 'Oct-10', 'Nov-10', 'Dec-10', 'Jan-11',\n",
       "       'Feb-11', 'Mar-11', 'Apr-11', 'May-11', 'Jun-11', 'Jul-11',\n",
       "       'Aug-11', 'Sep-11', 'Oct-11', 'Nov-11', 'Dec-11', 'Jan-12',\n",
       "       'Feb-12', 'Mar-12', 'Apr-12', 'Jun-12', 'Jul-12', 'Aug-12',\n",
       "       'Sep-12', 'Nov-12', 'Dec-12', 'Feb-13', 'Mar-13', 'Apr-13',\n",
       "       'May-13', 'Jun-13', 'Jul-13', 'Aug-13', 'Sep-13', 'Oct-13',\n",
       "       'Nov-13', 'Dec-13', 'Feb-14', 'Mar-14', 'May-14', 'Jun-14',\n",
       "       'Jul-14', 'Aug-14', 'Sep-14', 'Oct-14', 'Nov-14', 'Dec-14',\n",
       "       'Jan-15', 'Feb-15', 'Mar-15', 'Jun-15', 'Jul-15', 'Sep-15',\n",
       "       'Nov-15', 'Dec-15', 'Jan-16', 'Feb-16', 'Mar-16', 'Apr-16',\n",
       "       'May-16', 'Jun-16', 'Jul-16', 'Aug-16', 'Sep-16', 'Oct-16',\n",
       "       'Nov-16', 'Dec-16', 'Jan-17', 'Feb-17', 'Mar-17', 'Apr-17',\n",
       "       'Jun-17', 'Jul-17', 'Aug-17', 'Sep-17', 'Oct-17', 'Dec-17',\n",
       "       'Jan-18', 'Feb-18', 'May-18', 'Jun-18', 'Jul-18', 'Aug-18', '2018',\n",
       "       '2019', '2020', '2021', 'Jul-21', 'Aug-21', 'Sep-21', 'Oct-21',\n",
       "       'Dec-21', 'Jan-22', 'Feb-22'], dtype=object)"
      ]
     },
     "execution_count": 22,
     "metadata": {},
     "output_type": "execute_result"
    }
   ],
   "source": [
    "df[\"Date Read\"].unique()"
   ]
  },
  {
   "cell_type": "code",
   "execution_count": 23,
   "id": "d9b9bb24",
   "metadata": {
    "execution": {
     "iopub.execute_input": "2022-05-21T21:09:32.882072Z",
     "iopub.status.busy": "2022-05-21T21:09:32.881543Z",
     "iopub.status.idle": "2022-05-21T21:09:32.886472Z",
     "shell.execute_reply": "2022-05-21T21:09:32.885631Z"
    },
    "papermill": {
     "duration": 0.063947,
     "end_time": "2022-05-21T21:09:32.888512",
     "exception": false,
     "start_time": "2022-05-21T21:09:32.824565",
     "status": "completed"
    },
    "tags": []
   },
   "outputs": [],
   "source": [
    "# fix syntax setting xxx for months unknown\n",
    "df[\"Date Read\"] = df[\"Date Read\"].apply(lambda x: x if len(x)>5 else \"xxx-\"+x[-2:])"
   ]
  },
  {
   "cell_type": "code",
   "execution_count": 24,
   "id": "383620fe",
   "metadata": {
    "execution": {
     "iopub.execute_input": "2022-05-21T21:09:33.007840Z",
     "iopub.status.busy": "2022-05-21T21:09:33.007509Z",
     "iopub.status.idle": "2022-05-21T21:09:33.018664Z",
     "shell.execute_reply": "2022-05-21T21:09:33.017421Z"
    },
    "papermill": {
     "duration": 0.076644,
     "end_time": "2022-05-21T21:09:33.021464",
     "exception": false,
     "start_time": "2022-05-21T21:09:32.944820",
     "status": "completed"
    },
    "tags": []
   },
   "outputs": [],
   "source": [
    "df[[\"Month\", \"Year\"]] = df[\"Date Read\"].str.split('-', expand=True)"
   ]
  },
  {
   "cell_type": "code",
   "execution_count": 25,
   "id": "6b9febb8",
   "metadata": {
    "execution": {
     "iopub.execute_input": "2022-05-21T21:09:33.139820Z",
     "iopub.status.busy": "2022-05-21T21:09:33.139255Z",
     "iopub.status.idle": "2022-05-21T21:09:33.143888Z",
     "shell.execute_reply": "2022-05-21T21:09:33.143308Z"
    },
    "papermill": {
     "duration": 0.064224,
     "end_time": "2022-05-21T21:09:33.145796",
     "exception": false,
     "start_time": "2022-05-21T21:09:33.081572",
     "status": "completed"
    },
    "tags": []
   },
   "outputs": [],
   "source": [
    "df[\"Year\"] = df[\"Year\"].astype(int)"
   ]
  },
  {
   "cell_type": "code",
   "execution_count": 26,
   "id": "a9bd139d",
   "metadata": {
    "execution": {
     "iopub.execute_input": "2022-05-21T21:09:33.262446Z",
     "iopub.status.busy": "2022-05-21T21:09:33.262014Z",
     "iopub.status.idle": "2022-05-21T21:09:33.266667Z",
     "shell.execute_reply": "2022-05-21T21:09:33.266120Z"
    },
    "papermill": {
     "duration": 0.064663,
     "end_time": "2022-05-21T21:09:33.268346",
     "exception": false,
     "start_time": "2022-05-21T21:09:33.203683",
     "status": "completed"
    },
    "tags": []
   },
   "outputs": [],
   "source": [
    "df[\"Year\"] = df[\"Year\"].apply(lambda x: x+2000 if x <68 else x+1900)\n",
    " "
   ]
  },
  {
   "cell_type": "code",
   "execution_count": 27,
   "id": "07748b59",
   "metadata": {
    "execution": {
     "iopub.execute_input": "2022-05-21T21:09:33.382281Z",
     "iopub.status.busy": "2022-05-21T21:09:33.381863Z",
     "iopub.status.idle": "2022-05-21T21:09:33.388477Z",
     "shell.execute_reply": "2022-05-21T21:09:33.387961Z"
    },
    "papermill": {
     "duration": 0.065977,
     "end_time": "2022-05-21T21:09:33.390023",
     "exception": false,
     "start_time": "2022-05-21T21:09:33.324046",
     "status": "completed"
    },
    "tags": []
   },
   "outputs": [
    {
     "data": {
      "text/plain": [
       "125"
      ]
     },
     "execution_count": 27,
     "metadata": {},
     "output_type": "execute_result"
    }
   ],
   "source": [
    "df[df[\"Month\"]==\"xxx\"].shape[0]"
   ]
  },
  {
   "cell_type": "code",
   "execution_count": 28,
   "id": "b71b6525",
   "metadata": {
    "execution": {
     "iopub.execute_input": "2022-05-21T21:09:33.504425Z",
     "iopub.status.busy": "2022-05-21T21:09:33.504157Z",
     "iopub.status.idle": "2022-05-21T21:09:33.511403Z",
     "shell.execute_reply": "2022-05-21T21:09:33.510496Z"
    },
    "papermill": {
     "duration": 0.066068,
     "end_time": "2022-05-21T21:09:33.513042",
     "exception": false,
     "start_time": "2022-05-21T21:09:33.446974",
     "status": "completed"
    },
    "tags": []
   },
   "outputs": [
    {
     "data": {
      "text/plain": [
       "9.462528387585163"
      ]
     },
     "execution_count": 28,
     "metadata": {},
     "output_type": "execute_result"
    }
   ],
   "source": [
    "(df[df[\"Month\"]==\"xxx\"].shape[0]/df.shape[0])*100"
   ]
  },
  {
   "cell_type": "code",
   "execution_count": 29,
   "id": "ce5ebe74",
   "metadata": {
    "execution": {
     "iopub.execute_input": "2022-05-21T21:09:33.628347Z",
     "iopub.status.busy": "2022-05-21T21:09:33.627833Z",
     "iopub.status.idle": "2022-05-21T21:09:33.633928Z",
     "shell.execute_reply": "2022-05-21T21:09:33.633373Z"
    },
    "papermill": {
     "duration": 0.065905,
     "end_time": "2022-05-21T21:09:33.635623",
     "exception": false,
     "start_time": "2022-05-21T21:09:33.569718",
     "status": "completed"
    },
    "tags": []
   },
   "outputs": [
    {
     "data": {
      "text/plain": [
       "2.941176470588235"
      ]
     },
     "execution_count": 29,
     "metadata": {},
     "output_type": "execute_result"
    }
   ],
   "source": [
    "(sum(df[df[\"Month\"]==\"xxx\"][\"Favorite\"])/sum(df[\"Favorite\"]))*100"
   ]
  },
  {
   "cell_type": "code",
   "execution_count": 30,
   "id": "a737d18d",
   "metadata": {
    "execution": {
     "iopub.execute_input": "2022-05-21T21:09:33.755238Z",
     "iopub.status.busy": "2022-05-21T21:09:33.754316Z",
     "iopub.status.idle": "2022-05-21T21:09:33.761091Z",
     "shell.execute_reply": "2022-05-21T21:09:33.760302Z"
    },
    "papermill": {
     "duration": 0.067553,
     "end_time": "2022-05-21T21:09:33.762959",
     "exception": false,
     "start_time": "2022-05-21T21:09:33.695406",
     "status": "completed"
    },
    "tags": []
   },
   "outputs": [
    {
     "data": {
      "text/plain": [
       "array([2005, 2006, 2007, 2008, 2018, 2019, 2020, 2021])"
      ]
     },
     "execution_count": 30,
     "metadata": {},
     "output_type": "execute_result"
    }
   ],
   "source": [
    "df[df[\"Month\"]==\"xxx\"][\"Year\"].unique()"
   ]
  },
  {
   "cell_type": "code",
   "execution_count": 31,
   "id": "6cc9647d",
   "metadata": {
    "execution": {
     "iopub.execute_input": "2022-05-21T21:09:33.878206Z",
     "iopub.status.busy": "2022-05-21T21:09:33.877666Z",
     "iopub.status.idle": "2022-05-21T21:09:34.538523Z",
     "shell.execute_reply": "2022-05-21T21:09:34.537709Z"
    },
    "papermill": {
     "duration": 0.72038,
     "end_time": "2022-05-21T21:09:34.540315",
     "exception": false,
     "start_time": "2022-05-21T21:09:33.819935",
     "status": "completed"
    },
    "tags": []
   },
   "outputs": [
    {
     "data": {
      "image/png": "[encoded data removed]",
      "text/plain": [
       "<Figure size 1440x720 with 1 Axes>"
      ]
     },
     "metadata": {
      "needs_background": "light"
     },
     "output_type": "display_data"
    }
   ],
   "source": [
    "plt.figure(figsize = (20,10))\n",
    "sns.countplot( x = \"Year\", data = df)\n",
    "plt.suptitle(\"No. of books read each year\")\n",
    "plt.xticks(rotation = 45)\n",
    "plt.show()"
   ]
  },
  {
   "cell_type": "markdown",
   "id": "3c1ee057",
   "metadata": {
    "papermill": {
     "duration": 0.057904,
     "end_time": "2022-05-21T21:09:34.657186",
     "exception": false,
     "start_time": "2022-05-21T21:09:34.599282",
     "status": "completed"
    },
    "tags": []
   },
   "source": [
    " first attempt not include month"
   ]
  },
  {
   "cell_type": "code",
   "execution_count": 32,
   "id": "7eac41fb",
   "metadata": {
    "execution": {
     "iopub.execute_input": "2022-05-21T21:09:34.775813Z",
     "iopub.status.busy": "2022-05-21T21:09:34.775281Z",
     "iopub.status.idle": "2022-05-21T21:09:35.208087Z",
     "shell.execute_reply": "2022-05-21T21:09:35.207159Z"
    },
    "papermill": {
     "duration": 0.494306,
     "end_time": "2022-05-21T21:09:35.210212",
     "exception": false,
     "start_time": "2022-05-21T21:09:34.715906",
     "status": "completed"
    },
    "tags": []
   },
   "outputs": [
    {
     "data": {
      "image/png": "[encoded data removed]",
      "text/plain": [
       "<Figure size 407.875x360 with 1 Axes>"
      ]
     },
     "metadata": {
      "needs_background": "light"
     },
     "output_type": "display_data"
    }
   ],
   "source": [
    "sns.displot(x = \"Year\", data = df, hue = \"Favorite\")\n",
    "plt.suptitle(\"Distribution of Year books were read seperated by Favorite\")\n",
    "plt.show()"
   ]
  },
  {
   "cell_type": "code",
   "execution_count": 33,
   "id": "a36990d5",
   "metadata": {
    "execution": {
     "iopub.execute_input": "2022-05-21T21:09:35.330113Z",
     "iopub.status.busy": "2022-05-21T21:09:35.329786Z",
     "iopub.status.idle": "2022-05-21T21:09:35.347711Z",
     "shell.execute_reply": "2022-05-21T21:09:35.347136Z"
    },
    "papermill": {
     "duration": 0.079383,
     "end_time": "2022-05-21T21:09:35.349376",
     "exception": false,
     "start_time": "2022-05-21T21:09:35.269993",
     "status": "completed"
    },
    "tags": []
   },
   "outputs": [
    {
     "data": {
      "text/html": [
       "<div>\n",
       "<style scoped>\n",
       "    .dataframe tbody tr th:only-of-type {\n",
       "        vertical-align: middle;\n",
       "    }\n",
       "\n",
       "    .dataframe tbody tr th {\n",
       "        vertical-align: top;\n",
       "    }\n",
       "\n",
       "    .dataframe thead th {\n",
       "        text-align: right;\n",
       "    }\n",
       "</style>\n",
       "<table border=\"1\" class=\"dataframe\">\n",
       "  <thead>\n",
       "    <tr style=\"text-align: right;\">\n",
       "      <th></th>\n",
       "      <th>Date Read</th>\n",
       "      <th>Author</th>\n",
       "      <th>Books</th>\n",
       "      <th>Year Published</th>\n",
       "      <th>Pages</th>\n",
       "      <th>Favorite</th>\n",
       "      <th>Year_Published_numerical</th>\n",
       "      <th>Month</th>\n",
       "      <th>Year</th>\n",
       "    </tr>\n",
       "  </thead>\n",
       "  <tbody>\n",
       "    <tr>\n",
       "      <th>926</th>\n",
       "      <td>xxx-05</td>\n",
       "      <td>Lawrence Potter</td>\n",
       "      <td>The Persian Gulf in Transition</td>\n",
       "      <td>1997</td>\n",
       "      <td>336</td>\n",
       "      <td>0</td>\n",
       "      <td>1997</td>\n",
       "      <td>xxx</td>\n",
       "      <td>2005</td>\n",
       "    </tr>\n",
       "    <tr>\n",
       "      <th>927</th>\n",
       "      <td>xxx-05</td>\n",
       "      <td>Immanuel Kant</td>\n",
       "      <td>Perpetual Peace</td>\n",
       "      <td>1795</td>\n",
       "      <td>160</td>\n",
       "      <td>0</td>\n",
       "      <td>1795</td>\n",
       "      <td>xxx</td>\n",
       "      <td>2005</td>\n",
       "    </tr>\n",
       "    <tr>\n",
       "      <th>928</th>\n",
       "      <td>xxx-05</td>\n",
       "      <td>Bob Dylan</td>\n",
       "      <td>Chronicles, vol. 1</td>\n",
       "      <td>2004</td>\n",
       "      <td>320</td>\n",
       "      <td>0</td>\n",
       "      <td>2004</td>\n",
       "      <td>xxx</td>\n",
       "      <td>2005</td>\n",
       "    </tr>\n",
       "    <tr>\n",
       "      <th>929</th>\n",
       "      <td>xxx-05</td>\n",
       "      <td>Arthur Koestler</td>\n",
       "      <td>The Gladiators</td>\n",
       "      <td>1949</td>\n",
       "      <td>44</td>\n",
       "      <td>0</td>\n",
       "      <td>1949</td>\n",
       "      <td>xxx</td>\n",
       "      <td>2005</td>\n",
       "    </tr>\n",
       "    <tr>\n",
       "      <th>930</th>\n",
       "      <td>xxx-05</td>\n",
       "      <td>Richard L. Bushman</td>\n",
       "      <td>From Puritan to Yankee</td>\n",
       "      <td>1967</td>\n",
       "      <td>352</td>\n",
       "      <td>0</td>\n",
       "      <td>1967</td>\n",
       "      <td>xxx</td>\n",
       "      <td>2005</td>\n",
       "    </tr>\n",
       "    <tr>\n",
       "      <th>...</th>\n",
       "      <td>...</td>\n",
       "      <td>...</td>\n",
       "      <td>...</td>\n",
       "      <td>...</td>\n",
       "      <td>...</td>\n",
       "      <td>...</td>\n",
       "      <td>...</td>\n",
       "      <td>...</td>\n",
       "      <td>...</td>\n",
       "    </tr>\n",
       "    <tr>\n",
       "      <th>1303</th>\n",
       "      <td>xxx-20</td>\n",
       "      <td>Doris Kearns Goodwin</td>\n",
       "      <td>Leadership</td>\n",
       "      <td>2020</td>\n",
       "      <td>397</td>\n",
       "      <td>0</td>\n",
       "      <td>2020</td>\n",
       "      <td>xxx</td>\n",
       "      <td>2020</td>\n",
       "    </tr>\n",
       "    <tr>\n",
       "      <th>1304</th>\n",
       "      <td>xxx-20</td>\n",
       "      <td>David Mikie</td>\n",
       "      <td>Stanley Kubrick</td>\n",
       "      <td>2020</td>\n",
       "      <td>248</td>\n",
       "      <td>0</td>\n",
       "      <td>2020</td>\n",
       "      <td>xxx</td>\n",
       "      <td>2020</td>\n",
       "    </tr>\n",
       "    <tr>\n",
       "      <th>1305</th>\n",
       "      <td>xxx-20</td>\n",
       "      <td>Julie Satow</td>\n",
       "      <td>The Plaza</td>\n",
       "      <td>2019</td>\n",
       "      <td>358</td>\n",
       "      <td>0</td>\n",
       "      <td>2019</td>\n",
       "      <td>xxx</td>\n",
       "      <td>2020</td>\n",
       "    </tr>\n",
       "    <tr>\n",
       "      <th>1306</th>\n",
       "      <td>xxx-20</td>\n",
       "      <td>Ash Carter and Sam Kashner</td>\n",
       "      <td>Life Isn’t Everything – Mike Nichols as Rememb...</td>\n",
       "      <td>2019</td>\n",
       "      <td>368</td>\n",
       "      <td>0</td>\n",
       "      <td>2019</td>\n",
       "      <td>xxx</td>\n",
       "      <td>2020</td>\n",
       "    </tr>\n",
       "    <tr>\n",
       "      <th>1307</th>\n",
       "      <td>xxx-21</td>\n",
       "      <td>Ruth Ben-Ghiat</td>\n",
       "      <td>Strongmen (Mussolini to the Present)</td>\n",
       "      <td>2019</td>\n",
       "      <td>384</td>\n",
       "      <td>0</td>\n",
       "      <td>2019</td>\n",
       "      <td>xxx</td>\n",
       "      <td>2021</td>\n",
       "    </tr>\n",
       "  </tbody>\n",
       "</table>\n",
       "<p>125 rows × 9 columns</p>\n",
       "</div>"
      ],
      "text/plain": [
       "     Date Read                      Author  \\\n",
       "926     xxx-05             Lawrence Potter   \n",
       "927     xxx-05               Immanuel Kant   \n",
       "928     xxx-05                   Bob Dylan   \n",
       "929     xxx-05             Arthur Koestler   \n",
       "930     xxx-05          Richard L. Bushman   \n",
       "...        ...                         ...   \n",
       "1303    xxx-20        Doris Kearns Goodwin   \n",
       "1304    xxx-20                 David Mikie   \n",
       "1305    xxx-20                 Julie Satow   \n",
       "1306    xxx-20  Ash Carter and Sam Kashner   \n",
       "1307    xxx-21              Ruth Ben-Ghiat   \n",
       "\n",
       "                                                  Books Year Published  Pages  \\\n",
       "926                     The Persian Gulf in Transition            1997    336   \n",
       "927                                    Perpetual Peace            1795    160   \n",
       "928                                 Chronicles, vol. 1            2004    320   \n",
       "929                                     The Gladiators            1949     44   \n",
       "930                             From Puritan to Yankee            1967    352   \n",
       "...                                                 ...            ...    ...   \n",
       "1303                                         Leadership           2020    397   \n",
       "1304                                    Stanley Kubrick           2020    248   \n",
       "1305                                          The Plaza           2019    358   \n",
       "1306  Life Isn’t Everything – Mike Nichols as Rememb...           2019    368   \n",
       "1307              Strongmen (Mussolini to the Present)            2019    384   \n",
       "\n",
       "      Favorite  Year_Published_numerical Month  Year  \n",
       "926          0                      1997   xxx  2005  \n",
       "927          0                      1795   xxx  2005  \n",
       "928          0                      2004   xxx  2005  \n",
       "929          0                      1949   xxx  2005  \n",
       "930          0                      1967   xxx  2005  \n",
       "...        ...                       ...   ...   ...  \n",
       "1303         0                      2020   xxx  2020  \n",
       "1304         0                      2020   xxx  2020  \n",
       "1305         0                      2019   xxx  2020  \n",
       "1306         0                      2019   xxx  2020  \n",
       "1307         0                      2019   xxx  2021  \n",
       "\n",
       "[125 rows x 9 columns]"
      ]
     },
     "execution_count": 33,
     "metadata": {},
     "output_type": "execute_result"
    }
   ],
   "source": [
    "df[df[\"Month\"]==\"xxx\"]"
   ]
  },
  {
   "cell_type": "markdown",
   "id": "d1d9da7b",
   "metadata": {
    "papermill": {
     "duration": 0.059553,
     "end_time": "2022-05-21T21:09:35.469585",
     "exception": false,
     "start_time": "2022-05-21T21:09:35.410032",
     "status": "completed"
    },
    "tags": []
   },
   "source": [
    "# Modelling Favourites"
   ]
  },
  {
   "cell_type": "code",
   "execution_count": 34,
   "id": "92bc712d",
   "metadata": {
    "execution": {
     "iopub.execute_input": "2022-05-21T21:09:35.592424Z",
     "iopub.status.busy": "2022-05-21T21:09:35.591727Z",
     "iopub.status.idle": "2022-05-21T21:09:35.743034Z",
     "shell.execute_reply": "2022-05-21T21:09:35.742254Z"
    },
    "papermill": {
     "duration": 0.214326,
     "end_time": "2022-05-21T21:09:35.745323",
     "exception": false,
     "start_time": "2022-05-21T21:09:35.530997",
     "status": "completed"
    },
    "tags": []
   },
   "outputs": [],
   "source": [
    "from sklearn.preprocessing import LabelEncoder"
   ]
  },
  {
   "cell_type": "code",
   "execution_count": 35,
   "id": "052832ea",
   "metadata": {
    "execution": {
     "iopub.execute_input": "2022-05-21T21:09:35.867622Z",
     "iopub.status.busy": "2022-05-21T21:09:35.867130Z",
     "iopub.status.idle": "2022-05-21T21:09:35.876208Z",
     "shell.execute_reply": "2022-05-21T21:09:35.875306Z"
    },
    "papermill": {
     "duration": 0.07116,
     "end_time": "2022-05-21T21:09:35.877973",
     "exception": false,
     "start_time": "2022-05-21T21:09:35.806813",
     "status": "completed"
    },
    "tags": []
   },
   "outputs": [],
   "source": [
    "le = LabelEncoder()\n",
    "df[\"Author_code\"] = le.fit_transform(df[\"Author\"])"
   ]
  },
  {
   "cell_type": "code",
   "execution_count": 36,
   "id": "9f39d0e3",
   "metadata": {
    "execution": {
     "iopub.execute_input": "2022-05-21T21:09:35.999266Z",
     "iopub.status.busy": "2022-05-21T21:09:35.998793Z",
     "iopub.status.idle": "2022-05-21T21:09:36.003694Z",
     "shell.execute_reply": "2022-05-21T21:09:36.003112Z"
    },
    "papermill": {
     "duration": 0.068021,
     "end_time": "2022-05-21T21:09:36.005557",
     "exception": false,
     "start_time": "2022-05-21T21:09:35.937536",
     "status": "completed"
    },
    "tags": []
   },
   "outputs": [],
   "source": [
    "x = df[[\"Author_code\", \"Year_Published_numerical\", \"Pages\", \"Year\"]]\n",
    "y = df[\"Favorite\"]"
   ]
  },
  {
   "cell_type": "code",
   "execution_count": 37,
   "id": "d77f1ebb",
   "metadata": {
    "execution": {
     "iopub.execute_input": "2022-05-21T21:09:36.127144Z",
     "iopub.status.busy": "2022-05-21T21:09:36.126610Z",
     "iopub.status.idle": "2022-05-21T21:09:36.194217Z",
     "shell.execute_reply": "2022-05-21T21:09:36.193430Z"
    },
    "papermill": {
     "duration": 0.130576,
     "end_time": "2022-05-21T21:09:36.196491",
     "exception": false,
     "start_time": "2022-05-21T21:09:36.065915",
     "status": "completed"
    },
    "tags": []
   },
   "outputs": [],
   "source": [
    "from sklearn.model_selection import train_test_split\n",
    "from sklearn.metrics import classification_report,confusion_matrix\n"
   ]
  },
  {
   "cell_type": "code",
   "execution_count": 38,
   "id": "cdc18830",
   "metadata": {
    "execution": {
     "iopub.execute_input": "2022-05-21T21:09:36.316932Z",
     "iopub.status.busy": "2022-05-21T21:09:36.316629Z",
     "iopub.status.idle": "2022-05-21T21:09:36.322932Z",
     "shell.execute_reply": "2022-05-21T21:09:36.322336Z"
    },
    "papermill": {
     "duration": 0.068322,
     "end_time": "2022-05-21T21:09:36.324762",
     "exception": false,
     "start_time": "2022-05-21T21:09:36.256440",
     "status": "completed"
    },
    "tags": []
   },
   "outputs": [],
   "source": [
    "X_train, X_test, y_train, y_test = train_test_split(x, y, test_size = 0.3, random_state= 360 )"
   ]
  },
  {
   "cell_type": "code",
   "execution_count": 39,
   "id": "27f1c36d",
   "metadata": {
    "execution": {
     "iopub.execute_input": "2022-05-21T21:09:36.449161Z",
     "iopub.status.busy": "2022-05-21T21:09:36.448853Z",
     "iopub.status.idle": "2022-05-21T21:09:36.534373Z",
     "shell.execute_reply": "2022-05-21T21:09:36.533418Z"
    },
    "papermill": {
     "duration": 0.150403,
     "end_time": "2022-05-21T21:09:36.536685",
     "exception": false,
     "start_time": "2022-05-21T21:09:36.386282",
     "status": "completed"
    },
    "tags": []
   },
   "outputs": [],
   "source": [
    "from sklearn.linear_model import LogisticRegression"
   ]
  },
  {
   "cell_type": "code",
   "execution_count": 40,
   "id": "b77af738",
   "metadata": {
    "execution": {
     "iopub.execute_input": "2022-05-21T21:09:36.659071Z",
     "iopub.status.busy": "2022-05-21T21:09:36.658516Z",
     "iopub.status.idle": "2022-05-21T21:09:36.681667Z",
     "shell.execute_reply": "2022-05-21T21:09:36.680865Z"
    },
    "papermill": {
     "duration": 0.08579,
     "end_time": "2022-05-21T21:09:36.683598",
     "exception": false,
     "start_time": "2022-05-21T21:09:36.597808",
     "status": "completed"
    },
    "tags": []
   },
   "outputs": [
    {
     "data": {
      "text/plain": [
       "LogisticRegression()"
      ]
     },
     "execution_count": 40,
     "metadata": {},
     "output_type": "execute_result"
    }
   ],
   "source": [
    "logmodel = LogisticRegression()\n",
    "logmodel.fit(X_train, y_train)"
   ]
  },
  {
   "cell_type": "code",
   "execution_count": 41,
   "id": "a25b433c",
   "metadata": {
    "execution": {
     "iopub.execute_input": "2022-05-21T21:09:36.808580Z",
     "iopub.status.busy": "2022-05-21T21:09:36.808013Z",
     "iopub.status.idle": "2022-05-21T21:09:36.813815Z",
     "shell.execute_reply": "2022-05-21T21:09:36.813156Z"
    },
    "papermill": {
     "duration": 0.071038,
     "end_time": "2022-05-21T21:09:36.815869",
     "exception": false,
     "start_time": "2022-05-21T21:09:36.744831",
     "status": "completed"
    },
    "tags": []
   },
   "outputs": [],
   "source": [
    "predictions = logmodel.predict(X_test)"
   ]
  },
  {
   "cell_type": "code",
   "execution_count": 42,
   "id": "b9912ebd",
   "metadata": {
    "execution": {
     "iopub.execute_input": "2022-05-21T21:09:36.942247Z",
     "iopub.status.busy": "2022-05-21T21:09:36.941685Z",
     "iopub.status.idle": "2022-05-21T21:09:36.945805Z",
     "shell.execute_reply": "2022-05-21T21:09:36.945247Z"
    },
    "papermill": {
     "duration": 0.071073,
     "end_time": "2022-05-21T21:09:36.947656",
     "exception": false,
     "start_time": "2022-05-21T21:09:36.876583",
     "status": "completed"
    },
    "tags": []
   },
   "outputs": [],
   "source": [
    "from sklearn.metrics import classification_report"
   ]
  },
  {
   "cell_type": "code",
   "execution_count": 43,
   "id": "06d8da46",
   "metadata": {
    "execution": {
     "iopub.execute_input": "2022-05-21T21:09:37.068958Z",
     "iopub.status.busy": "2022-05-21T21:09:37.068668Z",
     "iopub.status.idle": "2022-05-21T21:09:37.080910Z",
     "shell.execute_reply": "2022-05-21T21:09:37.080094Z"
    },
    "papermill": {
     "duration": 0.07629,
     "end_time": "2022-05-21T21:09:37.083733",
     "exception": false,
     "start_time": "2022-05-21T21:09:37.007443",
     "status": "completed"
    },
    "tags": []
   },
   "outputs": [
    {
     "name": "stdout",
     "output_type": "stream",
     "text": [
      "Logistic Model - reading month excluded\n",
      "[[357   1]\n",
      " [ 39   0]]\n",
      "              precision    recall  f1-score   support\n",
      "\n",
      "           0       0.90      1.00      0.95       358\n",
      "           1       0.00      0.00      0.00        39\n",
      "\n",
      "    accuracy                           0.90       397\n",
      "   macro avg       0.45      0.50      0.47       397\n",
      "weighted avg       0.81      0.90      0.85       397\n",
      "\n"
     ]
    }
   ],
   "source": [
    "print(\"Logistic Model - reading month excluded\")\n",
    "print(confusion_matrix(y_test,predictions))\n",
    "print(classification_report(y_test, predictions))\n",
    "# nope.. "
   ]
  },
  {
   "cell_type": "code",
   "execution_count": 44,
   "id": "8a85185b",
   "metadata": {
    "execution": {
     "iopub.execute_input": "2022-05-21T21:09:37.206428Z",
     "iopub.status.busy": "2022-05-21T21:09:37.206109Z",
     "iopub.status.idle": "2022-05-21T21:09:37.377158Z",
     "shell.execute_reply": "2022-05-21T21:09:37.376503Z"
    },
    "papermill": {
     "duration": 0.234599,
     "end_time": "2022-05-21T21:09:37.379568",
     "exception": false,
     "start_time": "2022-05-21T21:09:37.144969",
     "status": "completed"
    },
    "tags": []
   },
   "outputs": [],
   "source": [
    "from sklearn.ensemble import RandomForestClassifier"
   ]
  },
  {
   "cell_type": "code",
   "execution_count": 45,
   "id": "6f1d202d",
   "metadata": {
    "execution": {
     "iopub.execute_input": "2022-05-21T21:09:37.524920Z",
     "iopub.status.busy": "2022-05-21T21:09:37.524085Z",
     "iopub.status.idle": "2022-05-21T21:09:37.735475Z",
     "shell.execute_reply": "2022-05-21T21:09:37.734633Z"
    },
    "papermill": {
     "duration": 0.275337,
     "end_time": "2022-05-21T21:09:37.737713",
     "exception": false,
     "start_time": "2022-05-21T21:09:37.462376",
     "status": "completed"
    },
    "tags": []
   },
   "outputs": [
    {
     "data": {
      "text/plain": [
       "RandomForestClassifier()"
      ]
     },
     "execution_count": 45,
     "metadata": {},
     "output_type": "execute_result"
    }
   ],
   "source": [
    "RandomForest = RandomForestClassifier()\n",
    "RandomForest.fit(X_train, y_train)"
   ]
  },
  {
   "cell_type": "code",
   "execution_count": 46,
   "id": "64d6c083",
   "metadata": {
    "execution": {
     "iopub.execute_input": "2022-05-21T21:09:37.861485Z",
     "iopub.status.busy": "2022-05-21T21:09:37.860686Z",
     "iopub.status.idle": "2022-05-21T21:09:37.882667Z",
     "shell.execute_reply": "2022-05-21T21:09:37.881635Z"
    },
    "papermill": {
     "duration": 0.086887,
     "end_time": "2022-05-21T21:09:37.885094",
     "exception": false,
     "start_time": "2022-05-21T21:09:37.798207",
     "status": "completed"
    },
    "tags": []
   },
   "outputs": [],
   "source": [
    "RandomForest_pred = RandomForest.predict(X_test)"
   ]
  },
  {
   "cell_type": "code",
   "execution_count": 47,
   "id": "b9e2f633",
   "metadata": {
    "execution": {
     "iopub.execute_input": "2022-05-21T21:09:38.011831Z",
     "iopub.status.busy": "2022-05-21T21:09:38.010971Z",
     "iopub.status.idle": "2022-05-21T21:09:38.022281Z",
     "shell.execute_reply": "2022-05-21T21:09:38.021360Z"
    },
    "papermill": {
     "duration": 0.077451,
     "end_time": "2022-05-21T21:09:38.024417",
     "exception": false,
     "start_time": "2022-05-21T21:09:37.946966",
     "status": "completed"
    },
    "tags": []
   },
   "outputs": [
    {
     "name": "stdout",
     "output_type": "stream",
     "text": [
      "Random Forest Model - reading month excluded\n",
      "[[351   7]\n",
      " [ 37   2]]\n",
      "              precision    recall  f1-score   support\n",
      "\n",
      "           0       0.90      0.98      0.94       358\n",
      "           1       0.22      0.05      0.08        39\n",
      "\n",
      "    accuracy                           0.89       397\n",
      "   macro avg       0.56      0.52      0.51       397\n",
      "weighted avg       0.84      0.89      0.86       397\n",
      "\n"
     ]
    }
   ],
   "source": [
    "print(\"Random Forest Model - reading month excluded\")\n",
    "\n",
    "print(confusion_matrix(y_test,RandomForest_pred))\n",
    "print(classification_report(y_test, RandomForest_pred))"
   ]
  },
  {
   "cell_type": "code",
   "execution_count": null,
   "id": "d6d78123",
   "metadata": {
    "papermill": {
     "duration": 0.060239,
     "end_time": "2022-05-21T21:09:38.147220",
     "exception": false,
     "start_time": "2022-05-21T21:09:38.086981",
     "status": "completed"
    },
    "tags": []
   },
   "outputs": [],
   "source": []
  },
  {
   "cell_type": "markdown",
   "id": "b669a984",
   "metadata": {
    "papermill": {
     "duration": 0.0619,
     "end_time": "2022-05-21T21:09:38.269905",
     "exception": false,
     "start_time": "2022-05-21T21:09:38.208005",
     "status": "completed"
    },
    "tags": []
   },
   "source": [
    "# month known"
   ]
  },
  {
   "cell_type": "code",
   "execution_count": 48,
   "id": "6e92dc20",
   "metadata": {
    "execution": {
     "iopub.execute_input": "2022-05-21T21:09:38.394804Z",
     "iopub.status.busy": "2022-05-21T21:09:38.394385Z",
     "iopub.status.idle": "2022-05-21T21:09:38.400239Z",
     "shell.execute_reply": "2022-05-21T21:09:38.399644Z"
    },
    "papermill": {
     "duration": 0.070875,
     "end_time": "2022-05-21T21:09:38.402013",
     "exception": false,
     "start_time": "2022-05-21T21:09:38.331138",
     "status": "completed"
    },
    "tags": []
   },
   "outputs": [],
   "source": [
    "df.drop(df[df[\"Month\"]==\"xxx\"].index, axis = 0, inplace = True)"
   ]
  },
  {
   "cell_type": "code",
   "execution_count": 49,
   "id": "9ebe3fff",
   "metadata": {
    "execution": {
     "iopub.execute_input": "2022-05-21T21:09:38.526601Z",
     "iopub.status.busy": "2022-05-21T21:09:38.526187Z",
     "iopub.status.idle": "2022-05-21T21:09:38.536388Z",
     "shell.execute_reply": "2022-05-21T21:09:38.535759Z"
    },
    "papermill": {
     "duration": 0.074627,
     "end_time": "2022-05-21T21:09:38.538292",
     "exception": false,
     "start_time": "2022-05-21T21:09:38.463665",
     "status": "completed"
    },
    "tags": []
   },
   "outputs": [],
   "source": [
    "df[\"Month_no\"] = pd.to_datetime(df[\"Month\"], format = \"%b\").dt.month"
   ]
  },
  {
   "cell_type": "code",
   "execution_count": 50,
   "id": "f77333a3",
   "metadata": {
    "execution": {
     "iopub.execute_input": "2022-05-21T21:09:38.662935Z",
     "iopub.status.busy": "2022-05-21T21:09:38.662526Z",
     "iopub.status.idle": "2022-05-21T21:09:38.667931Z",
     "shell.execute_reply": "2022-05-21T21:09:38.667392Z"
    },
    "papermill": {
     "duration": 0.070768,
     "end_time": "2022-05-21T21:09:38.669760",
     "exception": false,
     "start_time": "2022-05-21T21:09:38.598992",
     "status": "completed"
    },
    "tags": []
   },
   "outputs": [],
   "source": [
    "x = df[[\"Author_code\",\"Month_no\", \"Year_Published_numerical\", \"Pages\", \"Year\"]]\n",
    "y = df[\"Favorite\"]"
   ]
  },
  {
   "cell_type": "code",
   "execution_count": 51,
   "id": "9c722ecf",
   "metadata": {
    "execution": {
     "iopub.execute_input": "2022-05-21T21:09:38.795235Z",
     "iopub.status.busy": "2022-05-21T21:09:38.794767Z",
     "iopub.status.idle": "2022-05-21T21:09:38.800615Z",
     "shell.execute_reply": "2022-05-21T21:09:38.799962Z"
    },
    "papermill": {
     "duration": 0.070801,
     "end_time": "2022-05-21T21:09:38.802471",
     "exception": false,
     "start_time": "2022-05-21T21:09:38.731670",
     "status": "completed"
    },
    "tags": []
   },
   "outputs": [],
   "source": [
    "X_train, X_test, y_train, y_test = train_test_split(x, y, test_size = 0.3, random_state= 360 )"
   ]
  },
  {
   "cell_type": "code",
   "execution_count": 52,
   "id": "119cb87a",
   "metadata": {
    "execution": {
     "iopub.execute_input": "2022-05-21T21:09:38.926782Z",
     "iopub.status.busy": "2022-05-21T21:09:38.926255Z",
     "iopub.status.idle": "2022-05-21T21:09:38.943872Z",
     "shell.execute_reply": "2022-05-21T21:09:38.943322Z"
    },
    "papermill": {
     "duration": 0.082651,
     "end_time": "2022-05-21T21:09:38.945748",
     "exception": false,
     "start_time": "2022-05-21T21:09:38.863097",
     "status": "completed"
    },
    "tags": []
   },
   "outputs": [
    {
     "data": {
      "text/plain": [
       "LogisticRegression()"
      ]
     },
     "execution_count": 52,
     "metadata": {},
     "output_type": "execute_result"
    }
   ],
   "source": [
    "logmodel = LogisticRegression()\n",
    "logmodel.fit(X_train, y_train)"
   ]
  },
  {
   "cell_type": "code",
   "execution_count": 53,
   "id": "11052a5d",
   "metadata": {
    "execution": {
     "iopub.execute_input": "2022-05-21T21:09:39.071239Z",
     "iopub.status.busy": "2022-05-21T21:09:39.070723Z",
     "iopub.status.idle": "2022-05-21T21:09:39.075982Z",
     "shell.execute_reply": "2022-05-21T21:09:39.075401Z"
    },
    "papermill": {
     "duration": 0.070916,
     "end_time": "2022-05-21T21:09:39.077730",
     "exception": false,
     "start_time": "2022-05-21T21:09:39.006814",
     "status": "completed"
    },
    "tags": []
   },
   "outputs": [],
   "source": [
    "predictions = logmodel.predict(X_test)"
   ]
  },
  {
   "cell_type": "code",
   "execution_count": 54,
   "id": "71bda8d7",
   "metadata": {
    "execution": {
     "iopub.execute_input": "2022-05-21T21:09:39.201788Z",
     "iopub.status.busy": "2022-05-21T21:09:39.201238Z",
     "iopub.status.idle": "2022-05-21T21:09:39.212436Z",
     "shell.execute_reply": "2022-05-21T21:09:39.211801Z"
    },
    "papermill": {
     "duration": 0.075717,
     "end_time": "2022-05-21T21:09:39.214631",
     "exception": false,
     "start_time": "2022-05-21T21:09:39.138914",
     "status": "completed"
    },
    "tags": []
   },
   "outputs": [
    {
     "name": "stdout",
     "output_type": "stream",
     "text": [
      "Logistic Model - reading month included\n",
      "[[314   1]\n",
      " [ 44   0]]\n",
      "              precision    recall  f1-score   support\n",
      "\n",
      "           0       0.88      1.00      0.93       315\n",
      "           1       0.00      0.00      0.00        44\n",
      "\n",
      "    accuracy                           0.87       359\n",
      "   macro avg       0.44      0.50      0.47       359\n",
      "weighted avg       0.77      0.87      0.82       359\n",
      "\n"
     ]
    }
   ],
   "source": [
    "print(\"Logistic Model - reading month included\")\n",
    "\n",
    "print(confusion_matrix(y_test,predictions))\n",
    "print(classification_report(y_test, predictions))"
   ]
  },
  {
   "cell_type": "code",
   "execution_count": 55,
   "id": "942c7de3",
   "metadata": {
    "execution": {
     "iopub.execute_input": "2022-05-21T21:09:39.340621Z",
     "iopub.status.busy": "2022-05-21T21:09:39.340314Z",
     "iopub.status.idle": "2022-05-21T21:09:39.530103Z",
     "shell.execute_reply": "2022-05-21T21:09:39.529464Z"
    },
    "papermill": {
     "duration": 0.255772,
     "end_time": "2022-05-21T21:09:39.531887",
     "exception": false,
     "start_time": "2022-05-21T21:09:39.276115",
     "status": "completed"
    },
    "tags": []
   },
   "outputs": [
    {
     "data": {
      "text/plain": [
       "RandomForestClassifier()"
      ]
     },
     "execution_count": 55,
     "metadata": {},
     "output_type": "execute_result"
    }
   ],
   "source": [
    "RandomForest = RandomForestClassifier()\n",
    "RandomForest.fit(X_train, y_train)"
   ]
  },
  {
   "cell_type": "code",
   "execution_count": 56,
   "id": "6fb90c15",
   "metadata": {
    "execution": {
     "iopub.execute_input": "2022-05-21T21:09:39.657162Z",
     "iopub.status.busy": "2022-05-21T21:09:39.656608Z",
     "iopub.status.idle": "2022-05-21T21:09:39.675980Z",
     "shell.execute_reply": "2022-05-21T21:09:39.675304Z"
    },
    "papermill": {
     "duration": 0.084386,
     "end_time": "2022-05-21T21:09:39.678119",
     "exception": false,
     "start_time": "2022-05-21T21:09:39.593733",
     "status": "completed"
    },
    "tags": []
   },
   "outputs": [],
   "source": [
    "RandomForest_pred = RandomForest.predict(X_test)"
   ]
  },
  {
   "cell_type": "code",
   "execution_count": 57,
   "id": "72280758",
   "metadata": {
    "execution": {
     "iopub.execute_input": "2022-05-21T21:09:39.803486Z",
     "iopub.status.busy": "2022-05-21T21:09:39.802976Z",
     "iopub.status.idle": "2022-05-21T21:09:39.812832Z",
     "shell.execute_reply": "2022-05-21T21:09:39.811505Z"
    },
    "papermill": {
     "duration": 0.074825,
     "end_time": "2022-05-21T21:09:39.814878",
     "exception": false,
     "start_time": "2022-05-21T21:09:39.740053",
     "status": "completed"
    },
    "tags": []
   },
   "outputs": [
    {
     "name": "stdout",
     "output_type": "stream",
     "text": [
      "Random Forest Model - reading month included\n",
      "[[311   4]\n",
      " [ 42   2]]\n",
      "              precision    recall  f1-score   support\n",
      "\n",
      "           0       0.88      0.99      0.93       315\n",
      "           1       0.33      0.05      0.08        44\n",
      "\n",
      "    accuracy                           0.87       359\n",
      "   macro avg       0.61      0.52      0.51       359\n",
      "weighted avg       0.81      0.87      0.83       359\n",
      "\n"
     ]
    }
   ],
   "source": [
    "print(\"Random Forest Model - reading month included\")\n",
    "\n",
    "print(confusion_matrix(y_test,RandomForest_pred))\n",
    "print(classification_report(y_test, RandomForest_pred))"
   ]
  },
  {
   "cell_type": "code",
   "execution_count": null,
   "id": "c42da0e4",
   "metadata": {
    "papermill": {
     "duration": 0.063431,
     "end_time": "2022-05-21T21:09:39.941847",
     "exception": false,
     "start_time": "2022-05-21T21:09:39.878416",
     "status": "completed"
    },
    "tags": []
   },
   "outputs": [],
   "source": []
  }
 ],
 "metadata": {
  "kernelspec": {
   "display_name": "Python 3",
   "language": "python",
   "name": "python3"
  },
  "language_info": {
   "codemirror_mode": {
    "name": "ipython",
    "version": 3
   },
   "file_extension": ".py",
   "mimetype": "text/x-python",
   "name": "python",
   "nbconvert_exporter": "python",
   "pygments_lexer": "ipython3",
   "version": "3.7.12"
  },
  "papermill": {
   "default_parameters": {},
   "duration": 24.138395,
   "end_time": "2022-05-21T21:09:40.825683",
   "environment_variables": {},
   "exception": null,
   "input_path": "__notebook__.ipynb",
   "output_path": "__notebook__.ipynb",
   "parameters": {},
   "start_time": "2022-05-21T21:09:16.687288",
   "version": "2.3.4"
  }
 },
 "nbformat": 4,
 "nbformat_minor": 5
}
