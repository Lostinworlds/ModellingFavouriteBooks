{
 "cells": [
  {
   "cell_type": "code",
   "execution_count": 1,
   "id": "16de33d8",
   "metadata": {
    "_cell_guid": "b1076dfc-b9ad-4769-8c92-a6c4dae69d19",
    "_uuid": "8f2839f25d086af736a60e9eeb907d3b93b6e0e5",
    "execution": {
     "iopub.execute_input": "2022-05-21T07:09:54.468250Z",
     "iopub.status.busy": "2022-05-21T07:09:54.467684Z",
     "iopub.status.idle": "2022-05-21T07:09:55.623268Z",
     "shell.execute_reply": "2022-05-21T07:09:55.622574Z"
    },
    "papermill": {
     "duration": 1.230935,
     "end_time": "2022-05-21T07:09:55.625759",
     "exception": false,
     "start_time": "2022-05-21T07:09:54.394824",
     "status": "completed"
    },
    "tags": []
   },
   "outputs": [
    {
     "name": "stdout",
     "output_type": "stream",
     "text": [
      "/kaggle/input/art-garfunkels-library/Art Garfunkel Library.csv\n"
     ]
    }
   ],
   "source": [
    "# libraries for data handling\n",
    "import numpy as np # linear algebra\n",
    "import pandas as pd # data processing, CSV file I/O (e.g. pd.read_csv)\n",
    "\n",
    "# libraries specific for Kaggle\n",
    "import os\n",
    "for dirname, _, filenames in os.walk('/kaggle/input'):\n",
    "    for filename in filenames:\n",
    "        print(os.path.join(dirname, filename))\n",
    "\n",
    "# libraries for visualisation\n",
    "import matplotlib.pyplot as plt\n",
    "import seaborn as sns\n",
    "%matplotlib inline\n"
   ]
  },
  {
   "cell_type": "code",
   "execution_count": 2,
   "id": "98ba6444",
   "metadata": {
    "execution": {
     "iopub.execute_input": "2022-05-21T07:09:55.763402Z",
     "iopub.status.busy": "2022-05-21T07:09:55.762489Z",
     "iopub.status.idle": "2022-05-21T07:09:55.782954Z",
     "shell.execute_reply": "2022-05-21T07:09:55.782195Z"
    },
    "papermill": {
     "duration": 0.091918,
     "end_time": "2022-05-21T07:09:55.785438",
     "exception": false,
     "start_time": "2022-05-21T07:09:55.693520",
     "status": "completed"
    },
    "tags": []
   },
   "outputs": [],
   "source": [
    "df = pd.read_csv(\"/kaggle/input/art-garfunkels-library/Art Garfunkel Library.csv\")"
   ]
  },
  {
   "cell_type": "code",
   "execution_count": 3,
   "id": "2e9a8f77",
   "metadata": {
    "execution": {
     "iopub.execute_input": "2022-05-21T07:09:55.920353Z",
     "iopub.status.busy": "2022-05-21T07:09:55.920015Z",
     "iopub.status.idle": "2022-05-21T07:09:55.940826Z",
     "shell.execute_reply": "2022-05-21T07:09:55.940170Z"
    },
    "papermill": {
     "duration": 0.090695,
     "end_time": "2022-05-21T07:09:55.942913",
     "exception": false,
     "start_time": "2022-05-21T07:09:55.852218",
     "status": "completed"
    },
    "tags": []
   },
   "outputs": [
    {
     "data": {
      "text/html": [
       "<div>\n",
       "<style scoped>\n",
       "    .dataframe tbody tr th:only-of-type {\n",
       "        vertical-align: middle;\n",
       "    }\n",
       "\n",
       "    .dataframe tbody tr th {\n",
       "        vertical-align: top;\n",
       "    }\n",
       "\n",
       "    .dataframe thead th {\n",
       "        text-align: right;\n",
       "    }\n",
       "</style>\n",
       "<table border=\"1\" class=\"dataframe\">\n",
       "  <thead>\n",
       "    <tr style=\"text-align: right;\">\n",
       "      <th></th>\n",
       "      <th>Date Read</th>\n",
       "      <th>Author</th>\n",
       "      <th>Books</th>\n",
       "      <th>Year Published</th>\n",
       "      <th>Pages</th>\n",
       "      <th>Favorite</th>\n",
       "    </tr>\n",
       "  </thead>\n",
       "  <tbody>\n",
       "    <tr>\n",
       "      <th>0</th>\n",
       "      <td>Jun-68</td>\n",
       "      <td>Jean-Jacques Rousseau</td>\n",
       "      <td>The Confessions</td>\n",
       "      <td>1781</td>\n",
       "      <td>606</td>\n",
       "      <td>1</td>\n",
       "    </tr>\n",
       "    <tr>\n",
       "      <th>1</th>\n",
       "      <td>Jun-68</td>\n",
       "      <td>Erich Fromm</td>\n",
       "      <td>The Art of Loving</td>\n",
       "      <td>1956</td>\n",
       "      <td>146</td>\n",
       "      <td>1</td>\n",
       "    </tr>\n",
       "    <tr>\n",
       "      <th>2</th>\n",
       "      <td>Jun-68</td>\n",
       "      <td>Mark Twain</td>\n",
       "      <td>The Adventures of Huckleberry Finn</td>\n",
       "      <td>1884</td>\n",
       "      <td>288</td>\n",
       "      <td>0</td>\n",
       "    </tr>\n",
       "    <tr>\n",
       "      <th>3</th>\n",
       "      <td>Jul-68</td>\n",
       "      <td>James Thurber</td>\n",
       "      <td>My Life and Hard Times</td>\n",
       "      <td>1933</td>\n",
       "      <td>115</td>\n",
       "      <td>0</td>\n",
       "    </tr>\n",
       "    <tr>\n",
       "      <th>4</th>\n",
       "      <td>Jul-68</td>\n",
       "      <td>William Shakespeare</td>\n",
       "      <td>Romeo and Juliet</td>\n",
       "      <td>1596</td>\n",
       "      <td>146</td>\n",
       "      <td>0</td>\n",
       "    </tr>\n",
       "  </tbody>\n",
       "</table>\n",
       "</div>"
      ],
      "text/plain": [
       "  Date Read                 Author                               Books  \\\n",
       "0    Jun-68  Jean-Jacques Rousseau                     The Confessions   \n",
       "1    Jun-68            Erich Fromm                   The Art of Loving   \n",
       "2    Jun-68             Mark Twain  The Adventures of Huckleberry Finn   \n",
       "3    Jul-68          James Thurber              My Life and Hard Times   \n",
       "4    Jul-68    William Shakespeare                    Romeo and Juliet   \n",
       "\n",
       "  Year Published  Pages  Favorite  \n",
       "0           1781    606         1  \n",
       "1           1956    146         1  \n",
       "2           1884    288         0  \n",
       "3           1933    115         0  \n",
       "4           1596    146         0  "
      ]
     },
     "execution_count": 3,
     "metadata": {},
     "output_type": "execute_result"
    }
   ],
   "source": [
    "df.head()"
   ]
  },
  {
   "cell_type": "code",
   "execution_count": 4,
   "id": "c5dc7814",
   "metadata": {
    "execution": {
     "iopub.execute_input": "2022-05-21T07:09:56.078018Z",
     "iopub.status.busy": "2022-05-21T07:09:56.077503Z",
     "iopub.status.idle": "2022-05-21T07:09:56.101745Z",
     "shell.execute_reply": "2022-05-21T07:09:56.100899Z"
    },
    "papermill": {
     "duration": 0.094308,
     "end_time": "2022-05-21T07:09:56.104095",
     "exception": false,
     "start_time": "2022-05-21T07:09:56.009787",
     "status": "completed"
    },
    "tags": []
   },
   "outputs": [
    {
     "name": "stdout",
     "output_type": "stream",
     "text": [
      "<class 'pandas.core.frame.DataFrame'>\n",
      "RangeIndex: 1321 entries, 0 to 1320\n",
      "Data columns (total 6 columns):\n",
      " #   Column          Non-Null Count  Dtype \n",
      "---  ------          --------------  ----- \n",
      " 0   Date Read       1321 non-null   object\n",
      " 1   Author          1321 non-null   object\n",
      " 2   Books           1321 non-null   object\n",
      " 3   Year Published  1321 non-null   object\n",
      " 4   Pages           1321 non-null   int64 \n",
      " 5   Favorite        1321 non-null   int64 \n",
      "dtypes: int64(2), object(4)\n",
      "memory usage: 62.0+ KB\n"
     ]
    }
   ],
   "source": [
    "df.info()"
   ]
  },
  {
   "cell_type": "code",
   "execution_count": null,
   "id": "61addec5",
   "metadata": {
    "papermill": {
     "duration": 0.069602,
     "end_time": "2022-05-21T07:09:56.242572",
     "exception": false,
     "start_time": "2022-05-21T07:09:56.172970",
     "status": "completed"
    },
    "tags": []
   },
   "outputs": [],
   "source": []
  },
  {
   "cell_type": "markdown",
   "id": "4bfa4429",
   "metadata": {
    "papermill": {
     "duration": 0.066836,
     "end_time": "2022-05-21T07:09:56.376435",
     "exception": false,
     "start_time": "2022-05-21T07:09:56.309599",
     "status": "completed"
    },
    "tags": []
   },
   "source": [
    "## Books"
   ]
  },
  {
   "cell_type": "code",
   "execution_count": 5,
   "id": "28c19ba6",
   "metadata": {
    "execution": {
     "iopub.execute_input": "2022-05-21T07:09:56.510991Z",
     "iopub.status.busy": "2022-05-21T07:09:56.510524Z",
     "iopub.status.idle": "2022-05-21T07:09:56.520166Z",
     "shell.execute_reply": "2022-05-21T07:09:56.519323Z"
    },
    "papermill": {
     "duration": 0.079916,
     "end_time": "2022-05-21T07:09:56.522559",
     "exception": false,
     "start_time": "2022-05-21T07:09:56.442643",
     "status": "completed"
    },
    "tags": []
   },
   "outputs": [
    {
     "data": {
      "text/plain": [
       "The Confessions                               3\n",
       "Autobiography                                 3\n",
       "The Last Interview                            2\n",
       "Othello                                       2\n",
       "The Europeans                                 2\n",
       "                                             ..\n",
       "The Solace of Open Spaces                     1\n",
       "Notes from the Underground                    1\n",
       "Tom Sawyer Abroad and Tom Sawyer Detective    1\n",
       "Singers and the Song                          1\n",
       "Saving Freedom                                1\n",
       "Name: Books, Length: 1305, dtype: int64"
      ]
     },
     "execution_count": 5,
     "metadata": {},
     "output_type": "execute_result"
    }
   ],
   "source": [
    "df[\"Books\"].value_counts()"
   ]
  },
  {
   "cell_type": "code",
   "execution_count": 6,
   "id": "7532feb5",
   "metadata": {
    "execution": {
     "iopub.execute_input": "2022-05-21T07:09:56.657472Z",
     "iopub.status.busy": "2022-05-21T07:09:56.657144Z",
     "iopub.status.idle": "2022-05-21T07:09:56.670481Z",
     "shell.execute_reply": "2022-05-21T07:09:56.669699Z"
    },
    "papermill": {
     "duration": 0.083299,
     "end_time": "2022-05-21T07:09:56.672638",
     "exception": false,
     "start_time": "2022-05-21T07:09:56.589339",
     "status": "completed"
    },
    "tags": []
   },
   "outputs": [
    {
     "data": {
      "text/html": [
       "<div>\n",
       "<style scoped>\n",
       "    .dataframe tbody tr th:only-of-type {\n",
       "        vertical-align: middle;\n",
       "    }\n",
       "\n",
       "    .dataframe tbody tr th {\n",
       "        vertical-align: top;\n",
       "    }\n",
       "\n",
       "    .dataframe thead th {\n",
       "        text-align: right;\n",
       "    }\n",
       "</style>\n",
       "<table border=\"1\" class=\"dataframe\">\n",
       "  <thead>\n",
       "    <tr style=\"text-align: right;\">\n",
       "      <th></th>\n",
       "      <th>Date Read</th>\n",
       "      <th>Author</th>\n",
       "      <th>Books</th>\n",
       "      <th>Year Published</th>\n",
       "      <th>Pages</th>\n",
       "      <th>Favorite</th>\n",
       "    </tr>\n",
       "  </thead>\n",
       "  <tbody>\n",
       "    <tr>\n",
       "      <th>49</th>\n",
       "      <td>Jan-71</td>\n",
       "      <td>William Shakespeare</td>\n",
       "      <td>Othello</td>\n",
       "      <td>1602</td>\n",
       "      <td>128</td>\n",
       "      <td>0</td>\n",
       "    </tr>\n",
       "    <tr>\n",
       "      <th>317</th>\n",
       "      <td>Oct-84</td>\n",
       "      <td>William Shakespeare</td>\n",
       "      <td>Othello</td>\n",
       "      <td>1604</td>\n",
       "      <td>154</td>\n",
       "      <td>0</td>\n",
       "    </tr>\n",
       "  </tbody>\n",
       "</table>\n",
       "</div>"
      ],
      "text/plain": [
       "    Date Read               Author    Books Year Published  Pages  Favorite\n",
       "49     Jan-71  William Shakespeare  Othello           1602    128         0\n",
       "317    Oct-84  William Shakespeare  Othello           1604    154         0"
      ]
     },
     "execution_count": 6,
     "metadata": {},
     "output_type": "execute_result"
    }
   ],
   "source": [
    "# different books?\n",
    "df[df[\"Books\"]==\"Othello\"]"
   ]
  },
  {
   "cell_type": "code",
   "execution_count": 7,
   "id": "59861a9b",
   "metadata": {
    "execution": {
     "iopub.execute_input": "2022-05-21T07:09:56.812269Z",
     "iopub.status.busy": "2022-05-21T07:09:56.811971Z",
     "iopub.status.idle": "2022-05-21T07:09:56.827141Z",
     "shell.execute_reply": "2022-05-21T07:09:56.826325Z"
    },
    "papermill": {
     "duration": 0.088202,
     "end_time": "2022-05-21T07:09:56.829542",
     "exception": false,
     "start_time": "2022-05-21T07:09:56.741340",
     "status": "completed"
    },
    "tags": []
   },
   "outputs": [
    {
     "data": {
      "text/html": [
       "<div>\n",
       "<style scoped>\n",
       "    .dataframe tbody tr th:only-of-type {\n",
       "        vertical-align: middle;\n",
       "    }\n",
       "\n",
       "    .dataframe tbody tr th {\n",
       "        vertical-align: top;\n",
       "    }\n",
       "\n",
       "    .dataframe thead th {\n",
       "        text-align: right;\n",
       "    }\n",
       "</style>\n",
       "<table border=\"1\" class=\"dataframe\">\n",
       "  <thead>\n",
       "    <tr style=\"text-align: right;\">\n",
       "      <th></th>\n",
       "      <th>Date Read</th>\n",
       "      <th>Author</th>\n",
       "      <th>Books</th>\n",
       "      <th>Year Published</th>\n",
       "      <th>Pages</th>\n",
       "      <th>Favorite</th>\n",
       "    </tr>\n",
       "  </thead>\n",
       "  <tbody>\n",
       "    <tr>\n",
       "      <th>167</th>\n",
       "      <td>Dec-79</td>\n",
       "      <td>W.B. Yeats</td>\n",
       "      <td>Autobiography</td>\n",
       "      <td>1922</td>\n",
       "      <td>387</td>\n",
       "      <td>0</td>\n",
       "    </tr>\n",
       "    <tr>\n",
       "      <th>192</th>\n",
       "      <td>Jul-81</td>\n",
       "      <td>Benvenuto Cellini</td>\n",
       "      <td>Autobiography</td>\n",
       "      <td>1562</td>\n",
       "      <td>397</td>\n",
       "      <td>0</td>\n",
       "    </tr>\n",
       "    <tr>\n",
       "      <th>262</th>\n",
       "      <td>Sep-83</td>\n",
       "      <td>Aaron Copland</td>\n",
       "      <td>Copland on Music</td>\n",
       "      <td>1959</td>\n",
       "      <td>280</td>\n",
       "      <td>0</td>\n",
       "    </tr>\n",
       "    <tr>\n",
       "      <th>1192</th>\n",
       "      <td>Oct-13</td>\n",
       "      <td>Witold Gombrowicz</td>\n",
       "      <td>Cosmos</td>\n",
       "      <td>1967</td>\n",
       "      <td>208</td>\n",
       "      <td>0</td>\n",
       "    </tr>\n",
       "    <tr>\n",
       "      <th>836</th>\n",
       "      <td>Dec-00</td>\n",
       "      <td>Sir Harold Nicolson</td>\n",
       "      <td>Diplomacy</td>\n",
       "      <td>1939</td>\n",
       "      <td>151</td>\n",
       "      <td>0</td>\n",
       "    </tr>\n",
       "    <tr>\n",
       "      <th>881</th>\n",
       "      <td>Jan-03</td>\n",
       "      <td>Lucien Febvr, Henri-Jean Martin</td>\n",
       "      <td>Good Behavior</td>\n",
       "      <td>1958</td>\n",
       "      <td>360</td>\n",
       "      <td>0</td>\n",
       "    </tr>\n",
       "    <tr>\n",
       "      <th>1085</th>\n",
       "      <td>Nov-09</td>\n",
       "      <td>D.A.F. Marquis deSade</td>\n",
       "      <td>Justine</td>\n",
       "      <td>1787</td>\n",
       "      <td>784</td>\n",
       "      <td>0</td>\n",
       "    </tr>\n",
       "    <tr>\n",
       "      <th>281</th>\n",
       "      <td>Feb-84</td>\n",
       "      <td>Richard Price</td>\n",
       "      <td>Ladies' Man</td>\n",
       "      <td>1978</td>\n",
       "      <td>264</td>\n",
       "      <td>0</td>\n",
       "    </tr>\n",
       "    <tr>\n",
       "      <th>526</th>\n",
       "      <td>Jul-90</td>\n",
       "      <td>Edith Hamilton</td>\n",
       "      <td>Mythology</td>\n",
       "      <td>1940</td>\n",
       "      <td>321</td>\n",
       "      <td>0</td>\n",
       "    </tr>\n",
       "    <tr>\n",
       "      <th>317</th>\n",
       "      <td>Oct-84</td>\n",
       "      <td>William Shakespeare</td>\n",
       "      <td>Othello</td>\n",
       "      <td>1604</td>\n",
       "      <td>154</td>\n",
       "      <td>0</td>\n",
       "    </tr>\n",
       "    <tr>\n",
       "      <th>249</th>\n",
       "      <td>May-83</td>\n",
       "      <td>Jean-Jacques Rousseau</td>\n",
       "      <td>The Confessions</td>\n",
       "      <td>1781</td>\n",
       "      <td>606</td>\n",
       "      <td>0</td>\n",
       "    </tr>\n",
       "    <tr>\n",
       "      <th>997</th>\n",
       "      <td>2007</td>\n",
       "      <td>Jean-Jacques Rousseau</td>\n",
       "      <td>The Confessions</td>\n",
       "      <td>1781</td>\n",
       "      <td>672</td>\n",
       "      <td>0</td>\n",
       "    </tr>\n",
       "    <tr>\n",
       "      <th>362</th>\n",
       "      <td>Nov-85</td>\n",
       "      <td>Luigi Barzini</td>\n",
       "      <td>The Europeans</td>\n",
       "      <td>1983</td>\n",
       "      <td>267</td>\n",
       "      <td>0</td>\n",
       "    </tr>\n",
       "    <tr>\n",
       "      <th>532</th>\n",
       "      <td>Sep-90</td>\n",
       "      <td>Tacitus</td>\n",
       "      <td>The Histories</td>\n",
       "      <td>98</td>\n",
       "      <td>287</td>\n",
       "      <td>0</td>\n",
       "    </tr>\n",
       "    <tr>\n",
       "      <th>1254</th>\n",
       "      <td>Apr-17</td>\n",
       "      <td>J.D. Salinger</td>\n",
       "      <td>The Last Interview</td>\n",
       "      <td>2016</td>\n",
       "      <td>208</td>\n",
       "      <td>0</td>\n",
       "    </tr>\n",
       "    <tr>\n",
       "      <th>830</th>\n",
       "      <td>Sep-00</td>\n",
       "      <td>Madame de Lafayette</td>\n",
       "      <td>The Princess of Cleves</td>\n",
       "      <td>1677</td>\n",
       "      <td>288</td>\n",
       "      <td>0</td>\n",
       "    </tr>\n",
       "  </tbody>\n",
       "</table>\n",
       "</div>"
      ],
      "text/plain": [
       "     Date Read                           Author                   Books  \\\n",
       "167     Dec-79                       W.B. Yeats           Autobiography   \n",
       "192     Jul-81                Benvenuto Cellini           Autobiography   \n",
       "262     Sep-83                    Aaron Copland        Copland on Music   \n",
       "1192    Oct-13                Witold Gombrowicz                  Cosmos   \n",
       "836     Dec-00              Sir Harold Nicolson               Diplomacy   \n",
       "881     Jan-03  Lucien Febvr, Henri-Jean Martin           Good Behavior   \n",
       "1085    Nov-09            D.A.F. Marquis deSade                 Justine   \n",
       "281     Feb-84                    Richard Price             Ladies' Man   \n",
       "526     Jul-90                   Edith Hamilton               Mythology   \n",
       "317     Oct-84              William Shakespeare                 Othello   \n",
       "249     May-83            Jean-Jacques Rousseau         The Confessions   \n",
       "997       2007            Jean-Jacques Rousseau         The Confessions   \n",
       "362     Nov-85                    Luigi Barzini           The Europeans   \n",
       "532     Sep-90                          Tacitus           The Histories   \n",
       "1254    Apr-17                    J.D. Salinger      The Last Interview   \n",
       "830     Sep-00              Madame de Lafayette  The Princess of Cleves   \n",
       "\n",
       "     Year Published  Pages  Favorite  \n",
       "167            1922    387         0  \n",
       "192            1562    397         0  \n",
       "262            1959    280         0  \n",
       "1192           1967    208         0  \n",
       "836            1939    151         0  \n",
       "881            1958    360         0  \n",
       "1085           1787    784         0  \n",
       "281            1978    264         0  \n",
       "526            1940    321         0  \n",
       "317            1604    154         0  \n",
       "249            1781    606         0  \n",
       "997            1781    672         0  \n",
       "362            1983    267         0  \n",
       "532              98    287         0  \n",
       "1254           2016    208         0  \n",
       "830            1677    288         0  "
      ]
     },
     "execution_count": 7,
     "metadata": {},
     "output_type": "execute_result"
    }
   ],
   "source": [
    "df[df[\"Books\"].duplicated()].sort_values(by = \"Books\")"
   ]
  },
  {
   "cell_type": "code",
   "execution_count": 8,
   "id": "910798bf",
   "metadata": {
    "execution": {
     "iopub.execute_input": "2022-05-21T07:09:56.969980Z",
     "iopub.status.busy": "2022-05-21T07:09:56.969711Z",
     "iopub.status.idle": "2022-05-21T07:09:56.977448Z",
     "shell.execute_reply": "2022-05-21T07:09:56.976570Z"
    },
    "papermill": {
     "duration": 0.080918,
     "end_time": "2022-05-21T07:09:56.979486",
     "exception": false,
     "start_time": "2022-05-21T07:09:56.898568",
     "status": "completed"
    },
    "tags": []
   },
   "outputs": [
    {
     "data": {
      "text/plain": [
       "0"
      ]
     },
     "execution_count": 8,
     "metadata": {},
     "output_type": "execute_result"
    }
   ],
   "source": [
    "# no fav books in duplicates and therefore favorits dont change between rereads \n",
    "df[df[\"Books\"].duplicated()][\"Favorite\"].sum()"
   ]
  },
  {
   "cell_type": "code",
   "execution_count": null,
   "id": "7f73c4e6",
   "metadata": {
    "papermill": {
     "duration": 0.067814,
     "end_time": "2022-05-21T07:09:57.116548",
     "exception": false,
     "start_time": "2022-05-21T07:09:57.048734",
     "status": "completed"
    },
    "tags": []
   },
   "outputs": [],
   "source": []
  },
  {
   "cell_type": "markdown",
   "id": "22916707",
   "metadata": {
    "papermill": {
     "duration": 0.067625,
     "end_time": "2022-05-21T07:09:57.252712",
     "exception": false,
     "start_time": "2022-05-21T07:09:57.185087",
     "status": "completed"
    },
    "tags": []
   },
   "source": [
    "## Favorite"
   ]
  },
  {
   "cell_type": "code",
   "execution_count": 9,
   "id": "ce3eb9bc",
   "metadata": {
    "execution": {
     "iopub.execute_input": "2022-05-21T07:09:57.393450Z",
     "iopub.status.busy": "2022-05-21T07:09:57.393093Z",
     "iopub.status.idle": "2022-05-21T07:09:57.590961Z",
     "shell.execute_reply": "2022-05-21T07:09:57.590329Z"
    },
    "papermill": {
     "duration": 0.270681,
     "end_time": "2022-05-21T07:09:57.593048",
     "exception": false,
     "start_time": "2022-05-21T07:09:57.322367",
     "status": "completed"
    },
    "tags": []
   },
   "outputs": [
    {
     "data": {
      "text/plain": [
       "<AxesSubplot:xlabel='Favorite', ylabel='count'>"
      ]
     },
     "execution_count": 9,
     "metadata": {},
     "output_type": "execute_result"
    },
    {
     "data": {
      "image/png": "[encoded data removed]",
      "text/plain": [
       "<Figure size 432x288 with 1 Axes>"
      ]
     },
     "metadata": {
      "needs_background": "light"
     },
     "output_type": "display_data"
    }
   ],
   "source": [
    "sns.countplot(x = \"Favorite\", data = df)"
   ]
  },
  {
   "cell_type": "code",
   "execution_count": 10,
   "id": "64226121",
   "metadata": {
    "execution": {
     "iopub.execute_input": "2022-05-21T07:09:57.735852Z",
     "iopub.status.busy": "2022-05-21T07:09:57.734938Z",
     "iopub.status.idle": "2022-05-21T07:09:57.741906Z",
     "shell.execute_reply": "2022-05-21T07:09:57.740899Z"
    },
    "papermill": {
     "duration": 0.08038,
     "end_time": "2022-05-21T07:09:57.744136",
     "exception": false,
     "start_time": "2022-05-21T07:09:57.663756",
     "status": "completed"
    },
    "tags": []
   },
   "outputs": [
    {
     "name": "stdout",
     "output_type": "stream",
     "text": [
      "10.295 % of the books were favorites\n"
     ]
    }
   ],
   "source": [
    "print(round(((df[df[\"Favorite\"] ==1].shape[0]/df.shape[0])*100),3), \"% of the books were favorites\")"
   ]
  },
  {
   "cell_type": "code",
   "execution_count": null,
   "id": "b56faaff",
   "metadata": {
    "papermill": {
     "duration": 0.072524,
     "end_time": "2022-05-21T07:09:57.886967",
     "exception": false,
     "start_time": "2022-05-21T07:09:57.814443",
     "status": "completed"
    },
    "tags": []
   },
   "outputs": [],
   "source": []
  },
  {
   "cell_type": "markdown",
   "id": "59370c28",
   "metadata": {
    "papermill": {
     "duration": 0.070283,
     "end_time": "2022-05-21T07:09:58.027651",
     "exception": false,
     "start_time": "2022-05-21T07:09:57.957368",
     "status": "completed"
    },
    "tags": []
   },
   "source": [
    "## Author"
   ]
  },
  {
   "cell_type": "code",
   "execution_count": 11,
   "id": "96aeaab9",
   "metadata": {
    "execution": {
     "iopub.execute_input": "2022-05-21T07:09:58.171797Z",
     "iopub.status.busy": "2022-05-21T07:09:58.170850Z",
     "iopub.status.idle": "2022-05-21T07:09:58.179299Z",
     "shell.execute_reply": "2022-05-21T07:09:58.178681Z"
    },
    "papermill": {
     "duration": 0.083073,
     "end_time": "2022-05-21T07:09:58.181506",
     "exception": false,
     "start_time": "2022-05-21T07:09:58.098433",
     "status": "completed"
    },
    "tags": []
   },
   "outputs": [
    {
     "data": {
      "text/plain": [
       "William Shakespeare      15\n",
       "Charles Dickens          10\n",
       "Jean-Jacques Rousseau     9\n",
       "Marcel Proust             8\n",
       "Various                   7\n",
       "                         ..\n",
       "J.P. Kenyon               1\n",
       "Michel Foucault           1\n",
       "Ian Frazier               1\n",
       "Anne Rice                 1\n",
       "Joe Scarborough           1\n",
       "Name: Author, Length: 966, dtype: int64"
      ]
     },
     "execution_count": 11,
     "metadata": {},
     "output_type": "execute_result"
    }
   ],
   "source": [
    "df[\"Author\"].value_counts()"
   ]
  },
  {
   "cell_type": "code",
   "execution_count": 12,
   "id": "1d6fd5a2",
   "metadata": {
    "execution": {
     "iopub.execute_input": "2022-05-21T07:09:58.325479Z",
     "iopub.status.busy": "2022-05-21T07:09:58.324606Z",
     "iopub.status.idle": "2022-05-21T07:09:58.334342Z",
     "shell.execute_reply": "2022-05-21T07:09:58.333730Z"
    },
    "papermill": {
     "duration": 0.08302,
     "end_time": "2022-05-21T07:09:58.336366",
     "exception": false,
     "start_time": "2022-05-21T07:09:58.253346",
     "status": "completed"
    },
    "tags": []
   },
   "outputs": [
    {
     "data": {
      "text/plain": [
       "Author\n",
       "Marcel Proust                    5\n",
       "L.N. Tolstoy                     4\n",
       "Jean Rhys                        3\n",
       "Vladimir Nabokov                 2\n",
       "Mark Twain                       2\n",
       "                                ..\n",
       "Giambattista Vico                0\n",
       "Giorgio Vasari                   0\n",
       "Giovanni Boccaccio               0\n",
       "Giovanni Pico della Mirandola    0\n",
       "editor, Eric L. McKitrick        0\n",
       "Name: Favorite, Length: 966, dtype: int64"
      ]
     },
     "execution_count": 12,
     "metadata": {},
     "output_type": "execute_result"
    }
   ],
   "source": [
    "# favorite authors exist\n",
    "df.groupby(\"Author\")[\"Favorite\"].sum().sort_values(ascending=False)"
   ]
  },
  {
   "cell_type": "code",
   "execution_count": 13,
   "id": "5830bb6c",
   "metadata": {
    "execution": {
     "iopub.execute_input": "2022-05-21T07:09:58.481535Z",
     "iopub.status.busy": "2022-05-21T07:09:58.480914Z",
     "iopub.status.idle": "2022-05-21T07:09:58.496720Z",
     "shell.execute_reply": "2022-05-21T07:09:58.495779Z"
    },
    "papermill": {
     "duration": 0.09139,
     "end_time": "2022-05-21T07:09:58.498862",
     "exception": false,
     "start_time": "2022-05-21T07:09:58.407472",
     "status": "completed"
    },
    "tags": []
   },
   "outputs": [
    {
     "data": {
      "text/html": [
       "<div>\n",
       "<style scoped>\n",
       "    .dataframe tbody tr th:only-of-type {\n",
       "        vertical-align: middle;\n",
       "    }\n",
       "\n",
       "    .dataframe tbody tr th {\n",
       "        vertical-align: top;\n",
       "    }\n",
       "\n",
       "    .dataframe thead th {\n",
       "        text-align: right;\n",
       "    }\n",
       "</style>\n",
       "<table border=\"1\" class=\"dataframe\">\n",
       "  <thead>\n",
       "    <tr style=\"text-align: right;\">\n",
       "      <th></th>\n",
       "      <th>0</th>\n",
       "      <th>1</th>\n",
       "      <th>2</th>\n",
       "      <th>3</th>\n",
       "    </tr>\n",
       "  </thead>\n",
       "  <tbody>\n",
       "    <tr>\n",
       "      <th>211</th>\n",
       "      <td>David C. Gompert</td>\n",
       "      <td>Michael Mandelbaum</td>\n",
       "      <td>Richard L. Garwin</td>\n",
       "      <td>John H. Barton</td>\n",
       "    </tr>\n",
       "    <tr>\n",
       "      <th>213</th>\n",
       "      <td>Willard Gaylin</td>\n",
       "      <td>Ira Glasser</td>\n",
       "      <td>Steven Marcus</td>\n",
       "      <td>David Rochman</td>\n",
       "    </tr>\n",
       "    <tr>\n",
       "      <th>275</th>\n",
       "      <td>Sappho</td>\n",
       "      <td>Pindar</td>\n",
       "      <td>Solon</td>\n",
       "      <td>and 23 others</td>\n",
       "    </tr>\n",
       "    <tr>\n",
       "      <th>708</th>\n",
       "      <td>Robin</td>\n",
       "      <td>Liza</td>\n",
       "      <td>Linda</td>\n",
       "      <td>Tiffany</td>\n",
       "    </tr>\n",
       "  </tbody>\n",
       "</table>\n",
       "</div>"
      ],
      "text/plain": [
       "                    0                    1                   2  \\\n",
       "211  David C. Gompert   Michael Mandelbaum   Richard L. Garwin   \n",
       "213    Willard Gaylin          Ira Glasser       Steven Marcus   \n",
       "275            Sappho               Pindar               Solon   \n",
       "708             Robin                 Liza               Linda   \n",
       "\n",
       "                   3  \n",
       "211   John H. Barton  \n",
       "213    David Rochman  \n",
       "275    and 23 others  \n",
       "708          Tiffany  "
      ]
     },
     "execution_count": 13,
     "metadata": {},
     "output_type": "execute_result"
    }
   ],
   "source": [
    "# multiple author books\n",
    "#df[\"Author\"].unique()\n",
    "\n",
    "df[\"Author\"].str.split(',', expand=True).dropna()"
   ]
  },
  {
   "cell_type": "code",
   "execution_count": null,
   "id": "b4fb5f64",
   "metadata": {
    "papermill": {
     "duration": 0.070679,
     "end_time": "2022-05-21T07:09:58.641356",
     "exception": false,
     "start_time": "2022-05-21T07:09:58.570677",
     "status": "completed"
    },
    "tags": []
   },
   "outputs": [],
   "source": []
  },
  {
   "cell_type": "markdown",
   "id": "04034b8c",
   "metadata": {
    "papermill": {
     "duration": 0.071027,
     "end_time": "2022-05-21T07:09:58.784531",
     "exception": false,
     "start_time": "2022-05-21T07:09:58.713504",
     "status": "completed"
    },
    "tags": []
   },
   "source": [
    "## pages"
   ]
  },
  {
   "cell_type": "code",
   "execution_count": 14,
   "id": "31d5cb1c",
   "metadata": {
    "execution": {
     "iopub.execute_input": "2022-05-21T07:09:58.929566Z",
     "iopub.status.busy": "2022-05-21T07:09:58.928960Z",
     "iopub.status.idle": "2022-05-21T07:09:59.551744Z",
     "shell.execute_reply": "2022-05-21T07:09:59.551066Z"
    },
    "papermill": {
     "duration": 0.697605,
     "end_time": "2022-05-21T07:09:59.553958",
     "exception": false,
     "start_time": "2022-05-21T07:09:58.856353",
     "status": "completed"
    },
    "tags": []
   },
   "outputs": [
    {
     "data": {
      "text/plain": [
       "<seaborn.axisgrid.FacetGrid at 0x7fddeeaf9e90>"
      ]
     },
     "execution_count": 14,
     "metadata": {},
     "output_type": "execute_result"
    },
    {
     "data": {
      "image/png": "[encoded data removed]",
      "text/plain": [
       "<Figure size 407.875x360 with 1 Axes>"
      ]
     },
     "metadata": {
      "needs_background": "light"
     },
     "output_type": "display_data"
    }
   ],
   "source": [
    "sns.displot(x= \"Pages\", data = df, hue = \"Favorite\")"
   ]
  },
  {
   "cell_type": "code",
   "execution_count": 15,
   "id": "e144b6e4",
   "metadata": {
    "execution": {
     "iopub.execute_input": "2022-05-21T07:09:59.704346Z",
     "iopub.status.busy": "2022-05-21T07:09:59.703521Z",
     "iopub.status.idle": "2022-05-21T07:09:59.862606Z",
     "shell.execute_reply": "2022-05-21T07:09:59.861654Z"
    },
    "papermill": {
     "duration": 0.23711,
     "end_time": "2022-05-21T07:09:59.864897",
     "exception": false,
     "start_time": "2022-05-21T07:09:59.627787",
     "status": "completed"
    },
    "tags": []
   },
   "outputs": [
    {
     "data": {
      "text/plain": [
       "<AxesSubplot:xlabel='Pages'>"
      ]
     },
     "execution_count": 15,
     "metadata": {},
     "output_type": "execute_result"
    },
    {
     "data": {
      "image/png": "[encoded data removed]",
      "text/plain": [
       "<Figure size 432x288 with 1 Axes>"
      ]
     },
     "metadata": {
      "needs_background": "light"
     },
     "output_type": "display_data"
    }
   ],
   "source": [
    "sns.boxplot(x= \"Pages\", data = df, )"
   ]
  },
  {
   "cell_type": "code",
   "execution_count": null,
   "id": "d2752815",
   "metadata": {
    "papermill": {
     "duration": 0.075209,
     "end_time": "2022-05-21T07:10:00.015754",
     "exception": false,
     "start_time": "2022-05-21T07:09:59.940545",
     "status": "completed"
    },
    "tags": []
   },
   "outputs": [],
   "source": []
  },
  {
   "cell_type": "markdown",
   "id": "e16e5092",
   "metadata": {
    "papermill": {
     "duration": 0.073786,
     "end_time": "2022-05-21T07:10:00.164392",
     "exception": false,
     "start_time": "2022-05-21T07:10:00.090606",
     "status": "completed"
    },
    "tags": []
   },
   "source": [
    "# Year published \n",
    "\n",
    "typos and BC/AC dates need to be fixed or python will handle these as objects/string"
   ]
  },
  {
   "cell_type": "code",
   "execution_count": 16,
   "id": "c4af398e",
   "metadata": {
    "execution": {
     "iopub.execute_input": "2022-05-21T07:10:00.318156Z",
     "iopub.status.busy": "2022-05-21T07:10:00.317849Z",
     "iopub.status.idle": "2022-05-21T07:10:00.330149Z",
     "shell.execute_reply": "2022-05-21T07:10:00.329325Z"
    },
    "papermill": {
     "duration": 0.091383,
     "end_time": "2022-05-21T07:10:00.332108",
     "exception": false,
     "start_time": "2022-05-21T07:10:00.240725",
     "status": "completed"
    },
    "tags": []
   },
   "outputs": [
    {
     "data": {
      "text/html": [
       "<div>\n",
       "<style scoped>\n",
       "    .dataframe tbody tr th:only-of-type {\n",
       "        vertical-align: middle;\n",
       "    }\n",
       "\n",
       "    .dataframe tbody tr th {\n",
       "        vertical-align: top;\n",
       "    }\n",
       "\n",
       "    .dataframe thead th {\n",
       "        text-align: right;\n",
       "    }\n",
       "</style>\n",
       "<table border=\"1\" class=\"dataframe\">\n",
       "  <thead>\n",
       "    <tr style=\"text-align: right;\">\n",
       "      <th></th>\n",
       "      <th>Date Read</th>\n",
       "      <th>Author</th>\n",
       "      <th>Books</th>\n",
       "      <th>Year Published</th>\n",
       "      <th>Pages</th>\n",
       "      <th>Favorite</th>\n",
       "    </tr>\n",
       "  </thead>\n",
       "  <tbody>\n",
       "    <tr>\n",
       "      <th>139</th>\n",
       "      <td>Jun-78</td>\n",
       "      <td>Homer</td>\n",
       "      <td>The Iliad</td>\n",
       "      <td>730bc</td>\n",
       "      <td>459</td>\n",
       "      <td>0</td>\n",
       "    </tr>\n",
       "  </tbody>\n",
       "</table>\n",
       "</div>"
      ],
      "text/plain": [
       "    Date Read Author      Books Year Published  Pages  Favorite\n",
       "139    Jun-78  Homer  The Iliad          730bc    459         0"
      ]
     },
     "execution_count": 16,
     "metadata": {},
     "output_type": "execute_result"
    }
   ],
   "source": [
    "df[df[\"Year Published\"]==\"730bc\"]"
   ]
  },
  {
   "cell_type": "code",
   "execution_count": 17,
   "id": "161ac0d9",
   "metadata": {
    "execution": {
     "iopub.execute_input": "2022-05-21T07:10:00.484368Z",
     "iopub.status.busy": "2022-05-21T07:10:00.484022Z",
     "iopub.status.idle": "2022-05-21T07:10:00.494207Z",
     "shell.execute_reply": "2022-05-21T07:10:00.493590Z"
    },
    "papermill": {
     "duration": 0.088328,
     "end_time": "2022-05-21T07:10:00.496129",
     "exception": false,
     "start_time": "2022-05-21T07:10:00.407801",
     "status": "completed"
    },
    "tags": []
   },
   "outputs": [],
   "source": [
    "# rectify the two typos\n",
    "df[\"Year Published\"].replace([\"1,981\",\"398ad\"], [\"1981\",\"398\"],  inplace = True)\n",
    "\n",
    "# convert BC dates to negative numbers\n",
    "df[\"Year_Published_numerical\"] = df[\"Year Published\"].apply(lambda x: \"-\"+x[:-2] if x[-2:]==\"bc\" else x)\n",
    "\n",
    "# revise the data to numerical values\n",
    "df[\"Year_Published_numerical\"] = df[\"Year_Published_numerical\"].astype(int)"
   ]
  },
  {
   "cell_type": "code",
   "execution_count": 18,
   "id": "0de726b6",
   "metadata": {
    "execution": {
     "iopub.execute_input": "2022-05-21T07:10:00.648405Z",
     "iopub.status.busy": "2022-05-21T07:10:00.648105Z",
     "iopub.status.idle": "2022-05-21T07:10:02.213045Z",
     "shell.execute_reply": "2022-05-21T07:10:02.212338Z"
    },
    "papermill": {
     "duration": 1.643283,
     "end_time": "2022-05-21T07:10:02.215282",
     "exception": false,
     "start_time": "2022-05-21T07:10:00.571999",
     "status": "completed"
    },
    "tags": []
   },
   "outputs": [
    {
     "data": {
      "image/png": "[encoded data removed]",
      "text/plain": [
       "<Figure size 695.875x648 with 1 Axes>"
      ]
     },
     "metadata": {
      "needs_background": "light"
     },
     "output_type": "display_data"
    }
   ],
   "source": [
    "sns.displot(x = \"Year_Published_numerical\", data = df, hue = \"Favorite\", height = 9)\n",
    "plt.show()"
   ]
  },
  {
   "cell_type": "code",
   "execution_count": null,
   "id": "a316b52e",
   "metadata": {
    "papermill": {
     "duration": 0.074944,
     "end_time": "2022-05-21T07:10:02.365671",
     "exception": false,
     "start_time": "2022-05-21T07:10:02.290727",
     "status": "completed"
    },
    "tags": []
   },
   "outputs": [],
   "source": []
  },
  {
   "cell_type": "markdown",
   "id": "3c1ad972",
   "metadata": {
    "papermill": {
     "duration": 0.074814,
     "end_time": "2022-05-21T07:10:02.516754",
     "exception": false,
     "start_time": "2022-05-21T07:10:02.441940",
     "status": "completed"
    },
    "tags": []
   },
   "source": [
    "# Date Read"
   ]
  },
  {
   "cell_type": "code",
   "execution_count": 19,
   "id": "6255210f",
   "metadata": {
    "execution": {
     "iopub.execute_input": "2022-05-21T07:10:02.669748Z",
     "iopub.status.busy": "2022-05-21T07:10:02.668833Z",
     "iopub.status.idle": "2022-05-21T07:10:02.677770Z",
     "shell.execute_reply": "2022-05-21T07:10:02.677177Z"
    },
    "papermill": {
     "duration": 0.087183,
     "end_time": "2022-05-21T07:10:02.679671",
     "exception": false,
     "start_time": "2022-05-21T07:10:02.592488",
     "status": "completed"
    },
    "tags": []
   },
   "outputs": [
    {
     "data": {
      "text/plain": [
       "array(['Jun-68', 'Jul-68', 'Aug-68', 'Sep-68', 'Oct-68', 'Nov-68',\n",
       "       'Dec-68', 'Jan-69', 'Feb-69', 'May-69', 'Jun-69', 'Jul-69',\n",
       "       'Aug-69', 'Sep-69', 'Jan-70', 'Feb-70', 'Mar-70', 'Apr-70',\n",
       "       'May-70', 'Jul-70', 'Aug-70', 'Sep-70', 'Oct-70', 'Nov-70',\n",
       "       'Dec-70', 'Jan-71', 'Feb-71', 'Mar-71', 'Apr-71', 'Jun-71',\n",
       "       'Jul-71', 'Aug-71', 'Sep-71', 'Oct-71', 'Nov-71', 'Dec-71',\n",
       "       'Jan-72', 'Feb-72', 'Mar-72', 'Apr-72', 'Aug-72', 'Sep-72',\n",
       "       'Oct-72', 'Feb-73', 'Apr-73', 'Jun-73', 'Jul-73', 'Aug-73',\n",
       "       'Sep-73', 'Oct-73', 'Nov-73', 'Dec-73', 'Jan-74', 'Feb-74',\n",
       "       'Mar-74', 'Apr-74', 'May-74', 'Jul-74', 'Aug-74', 'Oct-74',\n",
       "       'Nov-74', 'Dec-74', 'Feb-75', 'Jun-75', 'Sep-75', 'Jan-76',\n",
       "       'Feb-76', 'Mar-76', 'Apr-76', 'Jul-76', 'Dec-76', 'Jan-77',\n",
       "       'Feb-77', 'May-77', 'Jun-77', 'Jul-77', 'Sep-77', 'Aug-77',\n",
       "       'Nov-77', 'Dec-77', 'Mar-78', 'Apr-78', 'May-78', 'Jun-78',\n",
       "       'Aug-78', 'Sep-78', 'Nov-78', 'Feb-79', 'Mar-79', 'May-79',\n",
       "       'Jun-79', 'Jul-79', 'Aug-79', 'Sep-79', 'Nov-79', 'Dec-79',\n",
       "       'Jan-80', 'Feb-80', 'Jul-80', 'Sep-80', 'Oct-80', 'Nov-80',\n",
       "       'Jan-81', 'Feb-81', 'Mar-81', 'Jun-81', 'Jul-81', 'Aug-81',\n",
       "       'Sep-81', 'Oct-81', 'Nov-81', 'Dec-81', 'Jan-82', 'Feb-82',\n",
       "       'Mar-82', 'Apr-82', 'May-82', 'Jun-82', 'Jul-82', 'Aug-82',\n",
       "       'Sep-82', 'Oct-82', 'Nov-82', 'Dec-82', 'Feb-83', 'Mar-83',\n",
       "       'Apr-83', 'May-83', 'Jun-83', 'Jul-83', 'Aug-83', 'Sep-83',\n",
       "       'Oct-83', 'Nov-83', 'Dec-83', 'Jan-84', 'Feb-84', 'Mar-84',\n",
       "       'Apr-84', 'May-84', 'Jun-84', 'Jul-84', 'Aug-84', 'Sep-84',\n",
       "       'Oct-84', 'Nov-84', 'Dec-84', 'Jan-85', 'Feb-85', 'Mar-85',\n",
       "       'Apr-85', 'May-85', 'Jun-85', 'Jul-85', 'Aug-85', 'Sep-85',\n",
       "       'Oct-85', 'Nov-85', 'Dec-85', 'Jan-86', 'Mar-86', 'Apr-86',\n",
       "       'May-86', 'Jun-86', 'Jul-86', 'Sep-86', 'Oct-86', 'Nov-86',\n",
       "       'Dec-86', 'Jan-87', 'Feb-87', 'Apr-87', 'May-87', 'Jun-87',\n",
       "       'Jul-87', 'Aug-87', 'Sep-87', 'Oct-87', 'Nov-87', 'Dec-87',\n",
       "       'Jan-88', 'Feb-88', 'Mar-88', 'Apr-88', 'May-88', 'Jun-88',\n",
       "       'Jul-88', 'Aug-88', 'Sep-88', 'Nov-88', 'Dec-88', 'Jan-89',\n",
       "       'Feb-89', 'Mar-89', 'Apr-89', 'May-89', 'Jul-89', 'Aug-89',\n",
       "       'Sep-89', 'Oct-89', 'Dec-89', 'Jan-90', 'Feb-90', 'Mar-90',\n",
       "       'Apr-90', 'May-90', 'Jun-90', 'Jul-90', 'Aug-90', 'Sep-90',\n",
       "       'Nov-90', 'Jan-91', 'Feb-91', 'Mar-91', 'Apr-91', 'May-91',\n",
       "       'Jun-91', 'Jul-91', 'Aug-91', 'Sep-91', 'Oct-91', 'Nov-91',\n",
       "       'Dec-91', 'Jan-92', 'Feb-92', 'Mar-92', 'Apr-92', 'Jun-92',\n",
       "       'Jul-92', 'Aug-92', 'Sep-22', 'Sep-92', 'Nov-92', 'Dec-92',\n",
       "       'Jan-93', 'Feb-93', 'Mar-93', 'Apr-93', 'May-93', 'Jun-93',\n",
       "       'Jul-93', 'Aug-93', 'Oct-93', 'Nov-93', 'Dec-93', 'Jan-94',\n",
       "       'Feb-94', 'Mar-94', 'Apr-94', 'May-94', 'Jun-94', 'Jul-94',\n",
       "       'Aug-94', 'Sep-94', 'Oct-94', 'Dec-94', 'Jan-95', 'Feb-95',\n",
       "       'Mar-95', 'Apr-95', 'Jul-95', 'Aug-95', 'Sep-95', 'Oct-95',\n",
       "       'Nov-95', 'Dec-95', 'Jan-96', 'Feb-96', 'Mar-96', 'Apr-96',\n",
       "       'Jun-96', 'Jul-96', 'Aug-96', 'Sep-96', 'Oct-96', 'Dec-96',\n",
       "       'Jan-97', 'Mar-97', 'Apr-97', 'May-97', 'Jun-97', 'Jul-97',\n",
       "       'Aug-97', 'Sep-97', 'Oct-97', 'Nov-97', 'Dec-97', 'Jan-98',\n",
       "       'Mar-98', 'Apr-98', 'May-98', 'Jun-98', 'Jul-98', 'Aug-98',\n",
       "       'Sep-98', 'Oct-98', 'Nov-98', 'Dec-98', 'Jan-99', 'Feb-99',\n",
       "       'Mar-99', 'Apr-99', 'May-99', 'Jun-99', 'Jul-99', 'Aug-99',\n",
       "       'Sep-99', 'Oct-99', 'Nov-99', 'Dec-99', 'Jan-00', 'Feb-00',\n",
       "       'Mar-00', 'Apr-00', 'May-00', 'Jun-00', 'Aug-00', 'Sep-00',\n",
       "       'Oct-00', 'Nov-00', 'Dec-00', 'Jan-01', 'Feb-01', 'Mar-01',\n",
       "       'Apr-01', 'May-01', 'Jun-01', 'Jul-01', 'Aug-01', 'Sep-01',\n",
       "       'Oct-01', 'Nov-01', 'Dec-01', 'Jan-02', 'Feb-02', 'Mar-02',\n",
       "       'Apr-02', 'Jun-02', 'Aug-02', 'Sep-02', 'Oct-02', 'Nov-02',\n",
       "       'Dec-02', 'Jan-03', 'Feb-03', 'Mar-03', 'Apr-03', 'May-03',\n",
       "       'Jun-03', 'Jul-03', 'Aug-03', 'Oct-03', 'Nov-03', 'Jan-04',\n",
       "       'Feb-04', 'Mar-04', 'Apr-04', 'May-04', 'Jun-04', 'Jul-04',\n",
       "       'Aug-04', 'Sep-04', 'Oct-04', '2005', 'Jul-05', 'Aug-05', 'Sep-05',\n",
       "       'Oct-05', 'Nov-05', 'Nov-06', 'Dec-05', 'Jan-06', '2006', 'Sep-06',\n",
       "       'Oct-06', 'Dec-06', 'Jan-07', 'Feb-07', '2007', '2008', 'Jan-09',\n",
       "       'Feb-09', 'Mar-09', 'Apr-09', 'May-09', 'Jun-09', 'Jul-09',\n",
       "       'Aug-09', 'Sep-09', 'Nov-09', 'Oct-09', 'Dec-09', 'Jan-10',\n",
       "       'Feb-10', 'Mar-10', 'Apr-10', 'May-10', 'Jun-10', 'Jul-10',\n",
       "       'Aug-10', 'Sep-10', 'Oct-10', 'Nov-10', 'Dec-10', 'Jan-11',\n",
       "       'Feb-11', 'Mar-11', 'Apr-11', 'May-11', 'Jun-11', 'Jul-11',\n",
       "       'Aug-11', 'Sep-11', 'Oct-11', 'Nov-11', 'Dec-11', 'Jan-12',\n",
       "       'Feb-12', 'Mar-12', 'Apr-12', 'Jun-12', 'Jul-12', 'Aug-12',\n",
       "       'Sep-12', 'Nov-12', 'Dec-12', 'Feb-13', 'Mar-13', 'Apr-13',\n",
       "       'May-13', 'Jun-13', 'Jul-13', 'Aug-13', 'Sep-13', 'Oct-13',\n",
       "       'Nov-13', 'Dec-13', 'Feb-14', 'Mar-14', 'May-14', 'Jun-14',\n",
       "       'Jul-14', 'Aug-14', 'Sep-14', 'Oct-14', 'Nov-14', 'Dec-14',\n",
       "       'Jan-15', 'Feb-15', 'Mar-15', 'Jun-15', 'Jul-15', 'Sep-15',\n",
       "       'Nov-15', 'Dec-15', 'Jan-16', 'Feb-16', 'Mar-16', 'Apr-16',\n",
       "       'May-16', 'Jun-16', 'Jul-16', 'Aug-16', 'Sep-16', 'Oct-16',\n",
       "       'Nov-16', 'Dec-16', 'Jan-17', 'Feb-17', 'Mar-17', 'Apr-17',\n",
       "       'Jun-17', 'Jul-17', 'Aug-17', 'Sep-17', 'Oct-17', 'Dec-17',\n",
       "       'Jan-18', 'Feb-18', 'May-18', 'Jun-18', 'Jul-18', 'Aug-18', '2018',\n",
       "       '2019', '2020', '2021', 'Jul-21', 'Aug-21', 'Sep-21', 'Oct-21',\n",
       "       'Dec-21', 'Jan-22', 'Feb-22'], dtype=object)"
      ]
     },
     "execution_count": 19,
     "metadata": {},
     "output_type": "execute_result"
    }
   ],
   "source": [
    "df[\"Date Read\"].unique()"
   ]
  },
  {
   "cell_type": "code",
   "execution_count": 20,
   "id": "3048655e",
   "metadata": {
    "execution": {
     "iopub.execute_input": "2022-05-21T07:10:02.835738Z",
     "iopub.status.busy": "2022-05-21T07:10:02.835288Z",
     "iopub.status.idle": "2022-05-21T07:10:02.840325Z",
     "shell.execute_reply": "2022-05-21T07:10:02.839669Z"
    },
    "papermill": {
     "duration": 0.086252,
     "end_time": "2022-05-21T07:10:02.842461",
     "exception": false,
     "start_time": "2022-05-21T07:10:02.756209",
     "status": "completed"
    },
    "tags": []
   },
   "outputs": [],
   "source": [
    "# fix syntax setting xxx for months unknown\n",
    "df[\"Date Read\"] = df[\"Date Read\"].apply(lambda x: x if len(x)>5 else \"xxx-\"+x[-2:])"
   ]
  },
  {
   "cell_type": "code",
   "execution_count": 21,
   "id": "47297271",
   "metadata": {
    "execution": {
     "iopub.execute_input": "2022-05-21T07:10:02.999299Z",
     "iopub.status.busy": "2022-05-21T07:10:02.998975Z",
     "iopub.status.idle": "2022-05-21T07:10:03.132107Z",
     "shell.execute_reply": "2022-05-21T07:10:03.130970Z"
    },
    "papermill": {
     "duration": 0.213177,
     "end_time": "2022-05-21T07:10:03.134398",
     "exception": false,
     "start_time": "2022-05-21T07:10:02.921221",
     "status": "completed"
    },
    "tags": []
   },
   "outputs": [],
   "source": [
    "df[[\"Month\", \"Year\"]] = df[\"Date Read\"].str.split('-', expand=True)"
   ]
  },
  {
   "cell_type": "code",
   "execution_count": 22,
   "id": "6600205d",
   "metadata": {
    "execution": {
     "iopub.execute_input": "2022-05-21T07:10:03.292117Z",
     "iopub.status.busy": "2022-05-21T07:10:03.291805Z",
     "iopub.status.idle": "2022-05-21T07:10:03.296744Z",
     "shell.execute_reply": "2022-05-21T07:10:03.296160Z"
    },
    "papermill": {
     "duration": 0.085271,
     "end_time": "2022-05-21T07:10:03.298636",
     "exception": false,
     "start_time": "2022-05-21T07:10:03.213365",
     "status": "completed"
    },
    "tags": []
   },
   "outputs": [],
   "source": [
    "df[\"Year\"] = df[\"Year\"].astype(int)"
   ]
  },
  {
   "cell_type": "code",
   "execution_count": 23,
   "id": "300a0305",
   "metadata": {
    "execution": {
     "iopub.execute_input": "2022-05-21T07:10:03.451408Z",
     "iopub.status.busy": "2022-05-21T07:10:03.450960Z",
     "iopub.status.idle": "2022-05-21T07:10:03.456481Z",
     "shell.execute_reply": "2022-05-21T07:10:03.455781Z"
    },
    "papermill": {
     "duration": 0.084339,
     "end_time": "2022-05-21T07:10:03.458632",
     "exception": false,
     "start_time": "2022-05-21T07:10:03.374293",
     "status": "completed"
    },
    "tags": []
   },
   "outputs": [],
   "source": [
    "df[\"Year\"] = df[\"Year\"].apply(lambda x: x+2000 if x <68 else x+1900)\n",
    " "
   ]
  },
  {
   "cell_type": "code",
   "execution_count": 24,
   "id": "c0d707c8",
   "metadata": {
    "execution": {
     "iopub.execute_input": "2022-05-21T07:10:03.614819Z",
     "iopub.status.busy": "2022-05-21T07:10:03.614400Z",
     "iopub.status.idle": "2022-05-21T07:10:03.620616Z",
     "shell.execute_reply": "2022-05-21T07:10:03.619996Z"
    },
    "papermill": {
     "duration": 0.08503,
     "end_time": "2022-05-21T07:10:03.622609",
     "exception": false,
     "start_time": "2022-05-21T07:10:03.537579",
     "status": "completed"
    },
    "tags": []
   },
   "outputs": [
    {
     "data": {
      "text/plain": [
       "125"
      ]
     },
     "execution_count": 24,
     "metadata": {},
     "output_type": "execute_result"
    }
   ],
   "source": [
    "df[df[\"Month\"]==\"xxx\"].shape[0]"
   ]
  },
  {
   "cell_type": "code",
   "execution_count": 25,
   "id": "65b4ecfd",
   "metadata": {
    "execution": {
     "iopub.execute_input": "2022-05-21T07:10:03.777387Z",
     "iopub.status.busy": "2022-05-21T07:10:03.776842Z",
     "iopub.status.idle": "2022-05-21T07:10:03.784197Z",
     "shell.execute_reply": "2022-05-21T07:10:03.783420Z"
    },
    "papermill": {
     "duration": 0.08708,
     "end_time": "2022-05-21T07:10:03.786507",
     "exception": false,
     "start_time": "2022-05-21T07:10:03.699427",
     "status": "completed"
    },
    "tags": []
   },
   "outputs": [
    {
     "data": {
      "text/plain": [
       "9.462528387585163"
      ]
     },
     "execution_count": 25,
     "metadata": {},
     "output_type": "execute_result"
    }
   ],
   "source": [
    "(df[df[\"Month\"]==\"xxx\"].shape[0]/df.shape[0])*100"
   ]
  },
  {
   "cell_type": "code",
   "execution_count": 26,
   "id": "f6188955",
   "metadata": {
    "execution": {
     "iopub.execute_input": "2022-05-21T07:10:03.945594Z",
     "iopub.status.busy": "2022-05-21T07:10:03.944778Z",
     "iopub.status.idle": "2022-05-21T07:10:03.953005Z",
     "shell.execute_reply": "2022-05-21T07:10:03.952181Z"
    },
    "papermill": {
     "duration": 0.090413,
     "end_time": "2022-05-21T07:10:03.954990",
     "exception": false,
     "start_time": "2022-05-21T07:10:03.864577",
     "status": "completed"
    },
    "tags": []
   },
   "outputs": [
    {
     "data": {
      "text/plain": [
       "2.941176470588235"
      ]
     },
     "execution_count": 26,
     "metadata": {},
     "output_type": "execute_result"
    }
   ],
   "source": [
    "(sum(df[df[\"Month\"]==\"xxx\"][\"Favorite\"])/sum(df[\"Favorite\"]))*100"
   ]
  },
  {
   "cell_type": "code",
   "execution_count": 27,
   "id": "229b0772",
   "metadata": {
    "execution": {
     "iopub.execute_input": "2022-05-21T07:10:04.110853Z",
     "iopub.status.busy": "2022-05-21T07:10:04.110572Z",
     "iopub.status.idle": "2022-05-21T07:10:04.117685Z",
     "shell.execute_reply": "2022-05-21T07:10:04.116850Z"
    },
    "papermill": {
     "duration": 0.087384,
     "end_time": "2022-05-21T07:10:04.119970",
     "exception": false,
     "start_time": "2022-05-21T07:10:04.032586",
     "status": "completed"
    },
    "tags": []
   },
   "outputs": [
    {
     "data": {
      "text/plain": [
       "array([2005, 2006, 2007, 2008, 2018, 2019, 2020, 2021])"
      ]
     },
     "execution_count": 27,
     "metadata": {},
     "output_type": "execute_result"
    }
   ],
   "source": [
    "df[df[\"Month\"]==\"xxx\"][\"Year\"].unique()"
   ]
  },
  {
   "cell_type": "code",
   "execution_count": 28,
   "id": "b0e57b44",
   "metadata": {
    "execution": {
     "iopub.execute_input": "2022-05-21T07:10:04.279258Z",
     "iopub.status.busy": "2022-05-21T07:10:04.278391Z",
     "iopub.status.idle": "2022-05-21T07:10:05.028891Z",
     "shell.execute_reply": "2022-05-21T07:10:05.027945Z"
    },
    "papermill": {
     "duration": 0.832048,
     "end_time": "2022-05-21T07:10:05.031058",
     "exception": false,
     "start_time": "2022-05-21T07:10:04.199010",
     "status": "completed"
    },
    "tags": []
   },
   "outputs": [
    {
     "data": {
      "text/plain": [
       "<AxesSubplot:xlabel='Year', ylabel='count'>"
      ]
     },
     "execution_count": 28,
     "metadata": {},
     "output_type": "execute_result"
    },
    {
     "data": {
      "image/png": "[encoded data removed]",
      "text/plain": [
       "<Figure size 1440x720 with 1 Axes>"
      ]
     },
     "metadata": {
      "needs_background": "light"
     },
     "output_type": "display_data"
    }
   ],
   "source": [
    "plt.figure(figsize = (20,10))\n",
    "sns.countplot( x = \"Year\", data = df)"
   ]
  },
  {
   "cell_type": "markdown",
   "id": "cedac81f",
   "metadata": {
    "papermill": {
     "duration": 0.081734,
     "end_time": "2022-05-21T07:10:05.193642",
     "exception": false,
     "start_time": "2022-05-21T07:10:05.111908",
     "status": "completed"
    },
    "tags": []
   },
   "source": [
    " first attempt not include month"
   ]
  },
  {
   "cell_type": "code",
   "execution_count": 29,
   "id": "66b5e508",
   "metadata": {
    "execution": {
     "iopub.execute_input": "2022-05-21T07:10:05.353346Z",
     "iopub.status.busy": "2022-05-21T07:10:05.352942Z",
     "iopub.status.idle": "2022-05-21T07:10:05.823550Z",
     "shell.execute_reply": "2022-05-21T07:10:05.822641Z"
    },
    "papermill": {
     "duration": 0.552279,
     "end_time": "2022-05-21T07:10:05.825752",
     "exception": false,
     "start_time": "2022-05-21T07:10:05.273473",
     "status": "completed"
    },
    "tags": []
   },
   "outputs": [
    {
     "data": {
      "text/plain": [
       "<seaborn.axisgrid.FacetGrid at 0x7fddc921d610>"
      ]
     },
     "execution_count": 29,
     "metadata": {},
     "output_type": "execute_result"
    },
    {
     "data": {
      "image/png": "[encoded data removed]",
      "text/plain": [
       "<Figure size 407.875x360 with 1 Axes>"
      ]
     },
     "metadata": {
      "needs_background": "light"
     },
     "output_type": "display_data"
    }
   ],
   "source": [
    "sns.displot(x = \"Year\", data = df, hue = \"Favorite\")"
   ]
  },
  {
   "cell_type": "markdown",
   "id": "3588bedb",
   "metadata": {
    "papermill": {
     "duration": 0.080742,
     "end_time": "2022-05-21T07:10:05.986708",
     "exception": false,
     "start_time": "2022-05-21T07:10:05.905966",
     "status": "completed"
    },
    "tags": []
   },
   "source": []
  },
  {
   "cell_type": "code",
   "execution_count": 30,
   "id": "9d42ce07",
   "metadata": {
    "execution": {
     "iopub.execute_input": "2022-05-21T07:10:06.148208Z",
     "iopub.status.busy": "2022-05-21T07:10:06.147894Z",
     "iopub.status.idle": "2022-05-21T07:10:06.169039Z",
     "shell.execute_reply": "2022-05-21T07:10:06.168142Z"
    },
    "papermill": {
     "duration": 0.104933,
     "end_time": "2022-05-21T07:10:06.171066",
     "exception": false,
     "start_time": "2022-05-21T07:10:06.066133",
     "status": "completed"
    },
    "tags": []
   },
   "outputs": [
    {
     "data": {
      "text/html": [
       "<div>\n",
       "<style scoped>\n",
       "    .dataframe tbody tr th:only-of-type {\n",
       "        vertical-align: middle;\n",
       "    }\n",
       "\n",
       "    .dataframe tbody tr th {\n",
       "        vertical-align: top;\n",
       "    }\n",
       "\n",
       "    .dataframe thead th {\n",
       "        text-align: right;\n",
       "    }\n",
       "</style>\n",
       "<table border=\"1\" class=\"dataframe\">\n",
       "  <thead>\n",
       "    <tr style=\"text-align: right;\">\n",
       "      <th></th>\n",
       "      <th>Date Read</th>\n",
       "      <th>Author</th>\n",
       "      <th>Books</th>\n",
       "      <th>Year Published</th>\n",
       "      <th>Pages</th>\n",
       "      <th>Favorite</th>\n",
       "      <th>Year_Published_numerical</th>\n",
       "      <th>Month</th>\n",
       "      <th>Year</th>\n",
       "    </tr>\n",
       "  </thead>\n",
       "  <tbody>\n",
       "    <tr>\n",
       "      <th>926</th>\n",
       "      <td>xxx-05</td>\n",
       "      <td>Lawrence Potter</td>\n",
       "      <td>The Persian Gulf in Transition</td>\n",
       "      <td>1997</td>\n",
       "      <td>336</td>\n",
       "      <td>0</td>\n",
       "      <td>1997</td>\n",
       "      <td>xxx</td>\n",
       "      <td>2005</td>\n",
       "    </tr>\n",
       "    <tr>\n",
       "      <th>927</th>\n",
       "      <td>xxx-05</td>\n",
       "      <td>Immanuel Kant</td>\n",
       "      <td>Perpetual Peace</td>\n",
       "      <td>1795</td>\n",
       "      <td>160</td>\n",
       "      <td>0</td>\n",
       "      <td>1795</td>\n",
       "      <td>xxx</td>\n",
       "      <td>2005</td>\n",
       "    </tr>\n",
       "    <tr>\n",
       "      <th>928</th>\n",
       "      <td>xxx-05</td>\n",
       "      <td>Bob Dylan</td>\n",
       "      <td>Chronicles, vol. 1</td>\n",
       "      <td>2004</td>\n",
       "      <td>320</td>\n",
       "      <td>0</td>\n",
       "      <td>2004</td>\n",
       "      <td>xxx</td>\n",
       "      <td>2005</td>\n",
       "    </tr>\n",
       "    <tr>\n",
       "      <th>929</th>\n",
       "      <td>xxx-05</td>\n",
       "      <td>Arthur Koestler</td>\n",
       "      <td>The Gladiators</td>\n",
       "      <td>1949</td>\n",
       "      <td>44</td>\n",
       "      <td>0</td>\n",
       "      <td>1949</td>\n",
       "      <td>xxx</td>\n",
       "      <td>2005</td>\n",
       "    </tr>\n",
       "    <tr>\n",
       "      <th>930</th>\n",
       "      <td>xxx-05</td>\n",
       "      <td>Richard L. Bushman</td>\n",
       "      <td>From Puritan to Yankee</td>\n",
       "      <td>1967</td>\n",
       "      <td>352</td>\n",
       "      <td>0</td>\n",
       "      <td>1967</td>\n",
       "      <td>xxx</td>\n",
       "      <td>2005</td>\n",
       "    </tr>\n",
       "    <tr>\n",
       "      <th>...</th>\n",
       "      <td>...</td>\n",
       "      <td>...</td>\n",
       "      <td>...</td>\n",
       "      <td>...</td>\n",
       "      <td>...</td>\n",
       "      <td>...</td>\n",
       "      <td>...</td>\n",
       "      <td>...</td>\n",
       "      <td>...</td>\n",
       "    </tr>\n",
       "    <tr>\n",
       "      <th>1303</th>\n",
       "      <td>xxx-20</td>\n",
       "      <td>Doris Kearns Goodwin</td>\n",
       "      <td>Leadership</td>\n",
       "      <td>2020</td>\n",
       "      <td>397</td>\n",
       "      <td>0</td>\n",
       "      <td>2020</td>\n",
       "      <td>xxx</td>\n",
       "      <td>2020</td>\n",
       "    </tr>\n",
       "    <tr>\n",
       "      <th>1304</th>\n",
       "      <td>xxx-20</td>\n",
       "      <td>David Mikie</td>\n",
       "      <td>Stanley Kubrick</td>\n",
       "      <td>2020</td>\n",
       "      <td>248</td>\n",
       "      <td>0</td>\n",
       "      <td>2020</td>\n",
       "      <td>xxx</td>\n",
       "      <td>2020</td>\n",
       "    </tr>\n",
       "    <tr>\n",
       "      <th>1305</th>\n",
       "      <td>xxx-20</td>\n",
       "      <td>Julie Satow</td>\n",
       "      <td>The Plaza</td>\n",
       "      <td>2019</td>\n",
       "      <td>358</td>\n",
       "      <td>0</td>\n",
       "      <td>2019</td>\n",
       "      <td>xxx</td>\n",
       "      <td>2020</td>\n",
       "    </tr>\n",
       "    <tr>\n",
       "      <th>1306</th>\n",
       "      <td>xxx-20</td>\n",
       "      <td>Ash Carter and Sam Kashner</td>\n",
       "      <td>Life Isn’t Everything – Mike Nichols as Rememb...</td>\n",
       "      <td>2019</td>\n",
       "      <td>368</td>\n",
       "      <td>0</td>\n",
       "      <td>2019</td>\n",
       "      <td>xxx</td>\n",
       "      <td>2020</td>\n",
       "    </tr>\n",
       "    <tr>\n",
       "      <th>1307</th>\n",
       "      <td>xxx-21</td>\n",
       "      <td>Ruth Ben-Ghiat</td>\n",
       "      <td>Strongmen (Mussolini to the Present)</td>\n",
       "      <td>2019</td>\n",
       "      <td>384</td>\n",
       "      <td>0</td>\n",
       "      <td>2019</td>\n",
       "      <td>xxx</td>\n",
       "      <td>2021</td>\n",
       "    </tr>\n",
       "  </tbody>\n",
       "</table>\n",
       "<p>125 rows × 9 columns</p>\n",
       "</div>"
      ],
      "text/plain": [
       "     Date Read                      Author  \\\n",
       "926     xxx-05             Lawrence Potter   \n",
       "927     xxx-05               Immanuel Kant   \n",
       "928     xxx-05                   Bob Dylan   \n",
       "929     xxx-05             Arthur Koestler   \n",
       "930     xxx-05          Richard L. Bushman   \n",
       "...        ...                         ...   \n",
       "1303    xxx-20        Doris Kearns Goodwin   \n",
       "1304    xxx-20                 David Mikie   \n",
       "1305    xxx-20                 Julie Satow   \n",
       "1306    xxx-20  Ash Carter and Sam Kashner   \n",
       "1307    xxx-21              Ruth Ben-Ghiat   \n",
       "\n",
       "                                                  Books Year Published  Pages  \\\n",
       "926                     The Persian Gulf in Transition            1997    336   \n",
       "927                                    Perpetual Peace            1795    160   \n",
       "928                                 Chronicles, vol. 1            2004    320   \n",
       "929                                     The Gladiators            1949     44   \n",
       "930                             From Puritan to Yankee            1967    352   \n",
       "...                                                 ...            ...    ...   \n",
       "1303                                         Leadership           2020    397   \n",
       "1304                                    Stanley Kubrick           2020    248   \n",
       "1305                                          The Plaza           2019    358   \n",
       "1306  Life Isn’t Everything – Mike Nichols as Rememb...           2019    368   \n",
       "1307              Strongmen (Mussolini to the Present)            2019    384   \n",
       "\n",
       "      Favorite  Year_Published_numerical Month  Year  \n",
       "926          0                      1997   xxx  2005  \n",
       "927          0                      1795   xxx  2005  \n",
       "928          0                      2004   xxx  2005  \n",
       "929          0                      1949   xxx  2005  \n",
       "930          0                      1967   xxx  2005  \n",
       "...        ...                       ...   ...   ...  \n",
       "1303         0                      2020   xxx  2020  \n",
       "1304         0                      2020   xxx  2020  \n",
       "1305         0                      2019   xxx  2020  \n",
       "1306         0                      2019   xxx  2020  \n",
       "1307         0                      2019   xxx  2021  \n",
       "\n",
       "[125 rows x 9 columns]"
      ]
     },
     "execution_count": 30,
     "metadata": {},
     "output_type": "execute_result"
    }
   ],
   "source": [
    "df[df[\"Month\"]==\"xxx\"]"
   ]
  },
  {
   "cell_type": "code",
   "execution_count": null,
   "id": "58d8220e",
   "metadata": {
    "papermill": {
     "duration": 0.09443,
     "end_time": "2022-05-21T07:10:06.353796",
     "exception": false,
     "start_time": "2022-05-21T07:10:06.259366",
     "status": "completed"
    },
    "tags": []
   },
   "outputs": [],
   "source": []
  },
  {
   "cell_type": "markdown",
   "id": "0ff63289",
   "metadata": {
    "papermill": {
     "duration": 0.080886,
     "end_time": "2022-05-21T07:10:06.521905",
     "exception": false,
     "start_time": "2022-05-21T07:10:06.441019",
     "status": "completed"
    },
    "tags": []
   },
   "source": [
    "# Modeling favorits"
   ]
  },
  {
   "cell_type": "code",
   "execution_count": 31,
   "id": "dbddbfb4",
   "metadata": {
    "execution": {
     "iopub.execute_input": "2022-05-21T07:10:06.684290Z",
     "iopub.status.busy": "2022-05-21T07:10:06.683944Z",
     "iopub.status.idle": "2022-05-21T07:10:06.840146Z",
     "shell.execute_reply": "2022-05-21T07:10:06.839302Z"
    },
    "papermill": {
     "duration": 0.24052,
     "end_time": "2022-05-21T07:10:06.842690",
     "exception": false,
     "start_time": "2022-05-21T07:10:06.602170",
     "status": "completed"
    },
    "tags": []
   },
   "outputs": [],
   "source": [
    "from sklearn.preprocessing import LabelEncoder"
   ]
  },
  {
   "cell_type": "code",
   "execution_count": 32,
   "id": "ba541871",
   "metadata": {
    "execution": {
     "iopub.execute_input": "2022-05-21T07:10:07.010760Z",
     "iopub.status.busy": "2022-05-21T07:10:07.009881Z",
     "iopub.status.idle": "2022-05-21T07:10:07.017899Z",
     "shell.execute_reply": "2022-05-21T07:10:07.017289Z"
    },
    "papermill": {
     "duration": 0.094726,
     "end_time": "2022-05-21T07:10:07.020072",
     "exception": false,
     "start_time": "2022-05-21T07:10:06.925346",
     "status": "completed"
    },
    "tags": []
   },
   "outputs": [],
   "source": [
    "le = LabelEncoder()\n",
    "df[\"Author_code\"] = le.fit_transform(df[\"Author\"])"
   ]
  },
  {
   "cell_type": "code",
   "execution_count": 33,
   "id": "d0f5eeea",
   "metadata": {
    "execution": {
     "iopub.execute_input": "2022-05-21T07:10:07.187596Z",
     "iopub.status.busy": "2022-05-21T07:10:07.187282Z",
     "iopub.status.idle": "2022-05-21T07:10:07.193306Z",
     "shell.execute_reply": "2022-05-21T07:10:07.192675Z"
    },
    "papermill": {
     "duration": 0.093224,
     "end_time": "2022-05-21T07:10:07.195343",
     "exception": false,
     "start_time": "2022-05-21T07:10:07.102119",
     "status": "completed"
    },
    "tags": []
   },
   "outputs": [],
   "source": [
    "x = df[[\"Author_code\", \"Year_Published_numerical\", \"Pages\", \"Year\"]]\n",
    "y = df[\"Favorite\"]"
   ]
  },
  {
   "cell_type": "code",
   "execution_count": 34,
   "id": "f2687b23",
   "metadata": {
    "execution": {
     "iopub.execute_input": "2022-05-21T07:10:07.369715Z",
     "iopub.status.busy": "2022-05-21T07:10:07.369108Z",
     "iopub.status.idle": "2022-05-21T07:10:07.439071Z",
     "shell.execute_reply": "2022-05-21T07:10:07.438333Z"
    },
    "papermill": {
     "duration": 0.161957,
     "end_time": "2022-05-21T07:10:07.441583",
     "exception": false,
     "start_time": "2022-05-21T07:10:07.279626",
     "status": "completed"
    },
    "tags": []
   },
   "outputs": [],
   "source": [
    "from sklearn.model_selection import train_test_split\n",
    "from sklearn.metrics import classification_report,confusion_matrix\n"
   ]
  },
  {
   "cell_type": "code",
   "execution_count": 35,
   "id": "f3f5a427",
   "metadata": {
    "execution": {
     "iopub.execute_input": "2022-05-21T07:10:07.611205Z",
     "iopub.status.busy": "2022-05-21T07:10:07.610631Z",
     "iopub.status.idle": "2022-05-21T07:10:07.617160Z",
     "shell.execute_reply": "2022-05-21T07:10:07.616503Z"
    },
    "papermill": {
     "duration": 0.093752,
     "end_time": "2022-05-21T07:10:07.619278",
     "exception": false,
     "start_time": "2022-05-21T07:10:07.525526",
     "status": "completed"
    },
    "tags": []
   },
   "outputs": [],
   "source": [
    "X_train, X_test, y_train, y_test = train_test_split(x, y, test_size = 0.3, random_state= 101 )"
   ]
  },
  {
   "cell_type": "code",
   "execution_count": 36,
   "id": "dc7cdb47",
   "metadata": {
    "execution": {
     "iopub.execute_input": "2022-05-21T07:10:07.785260Z",
     "iopub.status.busy": "2022-05-21T07:10:07.784927Z",
     "iopub.status.idle": "2022-05-21T07:10:07.870482Z",
     "shell.execute_reply": "2022-05-21T07:10:07.869582Z"
    },
    "papermill": {
     "duration": 0.17323,
     "end_time": "2022-05-21T07:10:07.873022",
     "exception": false,
     "start_time": "2022-05-21T07:10:07.699792",
     "status": "completed"
    },
    "tags": []
   },
   "outputs": [],
   "source": [
    "from sklearn.linear_model import LogisticRegression"
   ]
  },
  {
   "cell_type": "code",
   "execution_count": 37,
   "id": "31ac9cc8",
   "metadata": {
    "execution": {
     "iopub.execute_input": "2022-05-21T07:10:08.037292Z",
     "iopub.status.busy": "2022-05-21T07:10:08.036991Z",
     "iopub.status.idle": "2022-05-21T07:10:08.060375Z",
     "shell.execute_reply": "2022-05-21T07:10:08.059709Z"
    },
    "papermill": {
     "duration": 0.108318,
     "end_time": "2022-05-21T07:10:08.062538",
     "exception": false,
     "start_time": "2022-05-21T07:10:07.954220",
     "status": "completed"
    },
    "tags": []
   },
   "outputs": [
    {
     "data": {
      "text/plain": [
       "LogisticRegression()"
      ]
     },
     "execution_count": 37,
     "metadata": {},
     "output_type": "execute_result"
    }
   ],
   "source": [
    "logmodel = LogisticRegression()\n",
    "logmodel.fit(X_train, y_train)"
   ]
  },
  {
   "cell_type": "code",
   "execution_count": 38,
   "id": "a1177973",
   "metadata": {
    "execution": {
     "iopub.execute_input": "2022-05-21T07:10:08.230138Z",
     "iopub.status.busy": "2022-05-21T07:10:08.229703Z",
     "iopub.status.idle": "2022-05-21T07:10:08.235403Z",
     "shell.execute_reply": "2022-05-21T07:10:08.234530Z"
    },
    "papermill": {
     "duration": 0.09199,
     "end_time": "2022-05-21T07:10:08.237717",
     "exception": false,
     "start_time": "2022-05-21T07:10:08.145727",
     "status": "completed"
    },
    "tags": []
   },
   "outputs": [],
   "source": [
    "predictions = logmodel.predict(X_test)"
   ]
  },
  {
   "cell_type": "code",
   "execution_count": 39,
   "id": "ac126918",
   "metadata": {
    "execution": {
     "iopub.execute_input": "2022-05-21T07:10:08.401947Z",
     "iopub.status.busy": "2022-05-21T07:10:08.401398Z",
     "iopub.status.idle": "2022-05-21T07:10:08.405168Z",
     "shell.execute_reply": "2022-05-21T07:10:08.404549Z"
    },
    "papermill": {
     "duration": 0.088644,
     "end_time": "2022-05-21T07:10:08.407320",
     "exception": false,
     "start_time": "2022-05-21T07:10:08.318676",
     "status": "completed"
    },
    "tags": []
   },
   "outputs": [],
   "source": [
    "from sklearn.metrics import classification_report"
   ]
  },
  {
   "cell_type": "code",
   "execution_count": 40,
   "id": "edcec580",
   "metadata": {
    "execution": {
     "iopub.execute_input": "2022-05-21T07:10:08.577352Z",
     "iopub.status.busy": "2022-05-21T07:10:08.577020Z",
     "iopub.status.idle": "2022-05-21T07:10:08.592568Z",
     "shell.execute_reply": "2022-05-21T07:10:08.591582Z"
    },
    "papermill": {
     "duration": 0.103473,
     "end_time": "2022-05-21T07:10:08.595217",
     "exception": false,
     "start_time": "2022-05-21T07:10:08.491744",
     "status": "completed"
    },
    "tags": []
   },
   "outputs": [
    {
     "name": "stdout",
     "output_type": "stream",
     "text": [
      "              precision    recall  f1-score   support\n",
      "\n",
      "           0       0.88      1.00      0.94       350\n",
      "           1       0.00      0.00      0.00        47\n",
      "\n",
      "    accuracy                           0.88       397\n",
      "   macro avg       0.44      0.50      0.47       397\n",
      "weighted avg       0.78      0.88      0.83       397\n",
      "\n"
     ]
    },
    {
     "name": "stderr",
     "output_type": "stream",
     "text": [
      "/opt/conda/lib/python3.7/site-packages/sklearn/metrics/_classification.py:1318: UndefinedMetricWarning: Precision and F-score are ill-defined and being set to 0.0 in labels with no predicted samples. Use `zero_division` parameter to control this behavior.\n",
      "  _warn_prf(average, modifier, msg_start, len(result))\n",
      "/opt/conda/lib/python3.7/site-packages/sklearn/metrics/_classification.py:1318: UndefinedMetricWarning: Precision and F-score are ill-defined and being set to 0.0 in labels with no predicted samples. Use `zero_division` parameter to control this behavior.\n",
      "  _warn_prf(average, modifier, msg_start, len(result))\n",
      "/opt/conda/lib/python3.7/site-packages/sklearn/metrics/_classification.py:1318: UndefinedMetricWarning: Precision and F-score are ill-defined and being set to 0.0 in labels with no predicted samples. Use `zero_division` parameter to control this behavior.\n",
      "  _warn_prf(average, modifier, msg_start, len(result))\n"
     ]
    }
   ],
   "source": [
    "print(classification_report(y_test, predictions))\n",
    "# nope.. "
   ]
  },
  {
   "cell_type": "code",
   "execution_count": 41,
   "id": "77b9e482",
   "metadata": {
    "execution": {
     "iopub.execute_input": "2022-05-21T07:10:08.763158Z",
     "iopub.status.busy": "2022-05-21T07:10:08.762809Z",
     "iopub.status.idle": "2022-05-21T07:10:08.921515Z",
     "shell.execute_reply": "2022-05-21T07:10:08.920601Z"
    },
    "papermill": {
     "duration": 0.244807,
     "end_time": "2022-05-21T07:10:08.924186",
     "exception": false,
     "start_time": "2022-05-21T07:10:08.679379",
     "status": "completed"
    },
    "tags": []
   },
   "outputs": [],
   "source": [
    "from sklearn.ensemble import RandomForestClassifier"
   ]
  },
  {
   "cell_type": "code",
   "execution_count": 42,
   "id": "bb4e4757",
   "metadata": {
    "execution": {
     "iopub.execute_input": "2022-05-21T07:10:09.093078Z",
     "iopub.status.busy": "2022-05-21T07:10:09.092083Z",
     "iopub.status.idle": "2022-05-21T07:10:09.357068Z",
     "shell.execute_reply": "2022-05-21T07:10:09.356172Z"
    },
    "papermill": {
     "duration": 0.350611,
     "end_time": "2022-05-21T07:10:09.359357",
     "exception": false,
     "start_time": "2022-05-21T07:10:09.008746",
     "status": "completed"
    },
    "tags": []
   },
   "outputs": [
    {
     "data": {
      "text/plain": [
       "RandomForestClassifier()"
      ]
     },
     "execution_count": 42,
     "metadata": {},
     "output_type": "execute_result"
    }
   ],
   "source": [
    "RandomForest = RandomForestClassifier()\n",
    "RandomForest.fit(X_train, y_train)"
   ]
  },
  {
   "cell_type": "code",
   "execution_count": 43,
   "id": "e3befe63",
   "metadata": {
    "execution": {
     "iopub.execute_input": "2022-05-21T07:10:09.527200Z",
     "iopub.status.busy": "2022-05-21T07:10:09.526917Z",
     "iopub.status.idle": "2022-05-21T07:10:09.551842Z",
     "shell.execute_reply": "2022-05-21T07:10:09.550884Z"
    },
    "papermill": {
     "duration": 0.11233,
     "end_time": "2022-05-21T07:10:09.554423",
     "exception": false,
     "start_time": "2022-05-21T07:10:09.442093",
     "status": "completed"
    },
    "tags": []
   },
   "outputs": [],
   "source": [
    "RandomForest_pred = RandomForest.predict(X_test)"
   ]
  },
  {
   "cell_type": "code",
   "execution_count": 44,
   "id": "15e49cde",
   "metadata": {
    "execution": {
     "iopub.execute_input": "2022-05-21T07:10:09.725044Z",
     "iopub.status.busy": "2022-05-21T07:10:09.724142Z",
     "iopub.status.idle": "2022-05-21T07:10:09.734535Z",
     "shell.execute_reply": "2022-05-21T07:10:09.733473Z"
    },
    "papermill": {
     "duration": 0.098007,
     "end_time": "2022-05-21T07:10:09.736623",
     "exception": false,
     "start_time": "2022-05-21T07:10:09.638616",
     "status": "completed"
    },
    "tags": []
   },
   "outputs": [
    {
     "name": "stdout",
     "output_type": "stream",
     "text": [
      "              precision    recall  f1-score   support\n",
      "\n",
      "           0       0.88      0.99      0.93       350\n",
      "           1       0.00      0.00      0.00        47\n",
      "\n",
      "    accuracy                           0.87       397\n",
      "   macro avg       0.44      0.49      0.46       397\n",
      "weighted avg       0.78      0.87      0.82       397\n",
      "\n"
     ]
    }
   ],
   "source": [
    "print(classification_report(y_test, RandomForest_pred))"
   ]
  },
  {
   "cell_type": "code",
   "execution_count": null,
   "id": "192477ea",
   "metadata": {
    "papermill": {
     "duration": 0.081724,
     "end_time": "2022-05-21T07:10:09.900281",
     "exception": false,
     "start_time": "2022-05-21T07:10:09.818557",
     "status": "completed"
    },
    "tags": []
   },
   "outputs": [],
   "source": []
  },
  {
   "cell_type": "markdown",
   "id": "317df7bc",
   "metadata": {
    "papermill": {
     "duration": 0.082881,
     "end_time": "2022-05-21T07:10:10.067632",
     "exception": false,
     "start_time": "2022-05-21T07:10:09.984751",
     "status": "completed"
    },
    "tags": []
   },
   "source": [
    "# month known"
   ]
  },
  {
   "cell_type": "code",
   "execution_count": 45,
   "id": "7e67b8c4",
   "metadata": {
    "execution": {
     "iopub.execute_input": "2022-05-21T07:10:10.238901Z",
     "iopub.status.busy": "2022-05-21T07:10:10.238071Z",
     "iopub.status.idle": "2022-05-21T07:10:10.244242Z",
     "shell.execute_reply": "2022-05-21T07:10:10.243637Z"
    },
    "papermill": {
     "duration": 0.095762,
     "end_time": "2022-05-21T07:10:10.246248",
     "exception": false,
     "start_time": "2022-05-21T07:10:10.150486",
     "status": "completed"
    },
    "tags": []
   },
   "outputs": [],
   "source": [
    "df.drop(df[df[\"Month\"]==\"xxx\"].index, axis = 0, inplace = True)"
   ]
  },
  {
   "cell_type": "code",
   "execution_count": 46,
   "id": "97c4171d",
   "metadata": {
    "execution": {
     "iopub.execute_input": "2022-05-21T07:10:10.414915Z",
     "iopub.status.busy": "2022-05-21T07:10:10.414375Z",
     "iopub.status.idle": "2022-05-21T07:10:10.424620Z",
     "shell.execute_reply": "2022-05-21T07:10:10.423781Z"
    },
    "papermill": {
     "duration": 0.096608,
     "end_time": "2022-05-21T07:10:10.426973",
     "exception": false,
     "start_time": "2022-05-21T07:10:10.330365",
     "status": "completed"
    },
    "tags": []
   },
   "outputs": [],
   "source": [
    "df[\"Month_no\"] = pd.to_datetime(df[\"Month\"], format = \"%b\").dt.month"
   ]
  },
  {
   "cell_type": "code",
   "execution_count": 47,
   "id": "3302b1b0",
   "metadata": {
    "execution": {
     "iopub.execute_input": "2022-05-21T07:10:10.596545Z",
     "iopub.status.busy": "2022-05-21T07:10:10.595951Z",
     "iopub.status.idle": "2022-05-21T07:10:10.601446Z",
     "shell.execute_reply": "2022-05-21T07:10:10.600736Z"
    },
    "papermill": {
     "duration": 0.091802,
     "end_time": "2022-05-21T07:10:10.603504",
     "exception": false,
     "start_time": "2022-05-21T07:10:10.511702",
     "status": "completed"
    },
    "tags": []
   },
   "outputs": [],
   "source": [
    "x = df[[\"Author_code\",\"Month_no\", \"Year_Published_numerical\", \"Pages\", \"Year\"]]\n",
    "y = df[\"Favorite\"]"
   ]
  },
  {
   "cell_type": "code",
   "execution_count": 48,
   "id": "4eecbdd3",
   "metadata": {
    "execution": {
     "iopub.execute_input": "2022-05-21T07:10:10.770093Z",
     "iopub.status.busy": "2022-05-21T07:10:10.769461Z",
     "iopub.status.idle": "2022-05-21T07:10:10.775183Z",
     "shell.execute_reply": "2022-05-21T07:10:10.774558Z"
    },
    "papermill": {
     "duration": 0.091549,
     "end_time": "2022-05-21T07:10:10.777216",
     "exception": false,
     "start_time": "2022-05-21T07:10:10.685667",
     "status": "completed"
    },
    "tags": []
   },
   "outputs": [],
   "source": [
    "X_train, X_test, y_train, y_test = train_test_split(x, y, test_size = 0.3, random_state= 101 )"
   ]
  },
  {
   "cell_type": "code",
   "execution_count": 49,
   "id": "17a1f47d",
   "metadata": {
    "execution": {
     "iopub.execute_input": "2022-05-21T07:10:10.947216Z",
     "iopub.status.busy": "2022-05-21T07:10:10.946653Z",
     "iopub.status.idle": "2022-05-21T07:10:10.964355Z",
     "shell.execute_reply": "2022-05-21T07:10:10.963678Z"
    },
    "papermill": {
     "duration": 0.105489,
     "end_time": "2022-05-21T07:10:10.966449",
     "exception": false,
     "start_time": "2022-05-21T07:10:10.860960",
     "status": "completed"
    },
    "tags": []
   },
   "outputs": [
    {
     "data": {
      "text/plain": [
       "LogisticRegression()"
      ]
     },
     "execution_count": 49,
     "metadata": {},
     "output_type": "execute_result"
    }
   ],
   "source": [
    "logmodel = LogisticRegression()\n",
    "logmodel.fit(X_train, y_train)"
   ]
  },
  {
   "cell_type": "code",
   "execution_count": 50,
   "id": "d2a3a3ab",
   "metadata": {
    "execution": {
     "iopub.execute_input": "2022-05-21T07:10:11.138029Z",
     "iopub.status.busy": "2022-05-21T07:10:11.137283Z",
     "iopub.status.idle": "2022-05-21T07:10:11.143908Z",
     "shell.execute_reply": "2022-05-21T07:10:11.143307Z"
    },
    "papermill": {
     "duration": 0.09283,
     "end_time": "2022-05-21T07:10:11.145790",
     "exception": false,
     "start_time": "2022-05-21T07:10:11.052960",
     "status": "completed"
    },
    "tags": []
   },
   "outputs": [],
   "source": [
    "predictions = logmodel.predict(X_test)"
   ]
  },
  {
   "cell_type": "code",
   "execution_count": 51,
   "id": "6a002894",
   "metadata": {
    "execution": {
     "iopub.execute_input": "2022-05-21T07:10:11.317548Z",
     "iopub.status.busy": "2022-05-21T07:10:11.316655Z",
     "iopub.status.idle": "2022-05-21T07:10:11.328274Z",
     "shell.execute_reply": "2022-05-21T07:10:11.327326Z"
    },
    "papermill": {
     "duration": 0.101328,
     "end_time": "2022-05-21T07:10:11.331034",
     "exception": false,
     "start_time": "2022-05-21T07:10:11.229706",
     "status": "completed"
    },
    "tags": []
   },
   "outputs": [
    {
     "name": "stdout",
     "output_type": "stream",
     "text": [
      "              precision    recall  f1-score   support\n",
      "\n",
      "           0       0.87      1.00      0.93       314\n",
      "           1       0.00      0.00      0.00        45\n",
      "\n",
      "    accuracy                           0.87       359\n",
      "   macro avg       0.44      0.50      0.47       359\n",
      "weighted avg       0.77      0.87      0.82       359\n",
      "\n"
     ]
    },
    {
     "name": "stderr",
     "output_type": "stream",
     "text": [
      "/opt/conda/lib/python3.7/site-packages/sklearn/metrics/_classification.py:1318: UndefinedMetricWarning: Precision and F-score are ill-defined and being set to 0.0 in labels with no predicted samples. Use `zero_division` parameter to control this behavior.\n",
      "  _warn_prf(average, modifier, msg_start, len(result))\n",
      "/opt/conda/lib/python3.7/site-packages/sklearn/metrics/_classification.py:1318: UndefinedMetricWarning: Precision and F-score are ill-defined and being set to 0.0 in labels with no predicted samples. Use `zero_division` parameter to control this behavior.\n",
      "  _warn_prf(average, modifier, msg_start, len(result))\n",
      "/opt/conda/lib/python3.7/site-packages/sklearn/metrics/_classification.py:1318: UndefinedMetricWarning: Precision and F-score are ill-defined and being set to 0.0 in labels with no predicted samples. Use `zero_division` parameter to control this behavior.\n",
      "  _warn_prf(average, modifier, msg_start, len(result))\n"
     ]
    }
   ],
   "source": [
    "print(classification_report(y_test, predictions))"
   ]
  },
  {
   "cell_type": "code",
   "execution_count": 52,
   "id": "b5b18a54",
   "metadata": {
    "execution": {
     "iopub.execute_input": "2022-05-21T07:10:11.500718Z",
     "iopub.status.busy": "2022-05-21T07:10:11.500400Z",
     "iopub.status.idle": "2022-05-21T07:10:11.790075Z",
     "shell.execute_reply": "2022-05-21T07:10:11.789259Z"
    },
    "papermill": {
     "duration": 0.377516,
     "end_time": "2022-05-21T07:10:11.792696",
     "exception": false,
     "start_time": "2022-05-21T07:10:11.415180",
     "status": "completed"
    },
    "tags": []
   },
   "outputs": [
    {
     "data": {
      "text/plain": [
       "RandomForestClassifier()"
      ]
     },
     "execution_count": 52,
     "metadata": {},
     "output_type": "execute_result"
    }
   ],
   "source": [
    "RandomForest = RandomForestClassifier()\n",
    "RandomForest.fit(X_train, y_train)"
   ]
  },
  {
   "cell_type": "code",
   "execution_count": 53,
   "id": "6bb6a3a3",
   "metadata": {
    "execution": {
     "iopub.execute_input": "2022-05-21T07:10:12.002170Z",
     "iopub.status.busy": "2022-05-21T07:10:12.001432Z",
     "iopub.status.idle": "2022-05-21T07:10:12.031730Z",
     "shell.execute_reply": "2022-05-21T07:10:12.030704Z"
    },
    "papermill": {
     "duration": 0.137629,
     "end_time": "2022-05-21T07:10:12.034408",
     "exception": false,
     "start_time": "2022-05-21T07:10:11.896779",
     "status": "completed"
    },
    "tags": []
   },
   "outputs": [],
   "source": [
    "RandomForest_pred = RandomForest.predict(X_test)"
   ]
  },
  {
   "cell_type": "code",
   "execution_count": 54,
   "id": "33a23b5c",
   "metadata": {
    "execution": {
     "iopub.execute_input": "2022-05-21T07:10:12.205657Z",
     "iopub.status.busy": "2022-05-21T07:10:12.205200Z",
     "iopub.status.idle": "2022-05-21T07:10:12.214685Z",
     "shell.execute_reply": "2022-05-21T07:10:12.213830Z"
    },
    "papermill": {
     "duration": 0.097424,
     "end_time": "2022-05-21T07:10:12.216919",
     "exception": false,
     "start_time": "2022-05-21T07:10:12.119495",
     "status": "completed"
    },
    "tags": []
   },
   "outputs": [
    {
     "name": "stdout",
     "output_type": "stream",
     "text": [
      "              precision    recall  f1-score   support\n",
      "\n",
      "           0       0.88      0.98      0.93       314\n",
      "           1       0.29      0.04      0.08        45\n",
      "\n",
      "    accuracy                           0.87       359\n",
      "   macro avg       0.58      0.51      0.50       359\n",
      "weighted avg       0.80      0.87      0.82       359\n",
      "\n"
     ]
    }
   ],
   "source": [
    "print(classification_report(y_test, RandomForest_pred))"
   ]
  },
  {
   "cell_type": "code",
   "execution_count": null,
   "id": "38007e78",
   "metadata": {
    "papermill": {
     "duration": 0.088215,
     "end_time": "2022-05-21T07:10:12.391348",
     "exception": false,
     "start_time": "2022-05-21T07:10:12.303133",
     "status": "completed"
    },
    "tags": []
   },
   "outputs": [],
   "source": []
  }
 ],
 "metadata": {
  "kernelspec": {
   "display_name": "Python 3",
   "language": "python",
   "name": "python3"
  },
  "language_info": {
   "codemirror_mode": {
    "name": "ipython",
    "version": 3
   },
   "file_extension": ".py",
   "mimetype": "text/x-python",
   "name": "python",
   "nbconvert_exporter": "python",
   "pygments_lexer": "ipython3",
   "version": "3.7.12"
  },
  "papermill": {
   "default_parameters": {},
   "duration": 28.812321,
   "end_time": "2022-05-21T07:10:13.300322",
   "environment_variables": {},
   "exception": null,
   "input_path": "__notebook__.ipynb",
   "output_path": "__notebook__.ipynb",
   "parameters": {},
   "start_time": "2022-05-21T07:09:44.488001",
   "version": "2.3.4"
  }
 },
 "nbformat": 4,
 "nbformat_minor": 5
}
